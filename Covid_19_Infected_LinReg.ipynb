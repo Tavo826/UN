{
  "nbformat": 4,
  "nbformat_minor": 0,
  "metadata": {
    "kernelspec": {
      "display_name": "Python 3",
      "language": "python",
      "name": "python3"
    },
    "language_info": {
      "codemirror_mode": {
        "name": "ipython",
        "version": 3
      },
      "file_extension": ".py",
      "mimetype": "text/x-python",
      "name": "python",
      "nbconvert_exporter": "python",
      "pygments_lexer": "ipython3",
      "version": "3.7.4"
    },
    "colab": {
      "name": "Covid_19_Infected_LinReg.ipynb",
      "provenance": [],
      "collapsed_sections": [],
      "include_colab_link": true
    }
  },
  "cells": [
    {
      "cell_type": "markdown",
      "metadata": {
        "id": "view-in-github",
        "colab_type": "text"
      },
      "source": [
        "<a href=\"https://colab.research.google.com/github/Tavo826/UN/blob/main/Covid_19_Infected_LinReg.ipynb\" target=\"_parent\"><img src=\"https://colab.research.google.com/assets/colab-badge.svg\" alt=\"Open In Colab\"/></a>"
      ]
    },
    {
      "cell_type": "markdown",
      "metadata": {
        "id": "EV4wezcQwzON"
      },
      "source": [
        "# Análisis base de datos del covid-19"
      ]
    },
    {
      "cell_type": "code",
      "metadata": {
        "id": "IMIgQHhNwzOP"
      },
      "source": [
        "import pandas as pd\n",
        "import numpy as np\n",
        "import matplotlib.pyplot as plt\n",
        "import warnings\n",
        "warnings.filterwarnings('ignore')\n",
        "\n",
        "from joblib import dump\n",
        "\n",
        "from sklearn.decomposition import PCA\n",
        "from sklearn.manifold import TSNE\n",
        "\n",
        "from sklearn.model_selection import train_test_split, GridSearchCV\n",
        "from sklearn.pipeline import Pipeline\n",
        "from sklearn.metrics import mean_absolute_error\n",
        "from sklearn.preprocessing import StandardScaler\n",
        "\n",
        "from sklearn.linear_model import LinearRegression, Ridge, Lasso, ElasticNet\n",
        "from sklearn.kernel_ridge import KernelRidge\n",
        "\n",
        "from sklearn.base import BaseEstimator, TransformerMixin\n",
        "from sklearn.neighbors import KNeighborsRegressor\n",
        "\n",
        "from scipy.stats import mode\n",
        "from datetime import date\n",
        "\n",
        "# To plot pretty figures\n",
        "%matplotlib inline\n",
        "import matplotlib as mpl\n",
        "import matplotlib.pyplot as plt\n",
        "plt.rc('axes', labelsize=14)\n",
        "plt.rc('xtick', labelsize=12)\n",
        "plt.rc('ytick', labelsize=12)\n"
      ],
      "execution_count": null,
      "outputs": []
    },
    {
      "cell_type": "code",
      "metadata": {
        "id": "_O3MduMbwzOZ",
        "colab": {
          "base_uri": "https://localhost:8080/",
          "height": 256
        },
        "outputId": "b3530d39-ff37-4676-8373-b0693180bc09"
      },
      "source": [
        "# Novel\n",
        "csv_path_link = 'https://data.humdata.org/hxlproxy/api/data-preview.csv?url=https%3A%2F%2Fraw.githubusercontent.com%2FCSSEGISandData%2FCOVID-19%2Fmaster%2Fcsse_covid_19_data%2Fcsse_covid_19_time_series%2Ftime_series_covid19_confirmed_global.csv&filename=time_series_covid19_confirmed_global.csv'\n",
        "\n",
        "# Kaggle\n",
        "#csv_path_link = 'https://www.kaggle.com/sudalairajkumar/novel-corona-virus-2019-dataset#time_series_covid_19_confirmed.csv'\n",
        "\n",
        "Xdata = pd.read_csv(csv_path_link)\n",
        "Xdata.head()"
      ],
      "execution_count": null,
      "outputs": [
        {
          "output_type": "execute_result",
          "data": {
            "text/html": [
              "<div>\n",
              "<style scoped>\n",
              "    .dataframe tbody tr th:only-of-type {\n",
              "        vertical-align: middle;\n",
              "    }\n",
              "\n",
              "    .dataframe tbody tr th {\n",
              "        vertical-align: top;\n",
              "    }\n",
              "\n",
              "    .dataframe thead th {\n",
              "        text-align: right;\n",
              "    }\n",
              "</style>\n",
              "<table border=\"1\" class=\"dataframe\">\n",
              "  <thead>\n",
              "    <tr style=\"text-align: right;\">\n",
              "      <th></th>\n",
              "      <th>Province/State</th>\n",
              "      <th>Country/Region</th>\n",
              "      <th>Lat</th>\n",
              "      <th>Long</th>\n",
              "      <th>1/22/20</th>\n",
              "      <th>1/23/20</th>\n",
              "      <th>1/24/20</th>\n",
              "      <th>1/25/20</th>\n",
              "      <th>1/26/20</th>\n",
              "      <th>1/27/20</th>\n",
              "      <th>1/28/20</th>\n",
              "      <th>1/29/20</th>\n",
              "      <th>1/30/20</th>\n",
              "      <th>1/31/20</th>\n",
              "      <th>2/1/20</th>\n",
              "      <th>2/2/20</th>\n",
              "      <th>2/3/20</th>\n",
              "      <th>2/4/20</th>\n",
              "      <th>2/5/20</th>\n",
              "      <th>2/6/20</th>\n",
              "      <th>2/7/20</th>\n",
              "      <th>2/8/20</th>\n",
              "      <th>2/9/20</th>\n",
              "      <th>2/10/20</th>\n",
              "      <th>2/11/20</th>\n",
              "      <th>2/12/20</th>\n",
              "      <th>2/13/20</th>\n",
              "      <th>2/14/20</th>\n",
              "      <th>2/15/20</th>\n",
              "      <th>2/16/20</th>\n",
              "      <th>2/17/20</th>\n",
              "      <th>2/18/20</th>\n",
              "      <th>2/19/20</th>\n",
              "      <th>2/20/20</th>\n",
              "      <th>2/21/20</th>\n",
              "      <th>2/22/20</th>\n",
              "      <th>2/23/20</th>\n",
              "      <th>2/24/20</th>\n",
              "      <th>2/25/20</th>\n",
              "      <th>2/26/20</th>\n",
              "      <th>...</th>\n",
              "      <th>5/22/20</th>\n",
              "      <th>5/23/20</th>\n",
              "      <th>5/24/20</th>\n",
              "      <th>5/25/20</th>\n",
              "      <th>5/26/20</th>\n",
              "      <th>5/27/20</th>\n",
              "      <th>5/28/20</th>\n",
              "      <th>5/29/20</th>\n",
              "      <th>5/30/20</th>\n",
              "      <th>5/31/20</th>\n",
              "      <th>6/1/20</th>\n",
              "      <th>6/2/20</th>\n",
              "      <th>6/3/20</th>\n",
              "      <th>6/4/20</th>\n",
              "      <th>6/5/20</th>\n",
              "      <th>6/6/20</th>\n",
              "      <th>6/7/20</th>\n",
              "      <th>6/8/20</th>\n",
              "      <th>6/9/20</th>\n",
              "      <th>6/10/20</th>\n",
              "      <th>6/11/20</th>\n",
              "      <th>6/12/20</th>\n",
              "      <th>6/13/20</th>\n",
              "      <th>6/14/20</th>\n",
              "      <th>6/15/20</th>\n",
              "      <th>6/16/20</th>\n",
              "      <th>6/17/20</th>\n",
              "      <th>6/18/20</th>\n",
              "      <th>6/19/20</th>\n",
              "      <th>6/20/20</th>\n",
              "      <th>6/21/20</th>\n",
              "      <th>6/22/20</th>\n",
              "      <th>6/23/20</th>\n",
              "      <th>6/24/20</th>\n",
              "      <th>6/25/20</th>\n",
              "      <th>6/26/20</th>\n",
              "      <th>6/27/20</th>\n",
              "      <th>6/28/20</th>\n",
              "      <th>6/29/20</th>\n",
              "      <th>6/30/20</th>\n",
              "    </tr>\n",
              "  </thead>\n",
              "  <tbody>\n",
              "    <tr>\n",
              "      <th>0</th>\n",
              "      <td>NaN</td>\n",
              "      <td>Afghanistan</td>\n",
              "      <td>33.0000</td>\n",
              "      <td>65.0000</td>\n",
              "      <td>0</td>\n",
              "      <td>0</td>\n",
              "      <td>0</td>\n",
              "      <td>0</td>\n",
              "      <td>0</td>\n",
              "      <td>0</td>\n",
              "      <td>0</td>\n",
              "      <td>0</td>\n",
              "      <td>0</td>\n",
              "      <td>0</td>\n",
              "      <td>0</td>\n",
              "      <td>0</td>\n",
              "      <td>0</td>\n",
              "      <td>0</td>\n",
              "      <td>0</td>\n",
              "      <td>0</td>\n",
              "      <td>0</td>\n",
              "      <td>0</td>\n",
              "      <td>0</td>\n",
              "      <td>0</td>\n",
              "      <td>0</td>\n",
              "      <td>0</td>\n",
              "      <td>0</td>\n",
              "      <td>0</td>\n",
              "      <td>0</td>\n",
              "      <td>0</td>\n",
              "      <td>0</td>\n",
              "      <td>0</td>\n",
              "      <td>0</td>\n",
              "      <td>0</td>\n",
              "      <td>0</td>\n",
              "      <td>0</td>\n",
              "      <td>0</td>\n",
              "      <td>1</td>\n",
              "      <td>1</td>\n",
              "      <td>1</td>\n",
              "      <td>...</td>\n",
              "      <td>9216</td>\n",
              "      <td>9998</td>\n",
              "      <td>10582</td>\n",
              "      <td>11173</td>\n",
              "      <td>11831</td>\n",
              "      <td>12456</td>\n",
              "      <td>13036</td>\n",
              "      <td>13659</td>\n",
              "      <td>14525</td>\n",
              "      <td>15205</td>\n",
              "      <td>15750</td>\n",
              "      <td>16509</td>\n",
              "      <td>17267</td>\n",
              "      <td>18054</td>\n",
              "      <td>18969</td>\n",
              "      <td>19551</td>\n",
              "      <td>20342</td>\n",
              "      <td>20917</td>\n",
              "      <td>21459</td>\n",
              "      <td>22142</td>\n",
              "      <td>22890</td>\n",
              "      <td>23546</td>\n",
              "      <td>24102</td>\n",
              "      <td>24766</td>\n",
              "      <td>25527</td>\n",
              "      <td>26310</td>\n",
              "      <td>26874</td>\n",
              "      <td>27532</td>\n",
              "      <td>27878</td>\n",
              "      <td>28424</td>\n",
              "      <td>28833</td>\n",
              "      <td>29157</td>\n",
              "      <td>29481</td>\n",
              "      <td>29640</td>\n",
              "      <td>30175</td>\n",
              "      <td>30451</td>\n",
              "      <td>30616</td>\n",
              "      <td>30967</td>\n",
              "      <td>31238</td>\n",
              "      <td>31517</td>\n",
              "    </tr>\n",
              "    <tr>\n",
              "      <th>1</th>\n",
              "      <td>NaN</td>\n",
              "      <td>Albania</td>\n",
              "      <td>41.1533</td>\n",
              "      <td>20.1683</td>\n",
              "      <td>0</td>\n",
              "      <td>0</td>\n",
              "      <td>0</td>\n",
              "      <td>0</td>\n",
              "      <td>0</td>\n",
              "      <td>0</td>\n",
              "      <td>0</td>\n",
              "      <td>0</td>\n",
              "      <td>0</td>\n",
              "      <td>0</td>\n",
              "      <td>0</td>\n",
              "      <td>0</td>\n",
              "      <td>0</td>\n",
              "      <td>0</td>\n",
              "      <td>0</td>\n",
              "      <td>0</td>\n",
              "      <td>0</td>\n",
              "      <td>0</td>\n",
              "      <td>0</td>\n",
              "      <td>0</td>\n",
              "      <td>0</td>\n",
              "      <td>0</td>\n",
              "      <td>0</td>\n",
              "      <td>0</td>\n",
              "      <td>0</td>\n",
              "      <td>0</td>\n",
              "      <td>0</td>\n",
              "      <td>0</td>\n",
              "      <td>0</td>\n",
              "      <td>0</td>\n",
              "      <td>0</td>\n",
              "      <td>0</td>\n",
              "      <td>0</td>\n",
              "      <td>0</td>\n",
              "      <td>0</td>\n",
              "      <td>0</td>\n",
              "      <td>...</td>\n",
              "      <td>981</td>\n",
              "      <td>989</td>\n",
              "      <td>998</td>\n",
              "      <td>1004</td>\n",
              "      <td>1029</td>\n",
              "      <td>1050</td>\n",
              "      <td>1076</td>\n",
              "      <td>1099</td>\n",
              "      <td>1122</td>\n",
              "      <td>1137</td>\n",
              "      <td>1143</td>\n",
              "      <td>1164</td>\n",
              "      <td>1184</td>\n",
              "      <td>1197</td>\n",
              "      <td>1212</td>\n",
              "      <td>1232</td>\n",
              "      <td>1246</td>\n",
              "      <td>1263</td>\n",
              "      <td>1299</td>\n",
              "      <td>1341</td>\n",
              "      <td>1385</td>\n",
              "      <td>1416</td>\n",
              "      <td>1464</td>\n",
              "      <td>1521</td>\n",
              "      <td>1590</td>\n",
              "      <td>1672</td>\n",
              "      <td>1722</td>\n",
              "      <td>1788</td>\n",
              "      <td>1838</td>\n",
              "      <td>1891</td>\n",
              "      <td>1962</td>\n",
              "      <td>1995</td>\n",
              "      <td>2047</td>\n",
              "      <td>2114</td>\n",
              "      <td>2192</td>\n",
              "      <td>2269</td>\n",
              "      <td>2330</td>\n",
              "      <td>2402</td>\n",
              "      <td>2466</td>\n",
              "      <td>2535</td>\n",
              "    </tr>\n",
              "    <tr>\n",
              "      <th>2</th>\n",
              "      <td>NaN</td>\n",
              "      <td>Algeria</td>\n",
              "      <td>28.0339</td>\n",
              "      <td>1.6596</td>\n",
              "      <td>0</td>\n",
              "      <td>0</td>\n",
              "      <td>0</td>\n",
              "      <td>0</td>\n",
              "      <td>0</td>\n",
              "      <td>0</td>\n",
              "      <td>0</td>\n",
              "      <td>0</td>\n",
              "      <td>0</td>\n",
              "      <td>0</td>\n",
              "      <td>0</td>\n",
              "      <td>0</td>\n",
              "      <td>0</td>\n",
              "      <td>0</td>\n",
              "      <td>0</td>\n",
              "      <td>0</td>\n",
              "      <td>0</td>\n",
              "      <td>0</td>\n",
              "      <td>0</td>\n",
              "      <td>0</td>\n",
              "      <td>0</td>\n",
              "      <td>0</td>\n",
              "      <td>0</td>\n",
              "      <td>0</td>\n",
              "      <td>0</td>\n",
              "      <td>0</td>\n",
              "      <td>0</td>\n",
              "      <td>0</td>\n",
              "      <td>0</td>\n",
              "      <td>0</td>\n",
              "      <td>0</td>\n",
              "      <td>0</td>\n",
              "      <td>0</td>\n",
              "      <td>0</td>\n",
              "      <td>1</td>\n",
              "      <td>1</td>\n",
              "      <td>...</td>\n",
              "      <td>7918</td>\n",
              "      <td>8113</td>\n",
              "      <td>8306</td>\n",
              "      <td>8503</td>\n",
              "      <td>8697</td>\n",
              "      <td>8857</td>\n",
              "      <td>8997</td>\n",
              "      <td>9134</td>\n",
              "      <td>9267</td>\n",
              "      <td>9394</td>\n",
              "      <td>9513</td>\n",
              "      <td>9626</td>\n",
              "      <td>9733</td>\n",
              "      <td>9831</td>\n",
              "      <td>9935</td>\n",
              "      <td>10050</td>\n",
              "      <td>10154</td>\n",
              "      <td>10265</td>\n",
              "      <td>10382</td>\n",
              "      <td>10484</td>\n",
              "      <td>10589</td>\n",
              "      <td>10698</td>\n",
              "      <td>10810</td>\n",
              "      <td>10919</td>\n",
              "      <td>11031</td>\n",
              "      <td>11147</td>\n",
              "      <td>11268</td>\n",
              "      <td>11385</td>\n",
              "      <td>11504</td>\n",
              "      <td>11631</td>\n",
              "      <td>11771</td>\n",
              "      <td>11920</td>\n",
              "      <td>12076</td>\n",
              "      <td>12248</td>\n",
              "      <td>12445</td>\n",
              "      <td>12685</td>\n",
              "      <td>12968</td>\n",
              "      <td>13273</td>\n",
              "      <td>13571</td>\n",
              "      <td>13907</td>\n",
              "    </tr>\n",
              "    <tr>\n",
              "      <th>3</th>\n",
              "      <td>NaN</td>\n",
              "      <td>Andorra</td>\n",
              "      <td>42.5063</td>\n",
              "      <td>1.5218</td>\n",
              "      <td>0</td>\n",
              "      <td>0</td>\n",
              "      <td>0</td>\n",
              "      <td>0</td>\n",
              "      <td>0</td>\n",
              "      <td>0</td>\n",
              "      <td>0</td>\n",
              "      <td>0</td>\n",
              "      <td>0</td>\n",
              "      <td>0</td>\n",
              "      <td>0</td>\n",
              "      <td>0</td>\n",
              "      <td>0</td>\n",
              "      <td>0</td>\n",
              "      <td>0</td>\n",
              "      <td>0</td>\n",
              "      <td>0</td>\n",
              "      <td>0</td>\n",
              "      <td>0</td>\n",
              "      <td>0</td>\n",
              "      <td>0</td>\n",
              "      <td>0</td>\n",
              "      <td>0</td>\n",
              "      <td>0</td>\n",
              "      <td>0</td>\n",
              "      <td>0</td>\n",
              "      <td>0</td>\n",
              "      <td>0</td>\n",
              "      <td>0</td>\n",
              "      <td>0</td>\n",
              "      <td>0</td>\n",
              "      <td>0</td>\n",
              "      <td>0</td>\n",
              "      <td>0</td>\n",
              "      <td>0</td>\n",
              "      <td>0</td>\n",
              "      <td>...</td>\n",
              "      <td>762</td>\n",
              "      <td>762</td>\n",
              "      <td>762</td>\n",
              "      <td>763</td>\n",
              "      <td>763</td>\n",
              "      <td>763</td>\n",
              "      <td>763</td>\n",
              "      <td>764</td>\n",
              "      <td>764</td>\n",
              "      <td>764</td>\n",
              "      <td>765</td>\n",
              "      <td>844</td>\n",
              "      <td>851</td>\n",
              "      <td>852</td>\n",
              "      <td>852</td>\n",
              "      <td>852</td>\n",
              "      <td>852</td>\n",
              "      <td>852</td>\n",
              "      <td>852</td>\n",
              "      <td>852</td>\n",
              "      <td>852</td>\n",
              "      <td>853</td>\n",
              "      <td>853</td>\n",
              "      <td>853</td>\n",
              "      <td>853</td>\n",
              "      <td>854</td>\n",
              "      <td>854</td>\n",
              "      <td>855</td>\n",
              "      <td>855</td>\n",
              "      <td>855</td>\n",
              "      <td>855</td>\n",
              "      <td>855</td>\n",
              "      <td>855</td>\n",
              "      <td>855</td>\n",
              "      <td>855</td>\n",
              "      <td>855</td>\n",
              "      <td>855</td>\n",
              "      <td>855</td>\n",
              "      <td>855</td>\n",
              "      <td>855</td>\n",
              "    </tr>\n",
              "    <tr>\n",
              "      <th>4</th>\n",
              "      <td>NaN</td>\n",
              "      <td>Angola</td>\n",
              "      <td>-11.2027</td>\n",
              "      <td>17.8739</td>\n",
              "      <td>0</td>\n",
              "      <td>0</td>\n",
              "      <td>0</td>\n",
              "      <td>0</td>\n",
              "      <td>0</td>\n",
              "      <td>0</td>\n",
              "      <td>0</td>\n",
              "      <td>0</td>\n",
              "      <td>0</td>\n",
              "      <td>0</td>\n",
              "      <td>0</td>\n",
              "      <td>0</td>\n",
              "      <td>0</td>\n",
              "      <td>0</td>\n",
              "      <td>0</td>\n",
              "      <td>0</td>\n",
              "      <td>0</td>\n",
              "      <td>0</td>\n",
              "      <td>0</td>\n",
              "      <td>0</td>\n",
              "      <td>0</td>\n",
              "      <td>0</td>\n",
              "      <td>0</td>\n",
              "      <td>0</td>\n",
              "      <td>0</td>\n",
              "      <td>0</td>\n",
              "      <td>0</td>\n",
              "      <td>0</td>\n",
              "      <td>0</td>\n",
              "      <td>0</td>\n",
              "      <td>0</td>\n",
              "      <td>0</td>\n",
              "      <td>0</td>\n",
              "      <td>0</td>\n",
              "      <td>0</td>\n",
              "      <td>0</td>\n",
              "      <td>...</td>\n",
              "      <td>60</td>\n",
              "      <td>61</td>\n",
              "      <td>69</td>\n",
              "      <td>70</td>\n",
              "      <td>70</td>\n",
              "      <td>71</td>\n",
              "      <td>74</td>\n",
              "      <td>81</td>\n",
              "      <td>84</td>\n",
              "      <td>86</td>\n",
              "      <td>86</td>\n",
              "      <td>86</td>\n",
              "      <td>86</td>\n",
              "      <td>86</td>\n",
              "      <td>86</td>\n",
              "      <td>88</td>\n",
              "      <td>91</td>\n",
              "      <td>92</td>\n",
              "      <td>96</td>\n",
              "      <td>113</td>\n",
              "      <td>118</td>\n",
              "      <td>130</td>\n",
              "      <td>138</td>\n",
              "      <td>140</td>\n",
              "      <td>142</td>\n",
              "      <td>148</td>\n",
              "      <td>155</td>\n",
              "      <td>166</td>\n",
              "      <td>172</td>\n",
              "      <td>176</td>\n",
              "      <td>183</td>\n",
              "      <td>186</td>\n",
              "      <td>189</td>\n",
              "      <td>197</td>\n",
              "      <td>212</td>\n",
              "      <td>212</td>\n",
              "      <td>259</td>\n",
              "      <td>267</td>\n",
              "      <td>276</td>\n",
              "      <td>284</td>\n",
              "    </tr>\n",
              "  </tbody>\n",
              "</table>\n",
              "<p>5 rows × 165 columns</p>\n",
              "</div>"
            ],
            "text/plain": [
              "  Province/State Country/Region      Lat  ...  6/28/20  6/29/20  6/30/20\n",
              "0            NaN    Afghanistan  33.0000  ...    30967    31238    31517\n",
              "1            NaN        Albania  41.1533  ...     2402     2466     2535\n",
              "2            NaN        Algeria  28.0339  ...    13273    13571    13907\n",
              "3            NaN        Andorra  42.5063  ...      855      855      855\n",
              "4            NaN         Angola -11.2027  ...      267      276      284\n",
              "\n",
              "[5 rows x 165 columns]"
            ]
          },
          "metadata": {
            "tags": []
          },
          "execution_count": 2
        }
      ]
    },
    {
      "cell_type": "code",
      "metadata": {
        "id": "w7HA3OSlwzOt",
        "colab": {
          "base_uri": "https://localhost:8080/",
          "height": 109
        },
        "outputId": "b980a5f3-f09d-46da-ae54-48bc4282787f"
      },
      "source": [
        "def window(serie, w=5):\n",
        "    pi =0\n",
        "    pf = w\n",
        "    X = serie[pi:pf].reshape(1,-1)\n",
        "    y = serie[pf].reshape(1,-1)\n",
        "    pi += 1\n",
        "    pf += 1\n",
        "    while pf+1 <= serie.shape[0]:\n",
        "        X = np.append(X,serie[pi:pf].reshape(1,-1),axis=0)\n",
        "        y = np.append(y,serie[pf].reshape(1,-1),axis=0)\n",
        "        pi += 1\n",
        "        pf += 1\n",
        "    return X, y # X \\in Real^{N x P = w}, y \\in Real^N\n",
        "\n",
        "#Contagios acumulados\n",
        "serie = np.array(Xdata.iloc[\n",
        "    np.where(Xdata[Xdata.columns[1]] == 'Colombia')[0][0], 4:])\n",
        "\n",
        "#Contagios por día\n",
        "serie_d = np.append(0, np.diff(serie))\n",
        "\n",
        "#Ventaneo\n",
        "w = 5\n",
        "X,y = window(serie, w)\n",
        "Xd,yd = window(serie_d, w)\n",
        "\n",
        "print('Serie:', serie.shape)\n",
        "print('X:', X.shape)\n",
        "print('y:', y.shape)\n",
        "print('Xd:', Xd.shape)\n",
        "print('Xd:', yd.shape)"
      ],
      "execution_count": null,
      "outputs": [
        {
          "output_type": "stream",
          "text": [
            "Serie: (161,)\n",
            "X: (156, 5)\n",
            "y: (156, 1)\n",
            "Xd: (156, 5)\n",
            "Xd: (156, 1)\n"
          ],
          "name": "stdout"
        }
      ]
    },
    {
      "cell_type": "code",
      "metadata": {
        "id": "ITT_ji_Ob0kU",
        "colab": {
          "base_uri": "https://localhost:8080/",
          "height": 348
        },
        "outputId": "197f487a-933d-44da-b410-26c8cbcbe810"
      },
      "source": [
        "print(serie)\n",
        "print(serie_d)"
      ],
      "execution_count": null,
      "outputs": [
        {
          "output_type": "stream",
          "text": [
            "[0 0 0 0 0 0 0 0 0 0 0 0 0 0 0 0 0 0 0 0 0 0 0 0 0 0 0 0 0 0 0 0 0 0 0 0 0\n",
            " 0 0 0 0 0 0 0 1 1 1 1 3 9 9 13 22 34 54 65 93 102 128 196 231 277 378 470\n",
            " 491 539 608 702 798 906 1065 1161 1267 1406 1485 1579 1780 2054 2223 2473\n",
            " 2709 2776 2852 2979 3105 3233 3439 3439 3792 3977 4149 4356 4561 4881\n",
            " 5142 5379 5597 5949 6207 6507 7006 7285 7668 7973 8613 8959 9456 10051\n",
            " 10495 11063 11613 12272 12930 13610 14216 14939 15574 16295 16935 17687\n",
            " 18330 19131 20177 21175 21981 23003 24104 24141 25406 26734 27219 29384\n",
            " 30593 31935 33466 36759 36759 38149 40847 40847 42206 43810 45344 46994\n",
            " 48896 53168 53211 55083 57202 60387 63454 68836 71367 73760 73760 77313\n",
            " 80811 84660 91995 91995 95269]\n",
            "[0 0 0 0 0 0 0 0 0 0 0 0 0 0 0 0 0 0 0 0 0 0 0 0 0 0 0 0 0 0 0 0 0 0 0 0 0\n",
            " 0 0 0 0 0 0 0 1 0 0 0 2 6 0 4 9 12 20 11 28 9 26 68 35 46 101 92 21 48 69\n",
            " 94 96 108 159 96 106 139 79 94 201 274 169 250 236 67 76 127 126 128 206\n",
            " 0 353 185 172 207 205 320 261 237 218 352 258 300 499 279 383 305 640 346\n",
            " 497 595 444 568 550 659 658 680 606 723 635 721 640 752 643 801 1046 998\n",
            " 806 1022 1101 37 1265 1328 485 2165 1209 1342 1531 3293 0 1390 2698 0\n",
            " 1359 1604 1534 1650 1902 4272 43 1872 2119 3185 3067 5382 2531 2393 0\n",
            " 3553 3498 3849 7335 0 3274]\n"
          ],
          "name": "stdout"
        }
      ]
    },
    {
      "cell_type": "code",
      "metadata": {
        "id": "myQ09o1FwzO6",
        "colab": {
          "base_uri": "https://localhost:8080/",
          "height": 524
        },
        "outputId": "3c4157cd-4d66-4553-8e40-1b568d268298"
      },
      "source": [
        "# Plotendo la curva\n",
        "\n",
        "plt.plot(serie, 'b')\n",
        "plt.plot(y, 'orange')\n",
        "plt.figure()\n",
        "plt.plot(yd)\n",
        "plt.show()"
      ],
      "execution_count": null,
      "outputs": [
        {
          "output_type": "display_data",
          "data": {
            "image/png": "[encoded data removed]",
            "text/plain": [
              "<Figure size 432x288 with 1 Axes>"
            ]
          },
          "metadata": {
            "tags": [],
            "needs_background": "light"
          }
        },
        {
          "output_type": "display_data",
          "data": {
            "image/png": "[encoded data removed]",
            "text/plain": [
              "<Figure size 432x288 with 1 Axes>"
            ]
          },
          "metadata": {
            "tags": [],
            "needs_background": "light"
          }
        }
      ]
    },
    {
      "cell_type": "markdown",
      "metadata": {
        "id": "3s92yfifwzPD"
      },
      "source": [
        "# Análisis Exploratorio"
      ]
    },
    {
      "cell_type": "code",
      "metadata": {
        "id": "NwpzBz38wzPE",
        "colab": {
          "base_uri": "https://localhost:8080/",
          "height": 1000
        },
        "outputId": "ac32900c-c782-4d89-acc6-bdc6c3ae155b"
      },
      "source": [
        "red_pca = PCA(n_components=None, \n",
        "              copy=True, \n",
        "              whiten=False, \n",
        "              svd_solver='auto', \n",
        "              tol=0.0, \n",
        "              iterated_power='auto', \n",
        "              random_state=None)\n",
        "\n",
        "red_d_pca = PCA(n_components=None, \n",
        "              copy=True, \n",
        "              whiten=False, \n",
        "              svd_solver='auto', \n",
        "              tol=0.0, \n",
        "              iterated_power='auto', \n",
        "              random_state=None)\n",
        "\n",
        "red_tsne = TSNE(n_components=2, \n",
        "                perplexity=30.0, \n",
        "                early_exaggeration=12.0, \n",
        "                learning_rate=200.0, \n",
        "                n_iter=1000, \n",
        "                n_iter_without_progress=300, \n",
        "                min_grad_norm=1e-07, \n",
        "                metric='euclidean', \n",
        "                init='random', \n",
        "                verbose=0, \n",
        "                random_state=None, \n",
        "                method='barnes_hut', \n",
        "                angle=0.5, \n",
        "                n_jobs=None)\n",
        "\n",
        "red_d_tsne = TSNE(n_components=2, \n",
        "                perplexity=30.0, \n",
        "                early_exaggeration=12.0, \n",
        "                learning_rate=200.0, \n",
        "                n_iter=1000, \n",
        "                n_iter_without_progress=300, \n",
        "                min_grad_norm=1e-07, \n",
        "                metric='euclidean', \n",
        "                init='random', \n",
        "                verbose=0, \n",
        "                random_state=None, \n",
        "                method='barnes_hut', \n",
        "                angle=0.5, \n",
        "                n_jobs=None)\n",
        "\n",
        "z_pca = red_pca.fit_transform(X)\n",
        "zd_pca = red_d_pca.fit_transform(Xd)\n",
        "z_tsne = red_tsne.fit_transform(X)\n",
        "zd_tsne = red_d_tsne.fit_transform(Xd)\n",
        "\n",
        "plt.figure()\n",
        "plt.scatter(z_pca[:,0],z_pca[:,1], c=y[:,0])\n",
        "plt.colorbar()\n",
        "plt.title('PCA acumulados')\n",
        "\n",
        "plt.figure()\n",
        "plt.scatter(zd_pca[:,0],zd_pca[:,1], c=yd[:,0])\n",
        "plt.colorbar()\n",
        "plt.title('PCA días')\n",
        "\n",
        "plt.figure()\n",
        "plt.scatter(z_tsne[:,0],z_tsne[:,1], c=y[:,0])\n",
        "plt.colorbar()\n",
        "plt.title('TSNE acumulados')\n",
        "\n",
        "plt.figure()\n",
        "plt.scatter(zd_tsne[:,0],zd_tsne[:,1], c=yd[:,0])\n",
        "plt.colorbar()\n",
        "plt.title('TSNE días')\n",
        "\n",
        "plt.show()"
      ],
      "execution_count": null,
      "outputs": [
        {
          "output_type": "display_data",
          "data": {
            "image/png": "[encoded data removed]",
            "text/plain": [
              "<Figure size 432x288 with 2 Axes>"
            ]
          },
          "metadata": {
            "tags": [],
            "needs_background": "light"
          }
        },
        {
          "output_type": "display_data",
          "data": {
            "image/png": "[encoded data removed]",
            "text/plain": [
              "<Figure size 432x288 with 2 Axes>"
            ]
          },
          "metadata": {
            "tags": [],
            "needs_background": "light"
          }
        },
        {
          "output_type": "display_data",
          "data": {
            "image/png": "[encoded data removed]",
            "text/plain": [
              "<Figure size 432x288 with 2 Axes>"
            ]
          },
          "metadata": {
            "tags": [],
            "needs_background": "light"
          }
        },
        {
          "output_type": "display_data",
          "data": {
            "image/png": "[encoded data removed]",
            "text/plain": [
              "<Figure size 432x288 with 2 Axes>"
            ]
          },
          "metadata": {
            "tags": [],
            "needs_background": "light"
          }
        }
      ]
    },
    {
      "cell_type": "markdown",
      "metadata": {
        "id": "S3_ehfRmwzPM"
      },
      "source": [
        "Se pretende ajustar los hiperparámetros de algunos regresores lineales:\n",
        "\n",
        "* Regresor lineal (mínimos cuadrados o máxima verisimilitud)\n",
        "* Regresor Ridge (Regresión bayesiana al ruido isotrópico o regularización de tikonov)\n",
        "* Regresor Lasso (en vez de norma 2, pone norma 1)\n",
        "* ElasticNet (mezcla de las 2 normas)\n",
        "* Kernel Ridge (aplica kernel trick)\n",
        "\n",
        "Esto con el fin de poder realizar predicciones en el ventaneo anteriormente hecho, y así, estimar el valor del día siguiente de cada una de las ventanas.\n",
        "\n",
        "A continuación se profundiza en el funcionamiento de cada uno de estos regresores.\n",
        "\n",
        "### Regresor Lineal\n",
        "\n",
        "Este regresor ajusta un modelo con con coeficientes $\\theta = ({\\theta}_{1}, ...,{\\theta}_{p})$ para minimizar la suma residual de cuadrados entre los objetvos observados en el dataset, y los objetivos predichos por la aproximación lineal.\n",
        "\n",
        "La salida estimada de este regresor se da por \n",
        "\n",
        "\\begin{equation}\n",
        "    \\hat{y} = F(X|\\theta) = X\\theta = {\\theta}_{0}+{\\theta}_{1}{x}_{1}+{\\theta}_{2}{x}_{2}+...+{\\theta}_{n}{x}_{n}\n",
        "\\end{equation}\n",
        "\n",
        "\n",
        "* $\\hat{y}$ es el valor predicho\n",
        "* n es el número de características\n",
        "* ${x}_{i}$ es el valor de la iésima característica\n",
        "* ${\\theta}_{j}$ es el parámetro jotaésimo del modelo (incluyendo el término de sesgo ${\\theta}_{0}$ y los pesos de las características ${\\theta}_{1},{\\theta}_{2},...,{\\theta}_{n}$)\n",
        "\n",
        "Para entrenar el modelo, se debe tener una medida que describa que tan bien se está ajustando el conjunto de entrenamiento. Para esto se usa el Root Mean Square Error (RMSE), y se busca un $\\theta$ que minimice este valor, para eso, solo se debe minimizar el Mean Square Error (MSE)\n",
        "\n",
        "\\begin{equation}\n",
        "    MSE(X,{h}_{\\theta})=MSE(\\theta)=\\frac{1}{m}\\sum_{i=1}^{m}(\\theta^{T}x^{(i)}-y^{(i)})^{2}\n",
        "\\end{equation}\n",
        "\n",
        "El error se calcula como ${{\\left\\|y - \\hat{y}\\right\\|}_{2}}^{2}$\n",
        "\n",
        "La función de coste se da como ${\\theta}^{*} = \\underset{min}{arg} l(y, f(X(\\theta))$\n",
        "\n",
        "Para encontrar el $\\theta$ que minimice la función de costo, se utilizan mínimos cuadrados, si el modelo lineal tiene un error, se usa la máxima verosimilitud, ambos dan como resultado $\\theta = {({X}^{T}X)}^{-1}{X}^{T}y$\n",
        "\n",
        "### Regresor Ridge\n",
        "\n",
        "Es una versión regularizada de la regresión lineal, se añade un término de regularización a la función de costo igual a $\\alpha \\sum_{i=1}^{n} {\\theta}_{i}^{2}$ que también se puede ver como $\\alpha{{\\left\\|\\theta\\right\\|}_{2}}^{2}$ también llamado regularización Tikonov. Esto fuerza al modelo, no solo a ajustar los datos, sino a mantener los pesos del modelo lo más pequeños que sea posible. El término de regularización debe agregarse solamente a la función de costo durante el entrenamiento. Una vez que el modelo está entrenado, se quiere evaluar el rendimiento del modelos usando la medida de rendimiento no-regularizada.\n",
        "\n",
        "El hiperparámetro $\\alpha$ controla cuánto se quiere regularizar el modelo. Si $\\alpha=0$, entonces la Ridge Regression es simplemente una Linear Regression. SI $\\alpha$ es muy grande, todos los pesos estarán muy cerca de cero y el resultado es una línea delgada que va a través de la media de los datos.\n",
        "\n",
        "\\begin{equation}\n",
        "        {\\theta}^{*}=MSE(\\theta) + \\alpha\\frac{1}{2}\\sum_{i=1}^{n} {\\theta}_{i}^{2} = \\underset{min}{arg} {{\\left\\|y - \\hat{y}\\right\\|}_{2}}^{2} + \\alpha{{\\left\\|\\theta\\right\\|}_{2}}^{2}\n",
        "\\end{equation}\n",
        "\n",
        "El término de bias ${\\theta}_{0}$ no está regularizado (la suma comienza en i=1, y no en 0). Si se define **w** como el vector de pesos de características (${\\theta}_{1}$ a ${\\theta}_{n}$), entonces el término de regularización es igual a $\\frac{1}{2}{{(\\parallel w\\parallel_2)}}^{2}$, donde ${\\parallel w \\parallel}_{2}$ representa la norma ${\\ell}_{2}$ del vector de peso.\n",
        "\n",
        "**Es importante escalar los datos antes de utilizar Ride Regression**\n",
        "\n",
        "### Regresor Lasso\n",
        "\n",
        "Añade un término de regularización a la función de coste, pero usa la norma ${\\ell}_{1}$ del vector de pesos en lugar del cuadrado de la norma ${\\ell}_{2}$\n",
        "\n",
        "\\begin{equation}\n",
        "    {\\theta}^{*} = MSE(\\theta) + \\alpha \\sum_{i=1}^{n} \\mid {\\theta}_{i} \\mid = \\underset{min}{arg} {{\\left\\|y - \\hat{y}\\right\\|}_{2}}^{2} + \\alpha{\\left\\|\\theta\\right\\|}_{1}\n",
        "\\end{equation}\n",
        "\n",
        "### Elastic Net\n",
        "\n",
        "Es un punto medio entre Ride Regression y Lasso Regression. El término de regularización es una mezcla de los términos de cada una de las regresiones y puede controlarse el radio de mezcla r.\n",
        "\n",
        "\\begin{equation}\n",
        "    {\\theta}^{*} = MSE(\\theta) + r\\alpha \\sum_{i=1}^{n} \\mid {\\theta}_{i} \\mid + \\frac{1-r}{2}\\alpha \\sum_{i=1}^{n} {\\theta_i}^{2} = \\underset{min}{arg} {{\\left\\|y - \\hat{y}\\right\\|}_{2}}^{2} + r\\alpha{\\left\\|\\theta\\right\\|}_{1} + \\frac{1-r}{2}\\alpha{{\\left\\|\\theta\\right\\|}_{2}}^{2}\n",
        "\\end{equation}\n",
        "\n",
        "### Kernel Ridge\n",
        "\n",
        "Esta regresión combina **Ridge Regression** con el kernel trick\n",
        "\n",
        "* Kernel Trick: permite operar en un espacio de características multidimensional sin calcular las coordenadas de los datos en ese espacio, sino simplemente calculando los productos internos entre las imágenes de todos los pares de datos en el espacio de características. $k(x,{x}^{\\prime}) = \\langle\\varphi(x),\\varphi({x}^{\\prime})\\rangle = {\\varphi(x)}^{T} \\varphi({x}^{\\prime})$\n",
        "\n",
        "\n",
        "Por lo tanto, aprende una función lineal en el espacio inducida por el kernel respectivo y los datos. Para kernels no lineales, esto corresponde a una función no lineal en el espacio original.\n",
        "\n",
        "Como función de pérdida se usa el error al cuadrado."
      ]
    },
    {
      "cell_type": "markdown",
      "metadata": {
        "id": "pShJvqDEwzPO"
      },
      "source": [
        "# Contagios acumulados"
      ]
    },
    {
      "cell_type": "code",
      "metadata": {
        "id": "miR3GHiowzPP"
      },
      "source": [
        "#Clase t-SNE\n",
        "\n",
        "class tsne_map(BaseEstimator, TransformerMixin):\n",
        "    def __init__(self, n_components=2, perplexity=10, n_neighbors=3):\n",
        "        self.n_components = n_components\n",
        "        self.perplexity = perplexity\n",
        "        self.n_neighbors = n_neighbors\n",
        "        return None\n",
        "        \n",
        "    def fit(self, X, *_):\n",
        "        red = TSNE(n_components = self.n_components, perplexity = self.perplexity)\n",
        "        z = red.fit_transform(X)\n",
        "        \n",
        "        self.neigh = KNeighborsRegressor(n_neighbors = self.n_neighbors)\n",
        "        self.neigh.fit(X, z)\n",
        "        return self\n",
        "    \n",
        "    def transform(self, X, *_):\n",
        "        return self.neigh.predict(X)\n",
        "    \n",
        "    def fit_transform(self, X, *_):\n",
        "        self.fit(X)\n",
        "        red = TSNE(n_components = self.n_components, perplexity = self.perplexity)\n",
        "        return self.transform(X)"
      ],
      "execution_count": null,
      "outputs": []
    },
    {
      "cell_type": "code",
      "metadata": {
        "id": "GMO6WW4_wzPX"
      },
      "source": [
        "steps = [\n",
        "    \n",
        "    [('scaler', StandardScaler()),\n",
        "    ('rep', PCA()),\n",
        "    ('reg', LinearRegression(fit_intercept = 'False'))],\n",
        "    \n",
        "    [('scaler', StandardScaler()),\n",
        "    ('rep', PCA()),\n",
        "    ('reg', LinearRegression())],\n",
        "    \n",
        "    [('scaler', StandardScaler()),\n",
        "    ('rep', PCA()),\n",
        "    ('reg', Ridge())],\n",
        "    \n",
        "    [('scaler', StandardScaler()),\n",
        "    ('rep', PCA()),\n",
        "    ('reg', Lasso())],\n",
        "    \n",
        "    [('scaler', StandardScaler()),\n",
        "    ('rep', PCA()),\n",
        "    ('reg', ElasticNet())],\n",
        "    \n",
        "    [('scaler', StandardScaler()),\n",
        "    ('rep', PCA()),\n",
        "    ('reg', KernelRidge(kernel = 'rbf'))],\n",
        "    \n",
        "    [('scaler', StandardScaler()),\n",
        "    ('rep', PCA()),\n",
        "    ('reg', KernelRidge(kernel = 'sigmoid'))],\n",
        "    \n",
        "    [('scaler', StandardScaler()),\n",
        "    ('rep', PCA()),\n",
        "    ('reg', KernelRidge(kernel = 'laplacian'))],\n",
        "    \n",
        "    [('scaler', StandardScaler()),\n",
        "    ('rep', tsne_map(n_components = 2,  \n",
        "                     perplexity = 10, \n",
        "                     n_neighbors = 3)),\n",
        "    ('reg', KernelRidge(kernel = 'sigmoid'))],\n",
        "    \n",
        "    \n",
        "]\n",
        "\n",
        "params = [\n",
        "    \n",
        "    {'rep__n_components': [0.1, 0.5, 0.9],\n",
        "    },\n",
        "    \n",
        "    {'rep__n_components': [0.1, 0.5, 0.9],\n",
        "    },\n",
        "    \n",
        "    {'rep__n_components': [0.1, 0.5, 0.9],\n",
        "     'reg__alpha': np.linspace(0.1,1,10)     \n",
        "    },\n",
        "    \n",
        "    {'rep__n_components': [0.1, 0.5, 0.9],\n",
        "     'reg__alpha': np.linspace(0.1,1,5)\n",
        "    }, #max_iter por defecto 1000\n",
        "    \n",
        "    {'rep__n_components': [0.1, 0.5, 0.9],\n",
        "     'reg__alpha': np.linspace(0.1,1,5),\n",
        "     'reg__l1_ratio': np.linspace(0.1,1,5)\n",
        "    }, #max_iter por defecto 1000\n",
        "    \n",
        "    {'rep__n_components': [0.1, 0.5, 0.9],\n",
        "     'reg__alpha': np.linspace(0.1,1,5),\n",
        "     'reg__gamma': np.linspace(0.1,1,5),\n",
        "    },\n",
        "    \n",
        "    {'rep__n_components': [0.1, 0.5, 0.9],\n",
        "     'reg__alpha': np.linspace(0.1,1,5),\n",
        "     'reg__gamma': np.linspace(0.1,1,5),\n",
        "    },\n",
        "    \n",
        "    {'rep__n_components': [0.1, 0.5, 0.9],\n",
        "     'reg__alpha': np.linspace(0.1,1,5),\n",
        "     'reg__gamma': np.linspace(0.1,1,5),\n",
        "    },    \n",
        "\n",
        "    {'reg__alpha': [0.1, 0.5, 0.9],\n",
        "     'reg__gamma': np.linspace(0.1,1,5),\n",
        "    }\n",
        "    \n",
        "]\n",
        "\n",
        "\n",
        "label_model = ['Linear', 'Linear fit', 'Ridge', 'Lasso', 'Elastic', \n",
        "               'Kernel rbf', 'Kernel sigmoid', 'Kernel laplacian', 'Kernel sigmoid t-sne']"
      ],
      "execution_count": null,
      "outputs": []
    },
    {
      "cell_type": "markdown",
      "metadata": {
        "id": "Z1a7xNCfwzPe"
      },
      "source": [
        "Como son muy pocos datos, se debe hacer validación cruzada anidada"
      ]
    },
    {
      "cell_type": "code",
      "metadata": {
        "scrolled": true,
        "id": "VrM-iD0fwzPg",
        "outputId": "6d946606-e2c9-421b-a86d-727eb743c7a6"
      },
      "source": [
        "Niter = 10 #Número de particiones\n",
        "mae = np.zeros((Niter, len(steps))) #Error absoluto\n",
        "best_estimators = Niter*[len(steps)*[None]]\n",
        "best_hyperparams = Niter*[len(steps)*[None]]\n",
        "\n",
        "for j in range(Niter):\n",
        "    \n",
        "    print(\"Iteración %d/%d\" %(j+1, Niter))\n",
        "    Xtrain, Xtest, ytrain, ytest = train_test_split(\n",
        "        X,y,test_size=0.3) #Xtrain(70%) ytrain(30%)\n",
        "    \n",
        "    #Recorre los modelos\n",
        "    for r in range(len(steps)):\n",
        "        \n",
        "        grid_search = GridSearchCV(Pipeline(steps[r]), params[r],\n",
        "                cv=5, verbose=5, scoring='neg_mean_absolute_error', n_jobs=4)\n",
        "        \n",
        "        #Entrenando\n",
        "        grid_search.fit(Xtrain, ytrain)\n",
        "        \n",
        "        #Realizando predicción con el mejor modelo\n",
        "        ypred = grid_search.best_estimator_.predict(Xtest)\n",
        "        \n",
        "        #Guardando el mejor modelo\n",
        "        best_estimators[j][r] = grid_search.best_estimator_\n",
        "        \n",
        "        #Guardando los mejores hiperparámetros\n",
        "        best_hyperparams[j][r] = grid_search.best_params_\n",
        "        \n",
        "        #Guardando error\n",
        "        mae[j,r] = mean_absolute_error(ytest, ypred)\n",
        "        \n",
        "        print('it %d/%d-Modelo %d/%d'%(j+1,Niter,r+1,len(steps)))\n",
        "        print('mae:',mae[j,r])\n",
        "\n",
        "        savedata = {\n",
        "            'acc':mae,\n",
        "            'best_models':best_estimators,\n",
        "            'best_parameters':best_hyperparams,\n",
        "              } \n",
        "        dump(savedata,'covid19_1.joblib')"
      ],
      "execution_count": null,
      "outputs": [
        {
          "output_type": "stream",
          "text": [
            "Iteración 1/10\n",
            "Fitting 5 folds for each of 3 candidates, totalling 15 fits\n"
          ],
          "name": "stdout"
        },
        {
          "output_type": "stream",
          "text": [
            "[Parallel(n_jobs=4)]: Using backend LokyBackend with 4 concurrent workers.\n",
            "[Parallel(n_jobs=4)]: Done  12 out of  15 | elapsed:    0.9s remaining:    0.2s\n",
            "[Parallel(n_jobs=4)]: Done  15 out of  15 | elapsed:    1.0s finished\n",
            "[Parallel(n_jobs=4)]: Using backend LokyBackend with 4 concurrent workers.\n",
            "[Parallel(n_jobs=4)]: Done  12 out of  15 | elapsed:    0.0s remaining:    0.0s\n",
            "[Parallel(n_jobs=4)]: Done  15 out of  15 | elapsed:    0.0s finished\n",
            "[Parallel(n_jobs=4)]: Using backend LokyBackend with 4 concurrent workers.\n",
            "[Parallel(n_jobs=4)]: Done  12 tasks      | elapsed:    0.1s\n"
          ],
          "name": "stderr"
        },
        {
          "output_type": "stream",
          "text": [
            "it 1/10-Modelo 1/9\n",
            "mae: 62.37611917476592\n",
            "Fitting 5 folds for each of 3 candidates, totalling 15 fits\n",
            "it 1/10-Modelo 2/9\n",
            "mae: 62.37611917476592\n",
            "Fitting 5 folds for each of 30 candidates, totalling 150 fits\n"
          ],
          "name": "stdout"
        },
        {
          "output_type": "stream",
          "text": [
            "[Parallel(n_jobs=4)]: Done 150 out of 150 | elapsed:    0.3s finished\n",
            "[Parallel(n_jobs=4)]: Using backend LokyBackend with 4 concurrent workers.\n",
            "[Parallel(n_jobs=4)]: Done  12 tasks      | elapsed:    0.1s\n",
            "[Parallel(n_jobs=4)]: Done  75 out of  75 | elapsed:    0.2s finished\n",
            "[Parallel(n_jobs=4)]: Using backend LokyBackend with 4 concurrent workers.\n"
          ],
          "name": "stderr"
        },
        {
          "output_type": "stream",
          "text": [
            "it 1/10-Modelo 3/9\n",
            "mae: 62.76490119071466\n",
            "Fitting 5 folds for each of 15 candidates, totalling 75 fits\n",
            "it 1/10-Modelo 4/9\n",
            "mae: 62.4054514924758\n",
            "Fitting 5 folds for each of 75 candidates, totalling 375 fits\n"
          ],
          "name": "stdout"
        },
        {
          "output_type": "stream",
          "text": [
            "[Parallel(n_jobs=4)]: Done  12 tasks      | elapsed:    0.1s\n",
            "[Parallel(n_jobs=4)]: Done 320 tasks      | elapsed:    0.6s\n",
            "[Parallel(n_jobs=4)]: Done 368 out of 375 | elapsed:    0.7s remaining:    0.0s\n",
            "[Parallel(n_jobs=4)]: Done 375 out of 375 | elapsed:    0.7s finished\n",
            "[Parallel(n_jobs=4)]: Using backend LokyBackend with 4 concurrent workers.\n",
            "[Parallel(n_jobs=4)]: Done  12 tasks      | elapsed:    0.1s\n"
          ],
          "name": "stderr"
        },
        {
          "output_type": "stream",
          "text": [
            "it 1/10-Modelo 5/9\n",
            "mae: 62.4054514924758\n",
            "Fitting 5 folds for each of 75 candidates, totalling 375 fits\n"
          ],
          "name": "stdout"
        },
        {
          "output_type": "stream",
          "text": [
            "[Parallel(n_jobs=4)]: Done 320 tasks      | elapsed:    0.6s\n",
            "[Parallel(n_jobs=4)]: Done 375 out of 375 | elapsed:    0.7s finished\n",
            "[Parallel(n_jobs=4)]: Using backend LokyBackend with 4 concurrent workers.\n"
          ],
          "name": "stderr"
        },
        {
          "output_type": "stream",
          "text": [
            "it 1/10-Modelo 6/9\n",
            "mae: 52.948079847521676\n",
            "Fitting 5 folds for each of 75 candidates, totalling 375 fits\n"
          ],
          "name": "stdout"
        },
        {
          "output_type": "stream",
          "text": [
            "[Parallel(n_jobs=4)]: Done  12 tasks      | elapsed:    0.1s\n",
            "[Parallel(n_jobs=4)]: Done 320 tasks      | elapsed:    0.7s\n",
            "[Parallel(n_jobs=4)]: Done 368 out of 375 | elapsed:    0.8s remaining:    0.0s\n",
            "[Parallel(n_jobs=4)]: Done 375 out of 375 | elapsed:    0.8s finished\n",
            "[Parallel(n_jobs=4)]: Using backend LokyBackend with 4 concurrent workers.\n"
          ],
          "name": "stderr"
        },
        {
          "output_type": "stream",
          "text": [
            "it 1/10-Modelo 7/9\n",
            "mae: 53.80262329650979\n",
            "Fitting 5 folds for each of 75 candidates, totalling 375 fits\n"
          ],
          "name": "stdout"
        },
        {
          "output_type": "stream",
          "text": [
            "[Parallel(n_jobs=4)]: Done   7 tasks      | elapsed:    0.1s\n",
            "[Parallel(n_jobs=4)]: Done 375 out of 375 | elapsed:    0.7s finished\n",
            "[Parallel(n_jobs=4)]: Using backend LokyBackend with 4 concurrent workers.\n"
          ],
          "name": "stderr"
        },
        {
          "output_type": "stream",
          "text": [
            "it 1/10-Modelo 8/9\n",
            "mae: 69.71538028524088\n",
            "Fitting 5 folds for each of 15 candidates, totalling 75 fits\n"
          ],
          "name": "stdout"
        },
        {
          "output_type": "stream",
          "text": [
            "[Parallel(n_jobs=4)]: Done  10 tasks      | elapsed:    1.4s\n",
            "[Parallel(n_jobs=4)]: Done  64 tasks      | elapsed:    7.6s\n",
            "[Parallel(n_jobs=4)]: Done  75 out of  75 | elapsed:    8.9s finished\n"
          ],
          "name": "stderr"
        },
        {
          "output_type": "stream",
          "text": [
            "it 1/10-Modelo 9/9\n",
            "mae: 6368.27474028051\n",
            "Iteración 2/10\n",
            "Fitting 5 folds for each of 3 candidates, totalling 15 fits\n",
            "it 2/10-Modelo 1/9\n",
            "mae: 80.91165195812307\n",
            "Fitting 5 folds for each of 3 candidates, totalling 15 fits\n"
          ],
          "name": "stdout"
        },
        {
          "output_type": "stream",
          "text": [
            "[Parallel(n_jobs=4)]: Using backend LokyBackend with 4 concurrent workers.\n",
            "[Parallel(n_jobs=4)]: Done  12 out of  15 | elapsed:    0.1s remaining:    0.0s\n",
            "[Parallel(n_jobs=4)]: Done  15 out of  15 | elapsed:    0.1s finished\n",
            "[Parallel(n_jobs=4)]: Using backend LokyBackend with 4 concurrent workers.\n",
            "[Parallel(n_jobs=4)]: Done  12 out of  15 | elapsed:    0.1s remaining:    0.0s\n",
            "[Parallel(n_jobs=4)]: Done  15 out of  15 | elapsed:    0.1s finished\n"
          ],
          "name": "stderr"
        },
        {
          "output_type": "stream",
          "text": [
            "it 2/10-Modelo 2/9\n",
            "mae: 80.91165195812307\n",
            "Fitting 5 folds for each of 30 candidates, totalling 150 fits\n"
          ],
          "name": "stdout"
        },
        {
          "output_type": "stream",
          "text": [
            "[Parallel(n_jobs=4)]: Using backend LokyBackend with 4 concurrent workers.\n",
            "[Parallel(n_jobs=4)]: Done  10 tasks      | elapsed:    0.1s\n",
            "[Parallel(n_jobs=4)]: Done 150 out of 150 | elapsed:    0.6s finished\n",
            "[Parallel(n_jobs=4)]: Using backend LokyBackend with 4 concurrent workers.\n",
            "[Parallel(n_jobs=4)]: Done  12 tasks      | elapsed:    0.1s\n"
          ],
          "name": "stderr"
        },
        {
          "output_type": "stream",
          "text": [
            "it 2/10-Modelo 3/9\n",
            "mae: 80.76780924419108\n",
            "Fitting 5 folds for each of 15 candidates, totalling 75 fits\n"
          ],
          "name": "stdout"
        },
        {
          "output_type": "stream",
          "text": [
            "[Parallel(n_jobs=4)]: Done  52 out of  75 | elapsed:    0.2s remaining:    0.1s\n",
            "[Parallel(n_jobs=4)]: Done  68 out of  75 | elapsed:    0.3s remaining:    0.0s\n",
            "[Parallel(n_jobs=4)]: Done  75 out of  75 | elapsed:    0.3s finished\n",
            "[Parallel(n_jobs=4)]: Using backend LokyBackend with 4 concurrent workers.\n",
            "[Parallel(n_jobs=4)]: Done   8 tasks      | elapsed:    0.1s\n"
          ],
          "name": "stderr"
        },
        {
          "output_type": "stream",
          "text": [
            "it 2/10-Modelo 4/9\n",
            "mae: 80.90217962775363\n",
            "Fitting 5 folds for each of 75 candidates, totalling 375 fits\n"
          ],
          "name": "stdout"
        },
        {
          "output_type": "stream",
          "text": [
            "[Parallel(n_jobs=4)]: Done 375 out of 375 | elapsed:    0.7s finished\n",
            "[Parallel(n_jobs=4)]: Using backend LokyBackend with 4 concurrent workers.\n",
            "[Parallel(n_jobs=4)]: Done  12 tasks      | elapsed:    0.1s\n"
          ],
          "name": "stderr"
        },
        {
          "output_type": "stream",
          "text": [
            "it 2/10-Modelo 5/9\n",
            "mae: 80.90217962775363\n",
            "Fitting 5 folds for each of 75 candidates, totalling 375 fits\n"
          ],
          "name": "stdout"
        },
        {
          "output_type": "stream",
          "text": [
            "[Parallel(n_jobs=4)]: Done 320 tasks      | elapsed:    0.7s\n",
            "[Parallel(n_jobs=4)]: Done 368 out of 375 | elapsed:    0.8s remaining:    0.0s\n",
            "[Parallel(n_jobs=4)]: Done 375 out of 375 | elapsed:    0.8s finished\n",
            "[Parallel(n_jobs=4)]: Using backend LokyBackend with 4 concurrent workers.\n"
          ],
          "name": "stderr"
        },
        {
          "output_type": "stream",
          "text": [
            "it 2/10-Modelo 6/9\n",
            "mae: 67.98737286845042\n",
            "Fitting 5 folds for each of 75 candidates, totalling 375 fits\n"
          ],
          "name": "stdout"
        },
        {
          "output_type": "stream",
          "text": [
            "[Parallel(n_jobs=4)]: Done  12 tasks      | elapsed:    0.1s\n",
            "[Parallel(n_jobs=4)]: Done 320 tasks      | elapsed:    0.8s\n",
            "[Parallel(n_jobs=4)]: Done 368 out of 375 | elapsed:    0.9s remaining:    0.0s\n",
            "[Parallel(n_jobs=4)]: Done 375 out of 375 | elapsed:    0.9s finished\n",
            "[Parallel(n_jobs=4)]: Using backend LokyBackend with 4 concurrent workers.\n",
            "[Parallel(n_jobs=4)]: Done  12 tasks      | elapsed:    0.1s\n"
          ],
          "name": "stderr"
        },
        {
          "output_type": "stream",
          "text": [
            "it 2/10-Modelo 7/9\n",
            "mae: 62.84812422476839\n",
            "Fitting 5 folds for each of 75 candidates, totalling 375 fits\n"
          ],
          "name": "stdout"
        },
        {
          "output_type": "stream",
          "text": [
            "[Parallel(n_jobs=4)]: Done 320 tasks      | elapsed:    0.7s\n",
            "[Parallel(n_jobs=4)]: Done 368 out of 375 | elapsed:    0.8s remaining:    0.0s\n",
            "[Parallel(n_jobs=4)]: Done 375 out of 375 | elapsed:    0.8s finished\n",
            "[Parallel(n_jobs=4)]: Using backend LokyBackend with 4 concurrent workers.\n"
          ],
          "name": "stderr"
        },
        {
          "output_type": "stream",
          "text": [
            "it 2/10-Modelo 8/9\n",
            "mae: 35.47399104990967\n",
            "Fitting 5 folds for each of 15 candidates, totalling 75 fits\n"
          ],
          "name": "stdout"
        },
        {
          "output_type": "stream",
          "text": [
            "[Parallel(n_jobs=4)]: Done  10 tasks      | elapsed:    1.8s\n",
            "[Parallel(n_jobs=4)]: Done  64 tasks      | elapsed:    9.7s\n",
            "[Parallel(n_jobs=4)]: Done  75 out of  75 | elapsed:   11.3s finished\n"
          ],
          "name": "stderr"
        },
        {
          "output_type": "stream",
          "text": [
            "it 2/10-Modelo 9/9\n",
            "mae: 1752.5928470660028\n",
            "Iteración 3/10\n",
            "Fitting 5 folds for each of 3 candidates, totalling 15 fits\n",
            "it 3/10-Modelo 1/9\n",
            "mae: 66.90165802767473\n",
            "Fitting 5 folds for each of 3 candidates, totalling 15 fits\n",
            "it 3/10-Modelo 2/9\n",
            "mae: 66.90165802767473\n",
            "Fitting 5 folds for each of 30 candidates, totalling 150 fits\n"
          ],
          "name": "stdout"
        },
        {
          "output_type": "stream",
          "text": [
            "[Parallel(n_jobs=4)]: Using backend LokyBackend with 4 concurrent workers.\n",
            "[Parallel(n_jobs=4)]: Done   8 out of  15 | elapsed:    0.0s remaining:    0.0s\n",
            "[Parallel(n_jobs=4)]: Done  12 out of  15 | elapsed:    0.0s remaining:    0.0s\n",
            "[Parallel(n_jobs=4)]: Done  15 out of  15 | elapsed:    0.1s finished\n",
            "[Parallel(n_jobs=4)]: Using backend LokyBackend with 4 concurrent workers.\n",
            "[Parallel(n_jobs=4)]: Done   8 out of  15 | elapsed:    0.0s remaining:    0.0s\n",
            "[Parallel(n_jobs=4)]: Done  12 out of  15 | elapsed:    0.0s remaining:    0.0s\n",
            "[Parallel(n_jobs=4)]: Done  15 out of  15 | elapsed:    0.1s finished\n",
            "[Parallel(n_jobs=4)]: Using backend LokyBackend with 4 concurrent workers.\n",
            "[Parallel(n_jobs=4)]: Done  16 tasks      | elapsed:    0.2s\n",
            "[Parallel(n_jobs=4)]: Done 150 out of 150 | elapsed:    0.6s finished\n",
            "[Parallel(n_jobs=4)]: Using backend LokyBackend with 4 concurrent workers.\n",
            "[Parallel(n_jobs=4)]: Done  16 tasks      | elapsed:    0.1s\n"
          ],
          "name": "stderr"
        },
        {
          "output_type": "stream",
          "text": [
            "it 3/10-Modelo 3/9\n",
            "mae: 67.0324639532207\n",
            "Fitting 5 folds for each of 15 candidates, totalling 75 fits\n"
          ],
          "name": "stdout"
        },
        {
          "output_type": "stream",
          "text": [
            "[Parallel(n_jobs=4)]: Done  75 out of  75 | elapsed:    0.4s finished\n",
            "[Parallel(n_jobs=4)]: Using backend LokyBackend with 4 concurrent workers.\n",
            "[Parallel(n_jobs=4)]: Done  12 tasks      | elapsed:    0.1s\n"
          ],
          "name": "stderr"
        },
        {
          "output_type": "stream",
          "text": [
            "it 3/10-Modelo 4/9\n",
            "mae: 66.91046417163095\n",
            "Fitting 5 folds for each of 75 candidates, totalling 375 fits\n"
          ],
          "name": "stdout"
        },
        {
          "output_type": "stream",
          "text": [
            "[Parallel(n_jobs=4)]: Done 320 tasks      | elapsed:    0.9s\n",
            "[Parallel(n_jobs=4)]: Done 368 out of 375 | elapsed:    1.0s remaining:    0.0s\n",
            "[Parallel(n_jobs=4)]: Done 375 out of 375 | elapsed:    1.0s finished\n",
            "[Parallel(n_jobs=4)]: Using backend LokyBackend with 4 concurrent workers.\n",
            "[Parallel(n_jobs=4)]: Done  12 tasks      | elapsed:    0.1s\n"
          ],
          "name": "stderr"
        },
        {
          "output_type": "stream",
          "text": [
            "it 3/10-Modelo 5/9\n",
            "mae: 66.91046417163095\n",
            "Fitting 5 folds for each of 75 candidates, totalling 375 fits\n"
          ],
          "name": "stdout"
        },
        {
          "output_type": "stream",
          "text": [
            "[Parallel(n_jobs=4)]: Done 320 tasks      | elapsed:    0.8s\n",
            "[Parallel(n_jobs=4)]: Done 368 out of 375 | elapsed:    0.9s remaining:    0.0s\n",
            "[Parallel(n_jobs=4)]: Done 375 out of 375 | elapsed:    0.9s finished\n",
            "[Parallel(n_jobs=4)]: Using backend LokyBackend with 4 concurrent workers.\n"
          ],
          "name": "stderr"
        },
        {
          "output_type": "stream",
          "text": [
            "it 3/10-Modelo 6/9\n",
            "mae: 90.1224632343625\n",
            "Fitting 5 folds for each of 75 candidates, totalling 375 fits\n"
          ],
          "name": "stdout"
        },
        {
          "output_type": "stream",
          "text": [
            "[Parallel(n_jobs=4)]: Done  12 tasks      | elapsed:    0.1s\n",
            "[Parallel(n_jobs=4)]: Done 320 tasks      | elapsed:    0.9s\n",
            "[Parallel(n_jobs=4)]: Done 368 out of 375 | elapsed:    1.0s remaining:    0.0s\n",
            "[Parallel(n_jobs=4)]: Done 375 out of 375 | elapsed:    1.0s finished\n",
            "[Parallel(n_jobs=4)]: Using backend LokyBackend with 4 concurrent workers.\n",
            "[Parallel(n_jobs=4)]: Done  14 tasks      | elapsed:    0.1s\n"
          ],
          "name": "stderr"
        },
        {
          "output_type": "stream",
          "text": [
            "it 3/10-Modelo 7/9\n",
            "mae: 51.24083917447782\n",
            "Fitting 5 folds for each of 75 candidates, totalling 375 fits\n"
          ],
          "name": "stdout"
        },
        {
          "output_type": "stream",
          "text": [
            "[Parallel(n_jobs=4)]: Done 375 out of 375 | elapsed:    0.9s finished\n",
            "[Parallel(n_jobs=4)]: Using backend LokyBackend with 4 concurrent workers.\n"
          ],
          "name": "stderr"
        },
        {
          "output_type": "stream",
          "text": [
            "it 3/10-Modelo 8/9\n",
            "mae: 76.7290093714187\n",
            "Fitting 5 folds for each of 15 candidates, totalling 75 fits\n"
          ],
          "name": "stdout"
        },
        {
          "output_type": "stream",
          "text": [
            "[Parallel(n_jobs=4)]: Done  10 tasks      | elapsed:    1.9s\n",
            "[Parallel(n_jobs=4)]: Done  64 tasks      | elapsed:   10.3s\n",
            "[Parallel(n_jobs=4)]: Done  75 out of  75 | elapsed:   11.8s finished\n"
          ],
          "name": "stderr"
        },
        {
          "output_type": "stream",
          "text": [
            "it 3/10-Modelo 9/9\n",
            "mae: 949.7818056274684\n",
            "Iteración 4/10\n",
            "Fitting 5 folds for each of 3 candidates, totalling 15 fits\n",
            "it 4/10-Modelo 1/9\n",
            "mae: 71.920148862923\n",
            "Fitting 5 folds for each of 3 candidates, totalling 15 fits\n"
          ],
          "name": "stdout"
        },
        {
          "output_type": "stream",
          "text": [
            "[Parallel(n_jobs=4)]: Using backend LokyBackend with 4 concurrent workers.\n",
            "[Parallel(n_jobs=4)]: Done   8 out of  15 | elapsed:    0.0s remaining:    0.0s\n",
            "[Parallel(n_jobs=4)]: Done  15 out of  15 | elapsed:    0.1s finished\n",
            "[Parallel(n_jobs=4)]: Using backend LokyBackend with 4 concurrent workers.\n",
            "[Parallel(n_jobs=4)]: Done  12 out of  15 | elapsed:    0.1s remaining:    0.0s\n",
            "[Parallel(n_jobs=4)]: Done  15 out of  15 | elapsed:    0.1s finished\n",
            "[Parallel(n_jobs=4)]: Using backend LokyBackend with 4 concurrent workers.\n",
            "[Parallel(n_jobs=4)]: Done   8 tasks      | elapsed:    0.1s\n"
          ],
          "name": "stderr"
        },
        {
          "output_type": "stream",
          "text": [
            "it 4/10-Modelo 2/9\n",
            "mae: 71.920148862923\n",
            "Fitting 5 folds for each of 30 candidates, totalling 150 fits\n"
          ],
          "name": "stdout"
        },
        {
          "output_type": "stream",
          "text": [
            "[Parallel(n_jobs=4)]: Done 150 out of 150 | elapsed:    0.7s finished\n",
            "[Parallel(n_jobs=4)]: Using backend LokyBackend with 4 concurrent workers.\n",
            "[Parallel(n_jobs=4)]: Done  10 tasks      | elapsed:    0.1s\n"
          ],
          "name": "stderr"
        },
        {
          "output_type": "stream",
          "text": [
            "it 4/10-Modelo 3/9\n",
            "mae: 71.92039503578701\n",
            "Fitting 5 folds for each of 15 candidates, totalling 75 fits\n"
          ],
          "name": "stdout"
        },
        {
          "output_type": "stream",
          "text": [
            "[Parallel(n_jobs=4)]: Done  68 out of  75 | elapsed:    0.4s remaining:    0.0s\n",
            "[Parallel(n_jobs=4)]: Done  75 out of  75 | elapsed:    0.4s finished\n",
            "[Parallel(n_jobs=4)]: Using backend LokyBackend with 4 concurrent workers.\n",
            "[Parallel(n_jobs=4)]: Done  12 tasks      | elapsed:    0.1s\n"
          ],
          "name": "stderr"
        },
        {
          "output_type": "stream",
          "text": [
            "it 4/10-Modelo 4/9\n",
            "mae: 71.92016430916317\n",
            "Fitting 5 folds for each of 75 candidates, totalling 375 fits\n"
          ],
          "name": "stdout"
        },
        {
          "output_type": "stream",
          "text": [
            "[Parallel(n_jobs=4)]: Done 320 tasks      | elapsed:    0.8s\n",
            "[Parallel(n_jobs=4)]: Done 368 out of 375 | elapsed:    0.9s remaining:    0.0s\n",
            "[Parallel(n_jobs=4)]: Done 375 out of 375 | elapsed:    0.9s finished\n",
            "[Parallel(n_jobs=4)]: Using backend LokyBackend with 4 concurrent workers.\n",
            "[Parallel(n_jobs=4)]: Done  12 tasks      | elapsed:    0.1s\n"
          ],
          "name": "stderr"
        },
        {
          "output_type": "stream",
          "text": [
            "it 4/10-Modelo 5/9\n",
            "mae: 71.92016430916317\n",
            "Fitting 5 folds for each of 75 candidates, totalling 375 fits\n"
          ],
          "name": "stdout"
        },
        {
          "output_type": "stream",
          "text": [
            "[Parallel(n_jobs=4)]: Done 320 tasks      | elapsed:    0.8s\n",
            "[Parallel(n_jobs=4)]: Done 368 out of 375 | elapsed:    0.9s remaining:    0.0s\n",
            "[Parallel(n_jobs=4)]: Done 375 out of 375 | elapsed:    0.9s finished\n",
            "[Parallel(n_jobs=4)]: Using backend LokyBackend with 4 concurrent workers.\n"
          ],
          "name": "stderr"
        },
        {
          "output_type": "stream",
          "text": [
            "it 4/10-Modelo 6/9\n",
            "mae: 72.24801932737961\n",
            "Fitting 5 folds for each of 75 candidates, totalling 375 fits\n"
          ],
          "name": "stdout"
        },
        {
          "output_type": "stream",
          "text": [
            "[Parallel(n_jobs=4)]: Done  12 tasks      | elapsed:    0.1s\n",
            "[Parallel(n_jobs=4)]: Done 320 tasks      | elapsed:    0.9s\n",
            "[Parallel(n_jobs=4)]: Done 368 out of 375 | elapsed:    1.0s remaining:    0.0s\n",
            "[Parallel(n_jobs=4)]: Done 375 out of 375 | elapsed:    1.0s finished\n",
            "[Parallel(n_jobs=4)]: Using backend LokyBackend with 4 concurrent workers.\n"
          ],
          "name": "stderr"
        },
        {
          "output_type": "stream",
          "text": [
            "it 4/10-Modelo 7/9\n",
            "mae: 55.565726243647106\n",
            "Fitting 5 folds for each of 75 candidates, totalling 375 fits\n"
          ],
          "name": "stdout"
        },
        {
          "output_type": "stream",
          "text": [
            "[Parallel(n_jobs=4)]: Done  12 tasks      | elapsed:    0.1s\n",
            "[Parallel(n_jobs=4)]: Done 320 tasks      | elapsed:    0.8s\n",
            "[Parallel(n_jobs=4)]: Done 368 out of 375 | elapsed:    0.9s remaining:    0.0s\n",
            "[Parallel(n_jobs=4)]: Done 375 out of 375 | elapsed:    0.9s finished\n",
            "[Parallel(n_jobs=4)]: Using backend LokyBackend with 4 concurrent workers.\n"
          ],
          "name": "stderr"
        },
        {
          "output_type": "stream",
          "text": [
            "it 4/10-Modelo 8/9\n",
            "mae: 44.99361495743252\n",
            "Fitting 5 folds for each of 15 candidates, totalling 75 fits\n"
          ],
          "name": "stdout"
        },
        {
          "output_type": "stream",
          "text": [
            "[Parallel(n_jobs=4)]: Done  10 tasks      | elapsed:    1.9s\n",
            "[Parallel(n_jobs=4)]: Done  64 tasks      | elapsed:   10.4s\n",
            "[Parallel(n_jobs=4)]: Done  75 out of  75 | elapsed:   11.8s finished\n"
          ],
          "name": "stderr"
        },
        {
          "output_type": "stream",
          "text": [
            "it 4/10-Modelo 9/9\n",
            "mae: 1698.0937672342498\n",
            "Iteración 5/10\n",
            "Fitting 5 folds for each of 3 candidates, totalling 15 fits\n",
            "it 5/10-Modelo 1/9\n",
            "mae: 74.44642756479028\n",
            "Fitting 5 folds for each of 3 candidates, totalling 15 fits\n"
          ],
          "name": "stdout"
        },
        {
          "output_type": "stream",
          "text": [
            "[Parallel(n_jobs=4)]: Using backend LokyBackend with 4 concurrent workers.\n",
            "[Parallel(n_jobs=4)]: Done   8 out of  15 | elapsed:    0.1s remaining:    0.0s\n",
            "[Parallel(n_jobs=4)]: Done  12 out of  15 | elapsed:    0.1s remaining:    0.0s\n",
            "[Parallel(n_jobs=4)]: Done  15 out of  15 | elapsed:    0.1s finished\n",
            "[Parallel(n_jobs=4)]: Using backend LokyBackend with 4 concurrent workers.\n"
          ],
          "name": "stderr"
        },
        {
          "output_type": "stream",
          "text": [
            "it 5/10-Modelo 2/9\n",
            "mae: 74.44642756479028\n",
            "Fitting 5 folds for each of 30 candidates, totalling 150 fits\n"
          ],
          "name": "stdout"
        },
        {
          "output_type": "stream",
          "text": [
            "[Parallel(n_jobs=4)]: Done  15 out of  15 | elapsed:    0.1s finished\n",
            "[Parallel(n_jobs=4)]: Using backend LokyBackend with 4 concurrent workers.\n",
            "[Parallel(n_jobs=4)]: Done  20 tasks      | elapsed:    0.2s\n",
            "[Parallel(n_jobs=4)]: Done 150 out of 150 | elapsed:    0.7s finished\n",
            "[Parallel(n_jobs=4)]: Using backend LokyBackend with 4 concurrent workers.\n",
            "[Parallel(n_jobs=4)]: Done  16 tasks      | elapsed:    0.1s\n"
          ],
          "name": "stderr"
        },
        {
          "output_type": "stream",
          "text": [
            "it 5/10-Modelo 3/9\n",
            "mae: 74.52365310720735\n",
            "Fitting 5 folds for each of 15 candidates, totalling 75 fits\n"
          ],
          "name": "stdout"
        },
        {
          "output_type": "stream",
          "text": [
            "[Parallel(n_jobs=4)]: Done  75 out of  75 | elapsed:    0.4s finished\n",
            "[Parallel(n_jobs=4)]: Using backend LokyBackend with 4 concurrent workers.\n",
            "[Parallel(n_jobs=4)]: Done  12 tasks      | elapsed:    0.1s\n"
          ],
          "name": "stderr"
        },
        {
          "output_type": "stream",
          "text": [
            "it 5/10-Modelo 4/9\n",
            "mae: 74.45140052741121\n",
            "Fitting 5 folds for each of 75 candidates, totalling 375 fits\n"
          ],
          "name": "stdout"
        },
        {
          "output_type": "stream",
          "text": [
            "[Parallel(n_jobs=4)]: Done 320 tasks      | elapsed:    0.8s\n",
            "[Parallel(n_jobs=4)]: Done 368 out of 375 | elapsed:    0.9s remaining:    0.0s\n",
            "[Parallel(n_jobs=4)]: Done 375 out of 375 | elapsed:    0.9s finished\n",
            "[Parallel(n_jobs=4)]: Using backend LokyBackend with 4 concurrent workers.\n",
            "[Parallel(n_jobs=4)]: Done  12 tasks      | elapsed:    0.1s\n"
          ],
          "name": "stderr"
        },
        {
          "output_type": "stream",
          "text": [
            "it 5/10-Modelo 5/9\n",
            "mae: 74.45140052741121\n",
            "Fitting 5 folds for each of 75 candidates, totalling 375 fits\n"
          ],
          "name": "stdout"
        },
        {
          "output_type": "stream",
          "text": [
            "[Parallel(n_jobs=4)]: Done 320 tasks      | elapsed:    0.8s\n",
            "[Parallel(n_jobs=4)]: Done 368 out of 375 | elapsed:    0.9s remaining:    0.0s\n",
            "[Parallel(n_jobs=4)]: Done 375 out of 375 | elapsed:    0.9s finished\n",
            "[Parallel(n_jobs=4)]: Using backend LokyBackend with 4 concurrent workers.\n"
          ],
          "name": "stderr"
        },
        {
          "output_type": "stream",
          "text": [
            "it 5/10-Modelo 6/9\n",
            "mae: 57.7198407185007\n",
            "Fitting 5 folds for each of 75 candidates, totalling 375 fits\n"
          ],
          "name": "stdout"
        },
        {
          "output_type": "stream",
          "text": [
            "[Parallel(n_jobs=4)]: Done  18 tasks      | elapsed:    0.1s\n",
            "[Parallel(n_jobs=4)]: Done 329 tasks      | elapsed:    0.9s\n",
            "[Parallel(n_jobs=4)]: Done 368 out of 375 | elapsed:    1.0s remaining:    0.0s\n",
            "[Parallel(n_jobs=4)]: Done 375 out of 375 | elapsed:    1.0s finished\n",
            "[Parallel(n_jobs=4)]: Using backend LokyBackend with 4 concurrent workers.\n"
          ],
          "name": "stderr"
        },
        {
          "output_type": "stream",
          "text": [
            "it 5/10-Modelo 7/9\n",
            "mae: 69.72027988211829\n",
            "Fitting 5 folds for each of 75 candidates, totalling 375 fits\n"
          ],
          "name": "stdout"
        },
        {
          "output_type": "stream",
          "text": [
            "[Parallel(n_jobs=4)]: Done  12 tasks      | elapsed:    0.1s\n",
            "[Parallel(n_jobs=4)]: Done 320 tasks      | elapsed:    0.8s\n",
            "[Parallel(n_jobs=4)]: Done 368 out of 375 | elapsed:    0.9s remaining:    0.0s\n",
            "[Parallel(n_jobs=4)]: Done 375 out of 375 | elapsed:    0.9s finished\n",
            "[Parallel(n_jobs=4)]: Using backend LokyBackend with 4 concurrent workers.\n"
          ],
          "name": "stderr"
        },
        {
          "output_type": "stream",
          "text": [
            "it 5/10-Modelo 8/9\n",
            "mae: 43.86623638758279\n",
            "Fitting 5 folds for each of 15 candidates, totalling 75 fits\n"
          ],
          "name": "stdout"
        },
        {
          "output_type": "stream",
          "text": [
            "[Parallel(n_jobs=4)]: Done  10 tasks      | elapsed:    2.1s\n",
            "[Parallel(n_jobs=4)]: Done  64 tasks      | elapsed:   10.6s\n",
            "[Parallel(n_jobs=4)]: Done  75 out of  75 | elapsed:   12.1s finished\n"
          ],
          "name": "stderr"
        },
        {
          "output_type": "stream",
          "text": [
            "it 5/10-Modelo 9/9\n",
            "mae: 4071.517732590159\n",
            "Iteración 6/10\n",
            "Fitting 5 folds for each of 3 candidates, totalling 15 fits\n",
            "it 6/10-Modelo 1/9\n",
            "mae: 53.5553456444714\n",
            "Fitting 5 folds for each of 3 candidates, totalling 15 fits\n"
          ],
          "name": "stdout"
        },
        {
          "output_type": "stream",
          "text": [
            "[Parallel(n_jobs=4)]: Using backend LokyBackend with 4 concurrent workers.\n",
            "[Parallel(n_jobs=4)]: Done  12 out of  15 | elapsed:    0.1s remaining:    0.0s\n",
            "[Parallel(n_jobs=4)]: Done  15 out of  15 | elapsed:    0.1s finished\n",
            "[Parallel(n_jobs=4)]: Using backend LokyBackend with 4 concurrent workers.\n",
            "[Parallel(n_jobs=4)]: Done  12 out of  15 | elapsed:    0.1s remaining:    0.0s\n",
            "[Parallel(n_jobs=4)]: Done  15 out of  15 | elapsed:    0.1s finished\n",
            "[Parallel(n_jobs=4)]: Using backend LokyBackend with 4 concurrent workers.\n",
            "[Parallel(n_jobs=4)]: Done  14 tasks      | elapsed:    0.1s\n"
          ],
          "name": "stderr"
        },
        {
          "output_type": "stream",
          "text": [
            "it 6/10-Modelo 2/9\n",
            "mae: 53.5553456444714\n",
            "Fitting 5 folds for each of 30 candidates, totalling 150 fits\n"
          ],
          "name": "stdout"
        },
        {
          "output_type": "stream",
          "text": [
            "[Parallel(n_jobs=4)]: Done 150 out of 150 | elapsed:    0.7s finished\n",
            "[Parallel(n_jobs=4)]: Using backend LokyBackend with 4 concurrent workers.\n",
            "[Parallel(n_jobs=4)]: Done  14 tasks      | elapsed:    0.1s\n"
          ],
          "name": "stderr"
        },
        {
          "output_type": "stream",
          "text": [
            "it 6/10-Modelo 3/9\n",
            "mae: 53.56982942159314\n",
            "Fitting 5 folds for each of 15 candidates, totalling 75 fits\n"
          ],
          "name": "stdout"
        },
        {
          "output_type": "stream",
          "text": [
            "[Parallel(n_jobs=4)]: Done  75 out of  75 | elapsed:    0.4s finished\n",
            "[Parallel(n_jobs=4)]: Using backend LokyBackend with 4 concurrent workers.\n",
            "[Parallel(n_jobs=4)]: Done  12 tasks      | elapsed:    0.1s\n"
          ],
          "name": "stderr"
        },
        {
          "output_type": "stream",
          "text": [
            "it 6/10-Modelo 4/9\n",
            "mae: 53.55640860500124\n",
            "Fitting 5 folds for each of 75 candidates, totalling 375 fits\n"
          ],
          "name": "stdout"
        },
        {
          "output_type": "stream",
          "text": [
            "[Parallel(n_jobs=4)]: Done 320 tasks      | elapsed:    0.8s\n",
            "[Parallel(n_jobs=4)]: Done 368 out of 375 | elapsed:    0.9s remaining:    0.0s\n",
            "[Parallel(n_jobs=4)]: Done 375 out of 375 | elapsed:    0.9s finished\n",
            "[Parallel(n_jobs=4)]: Using backend LokyBackend with 4 concurrent workers.\n",
            "[Parallel(n_jobs=4)]: Done  12 tasks      | elapsed:    0.1s\n"
          ],
          "name": "stderr"
        },
        {
          "output_type": "stream",
          "text": [
            "it 6/10-Modelo 5/9\n",
            "mae: 53.55640860500124\n",
            "Fitting 5 folds for each of 75 candidates, totalling 375 fits\n"
          ],
          "name": "stdout"
        },
        {
          "output_type": "stream",
          "text": [
            "[Parallel(n_jobs=4)]: Done 320 tasks      | elapsed:    0.8s\n",
            "[Parallel(n_jobs=4)]: Done 375 out of 375 | elapsed:    0.9s finished\n",
            "[Parallel(n_jobs=4)]: Using backend LokyBackend with 4 concurrent workers.\n"
          ],
          "name": "stderr"
        },
        {
          "output_type": "stream",
          "text": [
            "it 6/10-Modelo 6/9\n",
            "mae: 67.95864244112228\n",
            "Fitting 5 folds for each of 75 candidates, totalling 375 fits\n"
          ],
          "name": "stdout"
        },
        {
          "output_type": "stream",
          "text": [
            "[Parallel(n_jobs=4)]: Done  12 tasks      | elapsed:    0.1s\n",
            "[Parallel(n_jobs=4)]: Done 320 tasks      | elapsed:    0.9s\n",
            "[Parallel(n_jobs=4)]: Done 368 out of 375 | elapsed:    1.0s remaining:    0.0s\n",
            "[Parallel(n_jobs=4)]: Done 375 out of 375 | elapsed:    1.0s finished\n",
            "[Parallel(n_jobs=4)]: Using backend LokyBackend with 4 concurrent workers.\n"
          ],
          "name": "stderr"
        },
        {
          "output_type": "stream",
          "text": [
            "it 6/10-Modelo 7/9\n",
            "mae: 47.18891189190647\n",
            "Fitting 5 folds for each of 75 candidates, totalling 375 fits\n"
          ],
          "name": "stdout"
        },
        {
          "output_type": "stream",
          "text": [
            "[Parallel(n_jobs=4)]: Done  12 tasks      | elapsed:    0.1s\n",
            "[Parallel(n_jobs=4)]: Done 320 tasks      | elapsed:    0.8s\n",
            "[Parallel(n_jobs=4)]: Done 368 out of 375 | elapsed:    0.9s remaining:    0.0s\n",
            "[Parallel(n_jobs=4)]: Done 375 out of 375 | elapsed:    1.0s finished\n",
            "[Parallel(n_jobs=4)]: Using backend LokyBackend with 4 concurrent workers.\n"
          ],
          "name": "stderr"
        },
        {
          "output_type": "stream",
          "text": [
            "it 6/10-Modelo 8/9\n",
            "mae: 69.27312347291196\n",
            "Fitting 5 folds for each of 15 candidates, totalling 75 fits\n"
          ],
          "name": "stdout"
        },
        {
          "output_type": "stream",
          "text": [
            "[Parallel(n_jobs=4)]: Done  10 tasks      | elapsed:    2.0s\n",
            "[Parallel(n_jobs=4)]: Done  64 tasks      | elapsed:   10.5s\n",
            "[Parallel(n_jobs=4)]: Done  75 out of  75 | elapsed:   12.2s finished\n"
          ],
          "name": "stderr"
        },
        {
          "output_type": "stream",
          "text": [
            "it 6/10-Modelo 9/9\n",
            "mae: 2621.4341434789403\n",
            "Iteración 7/10\n",
            "Fitting 5 folds for each of 3 candidates, totalling 15 fits\n",
            "it 7/10-Modelo 1/9\n",
            "mae: 56.726696960383165\n",
            "Fitting 5 folds for each of 3 candidates, totalling 15 fits\n"
          ],
          "name": "stdout"
        },
        {
          "output_type": "stream",
          "text": [
            "[Parallel(n_jobs=4)]: Using backend LokyBackend with 4 concurrent workers.\n",
            "[Parallel(n_jobs=4)]: Done   8 out of  15 | elapsed:    0.1s remaining:    0.1s\n",
            "[Parallel(n_jobs=4)]: Done  12 out of  15 | elapsed:    0.1s remaining:    0.0s\n",
            "[Parallel(n_jobs=4)]: Done  15 out of  15 | elapsed:    0.1s finished\n",
            "[Parallel(n_jobs=4)]: Using backend LokyBackend with 4 concurrent workers.\n",
            "[Parallel(n_jobs=4)]: Done  15 out of  15 | elapsed:    0.1s finished\n",
            "[Parallel(n_jobs=4)]: Using backend LokyBackend with 4 concurrent workers.\n"
          ],
          "name": "stderr"
        },
        {
          "output_type": "stream",
          "text": [
            "it 7/10-Modelo 2/9\n",
            "mae: 56.726696960383165\n",
            "Fitting 5 folds for each of 30 candidates, totalling 150 fits\n"
          ],
          "name": "stdout"
        },
        {
          "output_type": "stream",
          "text": [
            "[Parallel(n_jobs=4)]: Done  24 tasks      | elapsed:    0.2s\n",
            "[Parallel(n_jobs=4)]: Done 150 out of 150 | elapsed:    0.7s finished\n",
            "[Parallel(n_jobs=4)]: Using backend LokyBackend with 4 concurrent workers.\n",
            "[Parallel(n_jobs=4)]: Done  16 tasks      | elapsed:    0.1s\n"
          ],
          "name": "stderr"
        },
        {
          "output_type": "stream",
          "text": [
            "it 7/10-Modelo 3/9\n",
            "mae: 56.75956632656268\n",
            "Fitting 5 folds for each of 15 candidates, totalling 75 fits\n"
          ],
          "name": "stdout"
        },
        {
          "output_type": "stream",
          "text": [
            "[Parallel(n_jobs=4)]: Done  75 out of  75 | elapsed:    0.5s finished\n",
            "[Parallel(n_jobs=4)]: Using backend LokyBackend with 4 concurrent workers.\n",
            "[Parallel(n_jobs=4)]: Done  12 tasks      | elapsed:    0.1s\n"
          ],
          "name": "stderr"
        },
        {
          "output_type": "stream",
          "text": [
            "it 7/10-Modelo 4/9\n",
            "mae: 56.72895718778345\n",
            "Fitting 5 folds for each of 75 candidates, totalling 375 fits\n"
          ],
          "name": "stdout"
        },
        {
          "output_type": "stream",
          "text": [
            "[Parallel(n_jobs=4)]: Done 320 tasks      | elapsed:    0.9s\n",
            "[Parallel(n_jobs=4)]: Done 368 out of 375 | elapsed:    1.0s remaining:    0.0s\n",
            "[Parallel(n_jobs=4)]: Done 375 out of 375 | elapsed:    1.0s finished\n",
            "[Parallel(n_jobs=4)]: Using backend LokyBackend with 4 concurrent workers.\n"
          ],
          "name": "stderr"
        },
        {
          "output_type": "stream",
          "text": [
            "it 7/10-Modelo 5/9\n",
            "mae: 56.72895718778345\n",
            "Fitting 5 folds for each of 75 candidates, totalling 375 fits\n"
          ],
          "name": "stdout"
        },
        {
          "output_type": "stream",
          "text": [
            "[Parallel(n_jobs=4)]: Done  12 tasks      | elapsed:    0.1s\n",
            "[Parallel(n_jobs=4)]: Done 320 tasks      | elapsed:    0.8s\n",
            "[Parallel(n_jobs=4)]: Done 368 out of 375 | elapsed:    0.9s remaining:    0.0s\n",
            "[Parallel(n_jobs=4)]: Done 375 out of 375 | elapsed:    0.9s finished\n",
            "[Parallel(n_jobs=4)]: Using backend LokyBackend with 4 concurrent workers.\n"
          ],
          "name": "stderr"
        },
        {
          "output_type": "stream",
          "text": [
            "it 7/10-Modelo 6/9\n",
            "mae: 88.92193541166272\n",
            "Fitting 5 folds for each of 75 candidates, totalling 375 fits\n"
          ],
          "name": "stdout"
        },
        {
          "output_type": "stream",
          "text": [
            "[Parallel(n_jobs=4)]: Done  14 tasks      | elapsed:    0.1s\n",
            "[Parallel(n_jobs=4)]: Done 323 tasks      | elapsed:    0.9s\n",
            "[Parallel(n_jobs=4)]: Done 368 out of 375 | elapsed:    1.0s remaining:    0.0s\n",
            "[Parallel(n_jobs=4)]: Done 375 out of 375 | elapsed:    1.0s finished\n",
            "[Parallel(n_jobs=4)]: Using backend LokyBackend with 4 concurrent workers.\n"
          ],
          "name": "stderr"
        },
        {
          "output_type": "stream",
          "text": [
            "it 7/10-Modelo 7/9\n",
            "mae: 52.012220941548065\n",
            "Fitting 5 folds for each of 75 candidates, totalling 375 fits\n"
          ],
          "name": "stdout"
        },
        {
          "output_type": "stream",
          "text": [
            "[Parallel(n_jobs=4)]: Done  12 tasks      | elapsed:    0.1s\n",
            "[Parallel(n_jobs=4)]: Done 320 tasks      | elapsed:    0.8s\n",
            "[Parallel(n_jobs=4)]: Done 368 out of 375 | elapsed:    0.9s remaining:    0.0s\n",
            "[Parallel(n_jobs=4)]: Done 375 out of 375 | elapsed:    0.9s finished\n",
            "[Parallel(n_jobs=4)]: Using backend LokyBackend with 4 concurrent workers.\n"
          ],
          "name": "stderr"
        },
        {
          "output_type": "stream",
          "text": [
            "it 7/10-Modelo 8/9\n",
            "mae: 92.96935967932319\n",
            "Fitting 5 folds for each of 15 candidates, totalling 75 fits\n"
          ],
          "name": "stdout"
        },
        {
          "output_type": "stream",
          "text": [
            "[Parallel(n_jobs=4)]: Done  10 tasks      | elapsed:    2.0s\n",
            "[Parallel(n_jobs=4)]: Done  64 tasks      | elapsed:   10.6s\n",
            "[Parallel(n_jobs=4)]: Done  75 out of  75 | elapsed:   12.2s finished\n"
          ],
          "name": "stderr"
        },
        {
          "output_type": "stream",
          "text": [
            "it 7/10-Modelo 9/9\n",
            "mae: 2101.9843139264685\n",
            "Iteración 8/10\n",
            "Fitting 5 folds for each of 3 candidates, totalling 15 fits\n",
            "it 8/10-Modelo 1/9\n",
            "mae: 80.40466020744964\n",
            "Fitting 5 folds for each of 3 candidates, totalling 15 fits\n"
          ],
          "name": "stdout"
        },
        {
          "output_type": "stream",
          "text": [
            "[Parallel(n_jobs=4)]: Using backend LokyBackend with 4 concurrent workers.\n",
            "[Parallel(n_jobs=4)]: Done  12 out of  15 | elapsed:    0.1s remaining:    0.0s\n",
            "[Parallel(n_jobs=4)]: Done  15 out of  15 | elapsed:    0.1s finished\n",
            "[Parallel(n_jobs=4)]: Using backend LokyBackend with 4 concurrent workers.\n",
            "[Parallel(n_jobs=4)]: Done   8 out of  15 | elapsed:    0.1s remaining:    0.0s\n",
            "[Parallel(n_jobs=4)]: Done  12 out of  15 | elapsed:    0.1s remaining:    0.0s\n",
            "[Parallel(n_jobs=4)]: Done  15 out of  15 | elapsed:    0.1s finished\n"
          ],
          "name": "stderr"
        },
        {
          "output_type": "stream",
          "text": [
            "it 8/10-Modelo 2/9\n",
            "mae: 80.40466020744964\n",
            "Fitting 5 folds for each of 30 candidates, totalling 150 fits\n"
          ],
          "name": "stdout"
        },
        {
          "output_type": "stream",
          "text": [
            "[Parallel(n_jobs=4)]: Using backend LokyBackend with 4 concurrent workers.\n",
            "[Parallel(n_jobs=4)]: Done  24 tasks      | elapsed:    0.2s\n",
            "[Parallel(n_jobs=4)]: Done 150 out of 150 | elapsed:    0.6s finished\n",
            "[Parallel(n_jobs=4)]: Using backend LokyBackend with 4 concurrent workers.\n",
            "[Parallel(n_jobs=4)]: Done  16 tasks      | elapsed:    0.1s\n"
          ],
          "name": "stderr"
        },
        {
          "output_type": "stream",
          "text": [
            "it 8/10-Modelo 3/9\n",
            "mae: 80.61338165967977\n",
            "Fitting 5 folds for each of 15 candidates, totalling 75 fits\n"
          ],
          "name": "stdout"
        },
        {
          "output_type": "stream",
          "text": [
            "[Parallel(n_jobs=4)]: Done  75 out of  75 | elapsed:    0.4s finished\n",
            "[Parallel(n_jobs=4)]: Using backend LokyBackend with 4 concurrent workers.\n",
            "[Parallel(n_jobs=4)]: Done  32 tasks      | elapsed:    0.2s\n"
          ],
          "name": "stderr"
        },
        {
          "output_type": "stream",
          "text": [
            "it 8/10-Modelo 4/9\n",
            "mae: 80.4182096234559\n",
            "Fitting 5 folds for each of 75 candidates, totalling 375 fits\n"
          ],
          "name": "stdout"
        },
        {
          "output_type": "stream",
          "text": [
            "[Parallel(n_jobs=4)]: Done 340 tasks      | elapsed:    1.0s\n",
            "[Parallel(n_jobs=4)]: Done 375 out of 375 | elapsed:    1.1s finished\n",
            "[Parallel(n_jobs=4)]: Using backend LokyBackend with 4 concurrent workers.\n"
          ],
          "name": "stderr"
        },
        {
          "output_type": "stream",
          "text": [
            "it 8/10-Modelo 5/9\n",
            "mae: 80.4182096234559\n",
            "Fitting 5 folds for each of 75 candidates, totalling 375 fits\n"
          ],
          "name": "stdout"
        },
        {
          "output_type": "stream",
          "text": [
            "[Parallel(n_jobs=4)]: Done  12 tasks      | elapsed:    0.1s\n",
            "[Parallel(n_jobs=4)]: Done 320 tasks      | elapsed:    0.8s\n",
            "[Parallel(n_jobs=4)]: Done 368 out of 375 | elapsed:    0.9s remaining:    0.0s\n",
            "[Parallel(n_jobs=4)]: Done 375 out of 375 | elapsed:    1.0s finished\n",
            "[Parallel(n_jobs=4)]: Using backend LokyBackend with 4 concurrent workers.\n"
          ],
          "name": "stderr"
        },
        {
          "output_type": "stream",
          "text": [
            "it 8/10-Modelo 6/9\n",
            "mae: 67.26772476545091\n",
            "Fitting 5 folds for each of 75 candidates, totalling 375 fits\n"
          ],
          "name": "stdout"
        },
        {
          "output_type": "stream",
          "text": [
            "[Parallel(n_jobs=4)]: Done  16 tasks      | elapsed:    0.1s\n",
            "[Parallel(n_jobs=4)]: Done 326 tasks      | elapsed:    0.9s\n",
            "[Parallel(n_jobs=4)]: Done 368 out of 375 | elapsed:    1.0s remaining:    0.0s\n",
            "[Parallel(n_jobs=4)]: Done 375 out of 375 | elapsed:    1.0s finished\n",
            "[Parallel(n_jobs=4)]: Using backend LokyBackend with 4 concurrent workers.\n"
          ],
          "name": "stderr"
        },
        {
          "output_type": "stream",
          "text": [
            "it 8/10-Modelo 7/9\n",
            "mae: 56.72037180967378\n",
            "Fitting 5 folds for each of 75 candidates, totalling 375 fits\n"
          ],
          "name": "stdout"
        },
        {
          "output_type": "stream",
          "text": [
            "[Parallel(n_jobs=4)]: Done  12 tasks      | elapsed:    0.1s\n",
            "[Parallel(n_jobs=4)]: Done 320 tasks      | elapsed:    0.9s\n",
            "[Parallel(n_jobs=4)]: Done 368 out of 375 | elapsed:    1.0s remaining:    0.0s\n",
            "[Parallel(n_jobs=4)]: Done 375 out of 375 | elapsed:    1.0s finished\n",
            "[Parallel(n_jobs=4)]: Using backend LokyBackend with 4 concurrent workers.\n"
          ],
          "name": "stderr"
        },
        {
          "output_type": "stream",
          "text": [
            "it 8/10-Modelo 8/9\n",
            "mae: 58.776117811773375\n",
            "Fitting 5 folds for each of 15 candidates, totalling 75 fits\n"
          ],
          "name": "stdout"
        },
        {
          "output_type": "stream",
          "text": [
            "[Parallel(n_jobs=4)]: Done  10 tasks      | elapsed:    2.0s\n",
            "[Parallel(n_jobs=4)]: Done  64 tasks      | elapsed:   10.8s\n",
            "[Parallel(n_jobs=4)]: Done  75 out of  75 | elapsed:   12.4s finished\n"
          ],
          "name": "stderr"
        },
        {
          "output_type": "stream",
          "text": [
            "it 8/10-Modelo 9/9\n",
            "mae: 1349.6095095370258\n",
            "Iteración 9/10\n",
            "Fitting 5 folds for each of 3 candidates, totalling 15 fits\n",
            "it 9/10-Modelo 1/9\n",
            "mae: 58.02958876275629\n",
            "Fitting 5 folds for each of 3 candidates, totalling 15 fits\n"
          ],
          "name": "stdout"
        },
        {
          "output_type": "stream",
          "text": [
            "[Parallel(n_jobs=4)]: Using backend LokyBackend with 4 concurrent workers.\n",
            "[Parallel(n_jobs=4)]: Done  12 out of  15 | elapsed:    0.1s remaining:    0.0s\n",
            "[Parallel(n_jobs=4)]: Done  15 out of  15 | elapsed:    0.1s finished\n",
            "[Parallel(n_jobs=4)]: Using backend LokyBackend with 4 concurrent workers.\n",
            "[Parallel(n_jobs=4)]: Done   8 out of  15 | elapsed:    0.0s remaining:    0.0s\n",
            "[Parallel(n_jobs=4)]: Done  12 out of  15 | elapsed:    0.1s remaining:    0.0s\n",
            "[Parallel(n_jobs=4)]: Done  15 out of  15 | elapsed:    0.1s finished\n",
            "[Parallel(n_jobs=4)]: Using backend LokyBackend with 4 concurrent workers.\n",
            "[Parallel(n_jobs=4)]: Done  14 tasks      | elapsed:    0.1s\n"
          ],
          "name": "stderr"
        },
        {
          "output_type": "stream",
          "text": [
            "it 9/10-Modelo 2/9\n",
            "mae: 58.02958876275629\n",
            "Fitting 5 folds for each of 30 candidates, totalling 150 fits\n"
          ],
          "name": "stdout"
        },
        {
          "output_type": "stream",
          "text": [
            "[Parallel(n_jobs=4)]: Done 150 out of 150 | elapsed:    0.8s finished\n",
            "[Parallel(n_jobs=4)]: Using backend LokyBackend with 4 concurrent workers.\n",
            "[Parallel(n_jobs=4)]: Done  12 tasks      | elapsed:    0.1s\n"
          ],
          "name": "stderr"
        },
        {
          "output_type": "stream",
          "text": [
            "it 9/10-Modelo 3/9\n",
            "mae: 57.839868813463\n",
            "Fitting 5 folds for each of 15 candidates, totalling 75 fits\n"
          ],
          "name": "stdout"
        },
        {
          "output_type": "stream",
          "text": [
            "[Parallel(n_jobs=4)]: Done  75 out of  75 | elapsed:    0.4s finished\n",
            "[Parallel(n_jobs=4)]: Using backend LokyBackend with 4 concurrent workers.\n",
            "[Parallel(n_jobs=4)]: Done  12 tasks      | elapsed:    0.1s\n"
          ],
          "name": "stderr"
        },
        {
          "output_type": "stream",
          "text": [
            "it 9/10-Modelo 4/9\n",
            "mae: 58.01477323915263\n",
            "Fitting 5 folds for each of 75 candidates, totalling 375 fits\n"
          ],
          "name": "stdout"
        },
        {
          "output_type": "stream",
          "text": [
            "[Parallel(n_jobs=4)]: Done 320 tasks      | elapsed:    0.8s\n",
            "[Parallel(n_jobs=4)]: Done 368 out of 375 | elapsed:    0.9s remaining:    0.0s\n",
            "[Parallel(n_jobs=4)]: Done 375 out of 375 | elapsed:    0.9s finished\n",
            "[Parallel(n_jobs=4)]: Using backend LokyBackend with 4 concurrent workers.\n"
          ],
          "name": "stderr"
        },
        {
          "output_type": "stream",
          "text": [
            "it 9/10-Modelo 5/9\n",
            "mae: 58.01477323915263\n",
            "Fitting 5 folds for each of 75 candidates, totalling 375 fits\n"
          ],
          "name": "stdout"
        },
        {
          "output_type": "stream",
          "text": [
            "[Parallel(n_jobs=4)]: Done  12 tasks      | elapsed:    0.1s\n",
            "[Parallel(n_jobs=4)]: Done 320 tasks      | elapsed:    0.8s\n",
            "[Parallel(n_jobs=4)]: Done 368 out of 375 | elapsed:    0.9s remaining:    0.0s\n",
            "[Parallel(n_jobs=4)]: Done 375 out of 375 | elapsed:    0.9s finished\n",
            "[Parallel(n_jobs=4)]: Using backend LokyBackend with 4 concurrent workers.\n"
          ],
          "name": "stderr"
        },
        {
          "output_type": "stream",
          "text": [
            "it 9/10-Modelo 6/9\n",
            "mae: 123.9710659159028\n",
            "Fitting 5 folds for each of 75 candidates, totalling 375 fits\n"
          ],
          "name": "stdout"
        },
        {
          "output_type": "stream",
          "text": [
            "[Parallel(n_jobs=4)]: Done  16 tasks      | elapsed:    0.1s\n",
            "[Parallel(n_jobs=4)]: Done 326 tasks      | elapsed:    0.9s\n",
            "[Parallel(n_jobs=4)]: Done 368 out of 375 | elapsed:    1.0s remaining:    0.0s\n",
            "[Parallel(n_jobs=4)]: Done 375 out of 375 | elapsed:    1.0s finished\n",
            "[Parallel(n_jobs=4)]: Using backend LokyBackend with 4 concurrent workers.\n"
          ],
          "name": "stderr"
        },
        {
          "output_type": "stream",
          "text": [
            "it 9/10-Modelo 7/9\n",
            "mae: 50.82471915558243\n",
            "Fitting 5 folds for each of 75 candidates, totalling 375 fits\n"
          ],
          "name": "stdout"
        },
        {
          "output_type": "stream",
          "text": [
            "[Parallel(n_jobs=4)]: Done  12 tasks      | elapsed:    0.1s\n",
            "[Parallel(n_jobs=4)]: Done 320 tasks      | elapsed:    0.9s\n",
            "[Parallel(n_jobs=4)]: Done 368 out of 375 | elapsed:    1.0s remaining:    0.0s\n",
            "[Parallel(n_jobs=4)]: Done 375 out of 375 | elapsed:    1.0s finished\n",
            "[Parallel(n_jobs=4)]: Using backend LokyBackend with 4 concurrent workers.\n"
          ],
          "name": "stderr"
        },
        {
          "output_type": "stream",
          "text": [
            "it 9/10-Modelo 8/9\n",
            "mae: 104.10113938575391\n",
            "Fitting 5 folds for each of 15 candidates, totalling 75 fits\n"
          ],
          "name": "stdout"
        },
        {
          "output_type": "stream",
          "text": [
            "[Parallel(n_jobs=4)]: Done  10 tasks      | elapsed:    1.9s\n",
            "[Parallel(n_jobs=4)]: Done  64 tasks      | elapsed:   10.7s\n",
            "[Parallel(n_jobs=4)]: Done  75 out of  75 | elapsed:   12.6s finished\n"
          ],
          "name": "stderr"
        },
        {
          "output_type": "stream",
          "text": [
            "it 9/10-Modelo 9/9\n",
            "mae: 3752.6968581676942\n",
            "Iteración 10/10\n",
            "Fitting 5 folds for each of 3 candidates, totalling 15 fits\n",
            "it 10/10-Modelo 1/9\n",
            "mae: 82.50989415972755\n",
            "Fitting 5 folds for each of 3 candidates, totalling 15 fits\n"
          ],
          "name": "stdout"
        },
        {
          "output_type": "stream",
          "text": [
            "[Parallel(n_jobs=4)]: Using backend LokyBackend with 4 concurrent workers.\n",
            "[Parallel(n_jobs=4)]: Done  12 out of  15 | elapsed:    0.1s remaining:    0.0s\n",
            "[Parallel(n_jobs=4)]: Done  15 out of  15 | elapsed:    0.1s finished\n",
            "[Parallel(n_jobs=4)]: Using backend LokyBackend with 4 concurrent workers.\n",
            "[Parallel(n_jobs=4)]: Done  12 out of  15 | elapsed:    0.1s remaining:    0.0s\n",
            "[Parallel(n_jobs=4)]: Done  15 out of  15 | elapsed:    0.1s finished\n",
            "[Parallel(n_jobs=4)]: Using backend LokyBackend with 4 concurrent workers.\n",
            "[Parallel(n_jobs=4)]: Done  12 tasks      | elapsed:    0.1s\n"
          ],
          "name": "stderr"
        },
        {
          "output_type": "stream",
          "text": [
            "it 10/10-Modelo 2/9\n",
            "mae: 82.50989415972755\n",
            "Fitting 5 folds for each of 30 candidates, totalling 150 fits\n"
          ],
          "name": "stdout"
        },
        {
          "output_type": "stream",
          "text": [
            "[Parallel(n_jobs=4)]: Done 150 out of 150 | elapsed:    0.8s finished\n",
            "[Parallel(n_jobs=4)]: Using backend LokyBackend with 4 concurrent workers.\n",
            "[Parallel(n_jobs=4)]: Done  20 tasks      | elapsed:    0.2s\n"
          ],
          "name": "stderr"
        },
        {
          "output_type": "stream",
          "text": [
            "it 10/10-Modelo 3/9\n",
            "mae: 82.62455638729159\n",
            "Fitting 5 folds for each of 15 candidates, totalling 75 fits\n"
          ],
          "name": "stdout"
        },
        {
          "output_type": "stream",
          "text": [
            "[Parallel(n_jobs=4)]: Done  75 out of  75 | elapsed:    0.4s finished\n",
            "[Parallel(n_jobs=4)]: Using backend LokyBackend with 4 concurrent workers.\n",
            "[Parallel(n_jobs=4)]: Done  12 tasks      | elapsed:    0.1s\n"
          ],
          "name": "stderr"
        },
        {
          "output_type": "stream",
          "text": [
            "it 10/10-Modelo 4/9\n",
            "mae: 82.51736961943188\n",
            "Fitting 5 folds for each of 75 candidates, totalling 375 fits\n"
          ],
          "name": "stdout"
        },
        {
          "output_type": "stream",
          "text": [
            "[Parallel(n_jobs=4)]: Done 320 tasks      | elapsed:    0.8s\n",
            "[Parallel(n_jobs=4)]: Done 368 out of 375 | elapsed:    0.9s remaining:    0.0s\n",
            "[Parallel(n_jobs=4)]: Done 375 out of 375 | elapsed:    0.9s finished\n",
            "[Parallel(n_jobs=4)]: Using backend LokyBackend with 4 concurrent workers.\n"
          ],
          "name": "stderr"
        },
        {
          "output_type": "stream",
          "text": [
            "it 10/10-Modelo 5/9\n",
            "mae: 82.51736961943188\n",
            "Fitting 5 folds for each of 75 candidates, totalling 375 fits\n"
          ],
          "name": "stdout"
        },
        {
          "output_type": "stream",
          "text": [
            "[Parallel(n_jobs=4)]: Done  12 tasks      | elapsed:    0.1s\n",
            "[Parallel(n_jobs=4)]: Done 320 tasks      | elapsed:    0.8s\n",
            "[Parallel(n_jobs=4)]: Done 368 out of 375 | elapsed:    0.9s remaining:    0.0s\n",
            "[Parallel(n_jobs=4)]: Done 375 out of 375 | elapsed:    0.9s finished\n",
            "[Parallel(n_jobs=4)]: Using backend LokyBackend with 4 concurrent workers.\n"
          ],
          "name": "stderr"
        },
        {
          "output_type": "stream",
          "text": [
            "it 10/10-Modelo 6/9\n",
            "mae: 53.70374014860235\n",
            "Fitting 5 folds for each of 75 candidates, totalling 375 fits\n"
          ],
          "name": "stdout"
        },
        {
          "output_type": "stream",
          "text": [
            "[Parallel(n_jobs=4)]: Done  12 tasks      | elapsed:    0.1s\n",
            "[Parallel(n_jobs=4)]: Done 320 tasks      | elapsed:    0.9s\n",
            "[Parallel(n_jobs=4)]: Done 375 out of 375 | elapsed:    1.0s finished\n",
            "[Parallel(n_jobs=4)]: Using backend LokyBackend with 4 concurrent workers.\n"
          ],
          "name": "stderr"
        },
        {
          "output_type": "stream",
          "text": [
            "it 10/10-Modelo 7/9\n",
            "mae: 78.99904578351862\n",
            "Fitting 5 folds for each of 75 candidates, totalling 375 fits\n"
          ],
          "name": "stdout"
        },
        {
          "output_type": "stream",
          "text": [
            "[Parallel(n_jobs=4)]: Done  12 tasks      | elapsed:    0.1s\n",
            "[Parallel(n_jobs=4)]: Done 320 tasks      | elapsed:    0.8s\n",
            "[Parallel(n_jobs=4)]: Done 368 out of 375 | elapsed:    0.9s remaining:    0.0s\n",
            "[Parallel(n_jobs=4)]: Done 375 out of 375 | elapsed:    1.0s finished\n",
            "[Parallel(n_jobs=4)]: Using backend LokyBackend with 4 concurrent workers.\n"
          ],
          "name": "stderr"
        },
        {
          "output_type": "stream",
          "text": [
            "it 10/10-Modelo 8/9\n",
            "mae: 52.42266004056751\n",
            "Fitting 5 folds for each of 15 candidates, totalling 75 fits\n"
          ],
          "name": "stdout"
        },
        {
          "output_type": "stream",
          "text": [
            "[Parallel(n_jobs=4)]: Done  10 tasks      | elapsed:    2.1s\n",
            "[Parallel(n_jobs=4)]: Done  64 tasks      | elapsed:   10.6s\n",
            "[Parallel(n_jobs=4)]: Done  75 out of  75 | elapsed:   12.4s finished\n"
          ],
          "name": "stderr"
        },
        {
          "output_type": "stream",
          "text": [
            "it 10/10-Modelo 9/9\n",
            "mae: 1832.6428093609356\n"
          ],
          "name": "stdout"
        }
      ]
    },
    {
      "cell_type": "code",
      "metadata": {
        "scrolled": true,
        "id": "DUupuuaCwzPp",
        "outputId": "3137dbe9-4117-4210-f339-b9a1e35e6b96"
      },
      "source": [
        "mae1 = np.delete(mae, -1, axis=1)\n",
        "\n",
        "plt.figure(figsize=(14,6))\n",
        "plt.boxplot(mae1)\n",
        "plt.xticks(ticks=np.arange(len(steps)-1)+1,\n",
        "                      labels=label_model)\n",
        "plt.ylabel('mae -- Contagios')\n",
        "\n",
        "plt.figure()\n",
        "plt.boxplot(mae[:,-1])\n",
        "plt.xlabel(label_model[-1])\n",
        "plt.ylabel('mae -- Contagios')\n",
        "\n",
        "plt.show()\n",
        "mae"
      ],
      "execution_count": null,
      "outputs": [
        {
          "output_type": "display_data",
          "data": {
            "image/png": "[encoded data removed]",
            "text/plain": [
              "<Figure size 1008x432 with 1 Axes>"
            ]
          },
          "metadata": {
            "tags": [],
            "needs_background": "light"
          }
        },
        {
          "output_type": "display_data",
          "data": {
            "image/png": "[encoded data removed]",
            "text/plain": [
              "<Figure size 432x288 with 1 Axes>"
            ]
          },
          "metadata": {
            "tags": [],
            "needs_background": "light"
          }
        },
        {
          "output_type": "execute_result",
          "data": {
            "text/plain": [
              "array([[  62.37611917,   62.37611917,   62.76490119,   62.40545149,\n",
              "          62.40545149,   52.94807985,   53.8026233 ,   69.71538029,\n",
              "        6368.27474028],\n",
              "       [  80.91165196,   80.91165196,   80.76780924,   80.90217963,\n",
              "          80.90217963,   67.98737287,   62.84812422,   35.47399105,\n",
              "        1752.59284707],\n",
              "       [  66.90165803,   66.90165803,   67.03246395,   66.91046417,\n",
              "          66.91046417,   90.12246323,   51.24083917,   76.72900937,\n",
              "         949.78180563],\n",
              "       [  71.92014886,   71.92014886,   71.92039504,   71.92016431,\n",
              "          71.92016431,   72.24801933,   55.56572624,   44.99361496,\n",
              "        1698.09376723],\n",
              "       [  74.44642756,   74.44642756,   74.52365311,   74.45140053,\n",
              "          74.45140053,   57.71984072,   69.72027988,   43.86623639,\n",
              "        4071.51773259],\n",
              "       [  53.55534564,   53.55534564,   53.56982942,   53.55640861,\n",
              "          53.55640861,   67.95864244,   47.18891189,   69.27312347,\n",
              "        2621.43414348],\n",
              "       [  56.72669696,   56.72669696,   56.75956633,   56.72895719,\n",
              "          56.72895719,   88.92193541,   52.01222094,   92.96935968,\n",
              "        2101.98431393],\n",
              "       [  80.40466021,   80.40466021,   80.61338166,   80.41820962,\n",
              "          80.41820962,   67.26772477,   56.72037181,   58.77611781,\n",
              "        1349.60950954],\n",
              "       [  58.02958876,   58.02958876,   57.83986881,   58.01477324,\n",
              "          58.01477324,  123.97106592,   50.82471916,  104.10113939,\n",
              "        3752.69685817],\n",
              "       [  82.50989416,   82.50989416,   82.62455639,   82.51736962,\n",
              "          82.51736962,   53.70374015,   78.99904578,   52.42266004,\n",
              "        1832.64280936]])"
            ]
          },
          "metadata": {
            "tags": []
          },
          "execution_count": 9
        }
      ]
    },
    {
      "cell_type": "code",
      "metadata": {
        "scrolled": true,
        "id": "yyMyZePZwzPz",
        "outputId": "d83d1487-13bd-4875-f108-0e23146487c9"
      },
      "source": [
        "modelo = [4, 6] #Elastic Net y Kernel Ridge Sigmoide\n",
        "\n",
        "def mode_hyperpar(modelo):    \n",
        "\n",
        "    nh = len(best_hyperparams[0][modelo])\n",
        "    hyperpar = np.zeros((Niter, nh))\n",
        "\n",
        "    for i in range(Niter):\n",
        "        for j in range(nh):\n",
        "            hyperpar[i,j] = best_hyperparams[i][modelo].get(list(best_hyperparams[i][modelo].keys())[j])\n",
        "\n",
        "    plt.boxplot(hyperpar)\n",
        "    plt.xticks(ticks=np.arange(nh)+1,labels=list(best_hyperparams[0][modelo].keys()))\n",
        "    plt.title('Best_hyperparameters ' + label_model[modelo])\n",
        "    plt.grid()\n",
        "    plt.show()\n",
        "    \n",
        "    mode_hyper = mode(hyperpar,axis=0)[0][0]\n",
        "    print(\"Modes= \", mode_hyper)\n",
        "    \n",
        "    return mode_hyper, nh\n",
        "\n",
        "mode_hyper_0, nh_0 = mode_hyperpar(modelo[0])\n",
        "mode_hyper_1, nh_1 = mode_hyperpar(modelo[1])"
      ],
      "execution_count": null,
      "outputs": [
        {
          "output_type": "display_data",
          "data": {
            "image/png": "[encoded data removed]",
            "text/plain": [
              "<Figure size 432x288 with 1 Axes>"
            ]
          },
          "metadata": {
            "tags": [],
            "needs_background": "light"
          }
        },
        {
          "output_type": "stream",
          "text": [
            "Modes=  [0.1 1.  0.1]\n"
          ],
          "name": "stdout"
        },
        {
          "output_type": "display_data",
          "data": {
            "image/png": "[encoded data removed]",
            "text/plain": [
              "<Figure size 432x288 with 1 Axes>"
            ]
          },
          "metadata": {
            "tags": [],
            "needs_background": "light"
          }
        },
        {
          "output_type": "stream",
          "text": [
            "Modes=  [0.1 0.1 0.1]\n"
          ],
          "name": "stdout"
        }
      ]
    },
    {
      "cell_type": "code",
      "metadata": {
        "id": "sw0Rzwv2wzP_",
        "outputId": "bfc21b21-dd3e-44ac-a525-c6150b3ca3af"
      },
      "source": [
        "def train_model(modelo, nh, mode_hyper):\n",
        "    model_f = Pipeline(steps[modelo])\n",
        "    paramsf = params[modelo]\n",
        "    hyperl = list(params[modelo].keys())\n",
        "\n",
        "    for j in range(nh):\n",
        "        paramsf[hyperl[j]] = mode_hyper[j]\n",
        "\n",
        "    return model_f, paramsf\n",
        "\n",
        "elastic, params_0 = train_model(modelo[0], nh_0, mode_hyper_0)\n",
        "elastic.set_params(**params_0)\n",
        "elastic.fit(X,y)\n",
        "\n",
        "kernel, params_1 = train_model(modelo[1], nh_1, mode_hyper_1)\n",
        "kernel.set_params(**params_1)\n",
        "kernel.fit(X,y)\n"
      ],
      "execution_count": null,
      "outputs": [
        {
          "output_type": "execute_result",
          "data": {
            "text/plain": [
              "Pipeline(memory=None,\n",
              "         steps=[('scaler',\n",
              "                 StandardScaler(copy=True, with_mean=True, with_std=True)),\n",
              "                ('rep',\n",
              "                 PCA(copy=True, iterated_power='auto', n_components=0.1,\n",
              "                     random_state=None, svd_solver='auto', tol=0.0,\n",
              "                     whiten=False)),\n",
              "                ('reg',\n",
              "                 KernelRidge(alpha=0.1, coef0=1, degree=3, gamma=0.1,\n",
              "                             kernel='sigmoid', kernel_params=None))],\n",
              "         verbose=False)"
            ]
          },
          "metadata": {
            "tags": []
          },
          "execution_count": 11
        }
      ]
    },
    {
      "cell_type": "code",
      "metadata": {
        "id": "KHynAgICwzQK",
        "outputId": "984fe467-97e3-43c8-9b35-b20e2cecaf1f"
      },
      "source": [
        "y_pred_e = elastic.predict(serie[len(serie)-w:].reshape(1,-1))[0]\n",
        "y_pred_k = kernel.predict(serie[len(serie)-w:].reshape(1,-1))[0]\n",
        "\n",
        "print('Predicción contagiados covid19 ',date.today(),\n",
        "      '\\nElastic Net: ', y_pred_e,\n",
        "      '\\nKernel Ridge (sigmoid): ', y_pred_k)"
      ],
      "execution_count": null,
      "outputs": [
        {
          "output_type": "stream",
          "text": [
            "Predicción contagiados covid19  2020-05-07 \n",
            "Elastic Net:  8224.406551231801 \n",
            "Kernel Ridge (sigmoid):  [9686.90606352]\n"
          ],
          "name": "stdout"
        }
      ]
    },
    {
      "cell_type": "code",
      "metadata": {
        "id": "LGFYTSCJwzQW",
        "outputId": "4aed8bd6-7ee4-459a-9052-31132f4f395a"
      },
      "source": [
        "plt.plot(y)\n",
        "plt.plot(len(y),y_pred_e, '*', label='elastic net')\n",
        "plt.plot(len(y),y_pred_k, '*', label='kernel ridge')\n",
        "\n",
        "plt.legend(loc='best')\n",
        "plt.show()"
      ],
      "execution_count": null,
      "outputs": [
        {
          "output_type": "display_data",
          "data": {
            "image/png": "[encoded data removed]",
            "text/plain": [
              "<Figure size 432x288 with 1 Axes>"
            ]
          },
          "metadata": {
            "tags": [],
            "needs_background": "light"
          }
        }
      ]
    },
    {
      "cell_type": "code",
      "metadata": {
        "id": "XkZCG79IwzQZ",
        "outputId": "7d3d3999-ef8e-48db-eb7b-ee257ea7939a"
      },
      "source": [
        "plt.plot(y, label='objetivo')\n",
        "plt.plot(elastic.predict(X), label='elasticNet')\n",
        "plt.plot(kernel.predict(X), label='kernelRidge')\n",
        "\n",
        "plt.legend(loc='best')\n",
        "plt.show()"
      ],
      "execution_count": null,
      "outputs": [
        {
          "output_type": "display_data",
          "data": {
            "image/png": "[encoded data removed]",
            "text/plain": [
              "<Figure size 432x288 with 1 Axes>"
            ]
          },
          "metadata": {
            "tags": [],
            "needs_background": "light"
          }
        }
      ]
    },
    {
      "cell_type": "markdown",
      "metadata": {
        "id": "EEJ7gw-ZwzQg"
      },
      "source": [
        "# Contagios por días"
      ]
    },
    {
      "cell_type": "code",
      "metadata": {
        "id": "M4ZcdjzswzQi"
      },
      "source": [
        "stepsd = [\n",
        "    \n",
        "    [('scaler', StandardScaler()),\n",
        "    ('rep', PCA()),\n",
        "    ('reg', LinearRegression(fit_intercept = 'False'))],\n",
        "    \n",
        "    [('scaler', StandardScaler()),\n",
        "    ('rep', PCA()),\n",
        "    ('reg', LinearRegression())],\n",
        "    \n",
        "    [('scaler', StandardScaler()),\n",
        "    ('rep', PCA()),\n",
        "    ('reg', Ridge())],\n",
        "    \n",
        "    [('scaler', StandardScaler()),\n",
        "    ('rep', PCA()),\n",
        "    ('reg', Lasso())],\n",
        "    \n",
        "    [('scaler', StandardScaler()),\n",
        "    ('rep', PCA()),\n",
        "    ('reg', ElasticNet())],\n",
        "    \n",
        "    [('scaler', StandardScaler()),\n",
        "    ('rep', PCA()),\n",
        "    ('reg', KernelRidge(kernel = 'rbf'))],\n",
        "    \n",
        "    [('scaler', StandardScaler()),\n",
        "    ('rep', PCA()),\n",
        "    ('reg', KernelRidge(kernel = 'sigmoid'))],\n",
        "    \n",
        "    [('scaler', StandardScaler()),\n",
        "    ('rep', PCA()),\n",
        "    ('reg', KernelRidge(kernel = 'laplacian'))],\n",
        "    \n",
        "    [('scaler', StandardScaler()),\n",
        "    ('rep', tsne_map(n_components = 2,  \n",
        "                     perplexity = 10, \n",
        "                     n_neighbors = 3)),\n",
        "    ('reg', KernelRidge(kernel = 'sigmoid'))],\n",
        "    \n",
        "    \n",
        "]\n",
        "\n",
        "paramsd = [\n",
        "    \n",
        "    {'rep__n_components': [0.1, 0.5, 0.9],\n",
        "    },\n",
        "    \n",
        "    {'rep__n_components': [0.1, 0.5, 0.9],\n",
        "    },\n",
        "    \n",
        "    {'rep__n_components': [0.1, 0.5, 0.9],\n",
        "     'reg__alpha': np.linspace(0.1,1,10)     \n",
        "    },\n",
        "    \n",
        "    {'rep__n_components': [0.1, 0.5, 0.9],\n",
        "     'reg__alpha': np.linspace(0.1,1,5)\n",
        "    }, #max_iter por defecto 1000\n",
        "    \n",
        "    {'rep__n_components': [0.1, 0.5, 0.9],\n",
        "     'reg__alpha': np.linspace(0.1,1,5),\n",
        "     'reg__l1_ratio': np.linspace(0.1,1,5)\n",
        "    }, #max_iter por defecto 1000\n",
        "    \n",
        "    {'rep__n_components': [0.1, 0.5, 0.9],\n",
        "     'reg__alpha': np.linspace(0.1,1,5),\n",
        "     'reg__gamma': np.linspace(0.1,1,5),\n",
        "    },\n",
        "    \n",
        "    {'rep__n_components': [0.1, 0.5, 0.9],\n",
        "     'reg__alpha': np.linspace(0.1,1,5),\n",
        "     'reg__gamma': np.linspace(0.1,1,5),\n",
        "    },\n",
        "    \n",
        "    {'rep__n_components': [0.1, 0.5, 0.9],\n",
        "     'reg__alpha': np.linspace(0.1,1,5),\n",
        "     'reg__gamma': np.linspace(0.1,1,5),\n",
        "    },    \n",
        "\n",
        "    {'reg__alpha': [0.1, 0.5, 0.9],\n",
        "     'reg__gamma': np.linspace(0.1,1,5),\n",
        "    }\n",
        "    \n",
        "]\n",
        "\n",
        "\n",
        "label_model = ['Linear', 'Linear fit', 'Ridge', 'Lasso', 'Elastic', \n",
        "               'Kernel rbf', 'Kernel sigmoid', 'Kernel laplacian', 'Kernel sigmoid t-sne']"
      ],
      "execution_count": null,
      "outputs": []
    },
    {
      "cell_type": "code",
      "metadata": {
        "scrolled": true,
        "id": "S6Sey-CYwzQm",
        "outputId": "b7ad1510-909e-484d-cddf-e9536b03d7a0"
      },
      "source": [
        "Niter = 10 #Número de particiones\n",
        "maed = np.zeros((Niter, len(stepsd))) #Error absoluto\n",
        "best_estimatorsd = Niter*[len(stepsd)*[None]]\n",
        "best_hyperparamsd = Niter*[len(stepsd)*[None]]\n",
        "\n",
        "for j in range(Niter):\n",
        "    \n",
        "    print(\"Iteración %d/%d\" %(j+1, Niter))\n",
        "    Xtraind, Xtestd, ytraind, ytestd = train_test_split(\n",
        "        Xd,yd,test_size=0.3) #Xtrain(70%) ytrain(30%)\n",
        "    \n",
        "    #Recorre los modelos\n",
        "    for r in range(len(stepsd)):\n",
        "        \n",
        "        grid_searchd = GridSearchCV(Pipeline(stepsd[r]), paramsd[r],\n",
        "                cv=5, verbose=5, scoring='neg_mean_absolute_error', n_jobs=4)\n",
        "        \n",
        "        #Entrenando\n",
        "        grid_searchd.fit(Xtraind, ytraind)\n",
        "        \n",
        "        #Realizando predicción con el mejor modelo\n",
        "        ypredd = grid_searchd.best_estimator_.predict(Xtestd)\n",
        "        \n",
        "        #Guardando el mejor modelo\n",
        "        best_estimatorsd[j][r] = grid_searchd.best_estimator_\n",
        "        \n",
        "        #Guardando los mejores hiperparámetros\n",
        "        best_hyperparamsd[j][r] = grid_searchd.best_params_\n",
        "        \n",
        "        #Guardando error\n",
        "        maed[j,r] = mean_absolute_error(ytestd, ypred)\n",
        "        \n",
        "        print('it %d/%d-Modelo %d/%d'%(j+1,Niter,r+1,len(stepsd)))\n",
        "        print('mae:',maed[j,r])\n",
        "\n",
        "        savedata = {\n",
        "            'acc':maed,\n",
        "            'best_models':best_estimatorsd,\n",
        "            'best_parameters':best_hyperparamsd,\n",
        "              } \n",
        "        dump(savedata,'covid19_2.joblib')"
      ],
      "execution_count": null,
      "outputs": [
        {
          "output_type": "stream",
          "text": [
            "Iteración 1/10\n",
            "Fitting 5 folds for each of 3 candidates, totalling 15 fits\n",
            "it 1/10-Modelo 1/9\n",
            "mae: 1398.023716865389\n",
            "Fitting 5 folds for each of 3 candidates, totalling 15 fits\n",
            "it 1/10-Modelo 2/9\n",
            "mae: 1398.023716865389\n",
            "Fitting 5 folds for each of 30 candidates, totalling 150 fits\n"
          ],
          "name": "stdout"
        },
        {
          "output_type": "stream",
          "text": [
            "[Parallel(n_jobs=4)]: Using backend LokyBackend with 4 concurrent workers.\n",
            "[Parallel(n_jobs=4)]: Done  12 out of  15 | elapsed:    0.1s remaining:    0.0s\n",
            "[Parallel(n_jobs=4)]: Done  15 out of  15 | elapsed:    0.1s finished\n",
            "[Parallel(n_jobs=4)]: Using backend LokyBackend with 4 concurrent workers.\n",
            "[Parallel(n_jobs=4)]: Done  12 out of  15 | elapsed:    0.0s remaining:    0.0s\n",
            "[Parallel(n_jobs=4)]: Done  15 out of  15 | elapsed:    0.0s finished\n",
            "[Parallel(n_jobs=4)]: Using backend LokyBackend with 4 concurrent workers.\n",
            "[Parallel(n_jobs=4)]: Done  12 tasks      | elapsed:    0.1s\n",
            "[Parallel(n_jobs=4)]: Done 150 out of 150 | elapsed:    0.3s finished\n",
            "[Parallel(n_jobs=4)]: Using backend LokyBackend with 4 concurrent workers.\n",
            "[Parallel(n_jobs=4)]: Done  12 tasks      | elapsed:    0.1s\n",
            "[Parallel(n_jobs=4)]: Done  75 out of  75 | elapsed:    0.2s finished\n",
            "[Parallel(n_jobs=4)]: Using backend LokyBackend with 4 concurrent workers.\n"
          ],
          "name": "stderr"
        },
        {
          "output_type": "stream",
          "text": [
            "it 1/10-Modelo 3/9\n",
            "mae: 1398.023716865389\n",
            "Fitting 5 folds for each of 15 candidates, totalling 75 fits\n",
            "it 1/10-Modelo 4/9\n",
            "mae: 1398.023716865389\n",
            "Fitting 5 folds for each of 75 candidates, totalling 375 fits\n"
          ],
          "name": "stdout"
        },
        {
          "output_type": "stream",
          "text": [
            "[Parallel(n_jobs=4)]: Done  12 tasks      | elapsed:    0.1s\n",
            "[Parallel(n_jobs=4)]: Done 320 tasks      | elapsed:    0.7s\n",
            "[Parallel(n_jobs=4)]: Done 368 out of 375 | elapsed:    0.7s remaining:    0.0s\n",
            "[Parallel(n_jobs=4)]: Done 375 out of 375 | elapsed:    0.7s finished\n",
            "[Parallel(n_jobs=4)]: Using backend LokyBackend with 4 concurrent workers.\n",
            "[Parallel(n_jobs=4)]: Done  12 tasks      | elapsed:    0.1s\n"
          ],
          "name": "stderr"
        },
        {
          "output_type": "stream",
          "text": [
            "it 1/10-Modelo 5/9\n",
            "mae: 1398.023716865389\n",
            "Fitting 5 folds for each of 75 candidates, totalling 375 fits\n"
          ],
          "name": "stdout"
        },
        {
          "output_type": "stream",
          "text": [
            "[Parallel(n_jobs=4)]: Done 320 tasks      | elapsed:    0.8s\n",
            "[Parallel(n_jobs=4)]: Done 368 out of 375 | elapsed:    0.9s remaining:    0.0s\n",
            "[Parallel(n_jobs=4)]: Done 375 out of 375 | elapsed:    0.9s finished\n",
            "[Parallel(n_jobs=4)]: Using backend LokyBackend with 4 concurrent workers.\n"
          ],
          "name": "stderr"
        },
        {
          "output_type": "stream",
          "text": [
            "it 1/10-Modelo 6/9\n",
            "mae: 1398.023716865389\n",
            "Fitting 5 folds for each of 75 candidates, totalling 375 fits\n"
          ],
          "name": "stdout"
        },
        {
          "output_type": "stream",
          "text": [
            "[Parallel(n_jobs=4)]: Done  18 tasks      | elapsed:    0.1s\n",
            "[Parallel(n_jobs=4)]: Done 329 tasks      | elapsed:    0.7s\n",
            "[Parallel(n_jobs=4)]: Done 368 out of 375 | elapsed:    0.8s remaining:    0.0s\n",
            "[Parallel(n_jobs=4)]: Done 375 out of 375 | elapsed:    0.8s finished\n",
            "[Parallel(n_jobs=4)]: Using backend LokyBackend with 4 concurrent workers.\n",
            "[Parallel(n_jobs=4)]: Done  12 tasks      | elapsed:    0.1s\n"
          ],
          "name": "stderr"
        },
        {
          "output_type": "stream",
          "text": [
            "it 1/10-Modelo 7/9\n",
            "mae: 1398.023716865389\n",
            "Fitting 5 folds for each of 75 candidates, totalling 375 fits\n"
          ],
          "name": "stdout"
        },
        {
          "output_type": "stream",
          "text": [
            "[Parallel(n_jobs=4)]: Done 320 tasks      | elapsed:    0.6s\n",
            "[Parallel(n_jobs=4)]: Done 368 out of 375 | elapsed:    0.7s remaining:    0.0s\n",
            "[Parallel(n_jobs=4)]: Done 375 out of 375 | elapsed:    0.7s finished\n",
            "[Parallel(n_jobs=4)]: Using backend LokyBackend with 4 concurrent workers.\n"
          ],
          "name": "stderr"
        },
        {
          "output_type": "stream",
          "text": [
            "it 1/10-Modelo 8/9\n",
            "mae: 1398.023716865389\n",
            "Fitting 5 folds for each of 15 candidates, totalling 75 fits\n"
          ],
          "name": "stdout"
        },
        {
          "output_type": "stream",
          "text": [
            "[Parallel(n_jobs=4)]: Done  10 tasks      | elapsed:    1.5s\n",
            "[Parallel(n_jobs=4)]: Done  64 tasks      | elapsed:    8.2s\n",
            "[Parallel(n_jobs=4)]: Done  75 out of  75 | elapsed:    9.4s finished\n"
          ],
          "name": "stderr"
        },
        {
          "output_type": "stream",
          "text": [
            "it 1/10-Modelo 9/9\n",
            "mae: 1398.023716865389\n",
            "Iteración 2/10\n",
            "Fitting 5 folds for each of 3 candidates, totalling 15 fits\n",
            "it 2/10-Modelo 1/9\n",
            "mae: 1355.6043620266792\n",
            "Fitting 5 folds for each of 3 candidates, totalling 15 fits\n",
            "it 2/10-Modelo 2/9\n",
            "mae: 1355.6043620266792\n",
            "Fitting 5 folds for each of 30 candidates, totalling 150 fits\n"
          ],
          "name": "stdout"
        },
        {
          "output_type": "stream",
          "text": [
            "[Parallel(n_jobs=4)]: Using backend LokyBackend with 4 concurrent workers.\n",
            "[Parallel(n_jobs=4)]: Done  12 out of  15 | elapsed:    0.1s remaining:    0.0s\n",
            "[Parallel(n_jobs=4)]: Done  15 out of  15 | elapsed:    0.1s finished\n",
            "[Parallel(n_jobs=4)]: Using backend LokyBackend with 4 concurrent workers.\n",
            "[Parallel(n_jobs=4)]: Done  15 out of  15 | elapsed:    0.1s finished\n",
            "[Parallel(n_jobs=4)]: Using backend LokyBackend with 4 concurrent workers.\n",
            "[Parallel(n_jobs=4)]: Done  16 tasks      | elapsed:    0.1s\n",
            "[Parallel(n_jobs=4)]: Done 150 out of 150 | elapsed:    0.6s finished\n",
            "[Parallel(n_jobs=4)]: Using backend LokyBackend with 4 concurrent workers.\n",
            "[Parallel(n_jobs=4)]: Done  29 tasks      | elapsed:    0.2s\n"
          ],
          "name": "stderr"
        },
        {
          "output_type": "stream",
          "text": [
            "it 2/10-Modelo 3/9\n",
            "mae: 1355.6043620266792\n",
            "Fitting 5 folds for each of 15 candidates, totalling 75 fits\n"
          ],
          "name": "stdout"
        },
        {
          "output_type": "stream",
          "text": [
            "[Parallel(n_jobs=4)]: Done  75 out of  75 | elapsed:    0.3s finished\n",
            "[Parallel(n_jobs=4)]: Using backend LokyBackend with 4 concurrent workers.\n",
            "[Parallel(n_jobs=4)]: Done  18 tasks      | elapsed:    0.1s\n"
          ],
          "name": "stderr"
        },
        {
          "output_type": "stream",
          "text": [
            "it 2/10-Modelo 4/9\n",
            "mae: 1355.6043620266792\n",
            "Fitting 5 folds for each of 75 candidates, totalling 375 fits\n"
          ],
          "name": "stdout"
        },
        {
          "output_type": "stream",
          "text": [
            "[Parallel(n_jobs=4)]: Done 375 out of 375 | elapsed:    0.6s finished\n",
            "[Parallel(n_jobs=4)]: Using backend LokyBackend with 4 concurrent workers.\n",
            "[Parallel(n_jobs=4)]: Done  12 tasks      | elapsed:    0.1s\n"
          ],
          "name": "stderr"
        },
        {
          "output_type": "stream",
          "text": [
            "it 2/10-Modelo 5/9\n",
            "mae: 1355.6043620266792\n",
            "Fitting 5 folds for each of 75 candidates, totalling 375 fits\n"
          ],
          "name": "stdout"
        },
        {
          "output_type": "stream",
          "text": [
            "[Parallel(n_jobs=4)]: Done 320 tasks      | elapsed:    0.6s\n",
            "[Parallel(n_jobs=4)]: Done 375 out of 375 | elapsed:    0.7s finished\n",
            "[Parallel(n_jobs=4)]: Using backend LokyBackend with 4 concurrent workers.\n"
          ],
          "name": "stderr"
        },
        {
          "output_type": "stream",
          "text": [
            "it 2/10-Modelo 6/9\n",
            "mae: 1355.6043620266792\n",
            "Fitting 5 folds for each of 75 candidates, totalling 375 fits\n"
          ],
          "name": "stdout"
        },
        {
          "output_type": "stream",
          "text": [
            "[Parallel(n_jobs=4)]: Done  10 tasks      | elapsed:    0.1s\n",
            "[Parallel(n_jobs=4)]: Done 375 out of 375 | elapsed:    0.8s finished\n",
            "[Parallel(n_jobs=4)]: Using backend LokyBackend with 4 concurrent workers.\n",
            "[Parallel(n_jobs=4)]: Done  12 tasks      | elapsed:    0.1s\n"
          ],
          "name": "stderr"
        },
        {
          "output_type": "stream",
          "text": [
            "it 2/10-Modelo 7/9\n",
            "mae: 1355.6043620266792\n",
            "Fitting 5 folds for each of 75 candidates, totalling 375 fits\n"
          ],
          "name": "stdout"
        },
        {
          "output_type": "stream",
          "text": [
            "[Parallel(n_jobs=4)]: Done 320 tasks      | elapsed:    0.6s\n",
            "[Parallel(n_jobs=4)]: Done 368 out of 375 | elapsed:    0.7s remaining:    0.0s\n",
            "[Parallel(n_jobs=4)]: Done 375 out of 375 | elapsed:    0.7s finished\n",
            "[Parallel(n_jobs=4)]: Using backend LokyBackend with 4 concurrent workers.\n"
          ],
          "name": "stderr"
        },
        {
          "output_type": "stream",
          "text": [
            "it 2/10-Modelo 8/9\n",
            "mae: 1355.6043620266792\n",
            "Fitting 5 folds for each of 15 candidates, totalling 75 fits\n"
          ],
          "name": "stdout"
        },
        {
          "output_type": "stream",
          "text": [
            "[Parallel(n_jobs=4)]: Done  10 tasks      | elapsed:    1.6s\n",
            "[Parallel(n_jobs=4)]: Done  64 tasks      | elapsed:    9.9s\n",
            "[Parallel(n_jobs=4)]: Done  75 out of  75 | elapsed:   11.6s finished\n"
          ],
          "name": "stderr"
        },
        {
          "output_type": "stream",
          "text": [
            "it 2/10-Modelo 9/9\n",
            "mae: 1355.6043620266792\n",
            "Iteración 3/10\n",
            "Fitting 5 folds for each of 3 candidates, totalling 15 fits\n",
            "it 3/10-Modelo 1/9\n",
            "mae: 1372.4108136395823\n",
            "Fitting 5 folds for each of 3 candidates, totalling 15 fits\n",
            "it 3/10-Modelo 2/9\n",
            "mae: 1372.4108136395823\n"
          ],
          "name": "stdout"
        },
        {
          "output_type": "stream",
          "text": [
            "[Parallel(n_jobs=4)]: Using backend LokyBackend with 4 concurrent workers.\n",
            "[Parallel(n_jobs=4)]: Done  15 out of  15 | elapsed:    0.1s finished\n",
            "[Parallel(n_jobs=4)]: Using backend LokyBackend with 4 concurrent workers.\n",
            "[Parallel(n_jobs=4)]: Done   8 out of  15 | elapsed:    0.0s remaining:    0.0s\n",
            "[Parallel(n_jobs=4)]: Done  12 out of  15 | elapsed:    0.0s remaining:    0.0s\n",
            "[Parallel(n_jobs=4)]: Done  15 out of  15 | elapsed:    0.1s finished\n"
          ],
          "name": "stderr"
        },
        {
          "output_type": "stream",
          "text": [
            "Fitting 5 folds for each of 30 candidates, totalling 150 fits\n"
          ],
          "name": "stdout"
        },
        {
          "output_type": "stream",
          "text": [
            "[Parallel(n_jobs=4)]: Using backend LokyBackend with 4 concurrent workers.\n",
            "[Parallel(n_jobs=4)]: Done  15 tasks      | elapsed:    0.1s\n",
            "[Parallel(n_jobs=4)]: Done 150 out of 150 | elapsed:    0.7s finished\n",
            "[Parallel(n_jobs=4)]: Using backend LokyBackend with 4 concurrent workers.\n",
            "[Parallel(n_jobs=4)]: Done  16 tasks      | elapsed:    0.1s\n"
          ],
          "name": "stderr"
        },
        {
          "output_type": "stream",
          "text": [
            "it 3/10-Modelo 3/9\n",
            "mae: 1372.4108136395823\n",
            "Fitting 5 folds for each of 15 candidates, totalling 75 fits\n"
          ],
          "name": "stdout"
        },
        {
          "output_type": "stream",
          "text": [
            "[Parallel(n_jobs=4)]: Done  75 out of  75 | elapsed:    0.4s finished\n",
            "[Parallel(n_jobs=4)]: Using backend LokyBackend with 4 concurrent workers.\n",
            "[Parallel(n_jobs=4)]: Done  12 tasks      | elapsed:    0.1s\n"
          ],
          "name": "stderr"
        },
        {
          "output_type": "stream",
          "text": [
            "it 3/10-Modelo 4/9\n",
            "mae: 1372.4108136395823\n",
            "Fitting 5 folds for each of 75 candidates, totalling 375 fits\n"
          ],
          "name": "stdout"
        },
        {
          "output_type": "stream",
          "text": [
            "[Parallel(n_jobs=4)]: Done 320 tasks      | elapsed:    0.7s\n",
            "[Parallel(n_jobs=4)]: Done 368 out of 375 | elapsed:    0.8s remaining:    0.0s\n",
            "[Parallel(n_jobs=4)]: Done 375 out of 375 | elapsed:    0.8s finished\n",
            "[Parallel(n_jobs=4)]: Using backend LokyBackend with 4 concurrent workers.\n",
            "[Parallel(n_jobs=4)]: Done  12 tasks      | elapsed:    0.1s\n"
          ],
          "name": "stderr"
        },
        {
          "output_type": "stream",
          "text": [
            "it 3/10-Modelo 5/9\n",
            "mae: 1372.4108136395823\n",
            "Fitting 5 folds for each of 75 candidates, totalling 375 fits\n"
          ],
          "name": "stdout"
        },
        {
          "output_type": "stream",
          "text": [
            "[Parallel(n_jobs=4)]: Done 320 tasks      | elapsed:    0.8s\n",
            "[Parallel(n_jobs=4)]: Done 368 out of 375 | elapsed:    0.9s remaining:    0.0s\n",
            "[Parallel(n_jobs=4)]: Done 375 out of 375 | elapsed:    0.9s finished\n",
            "[Parallel(n_jobs=4)]: Using backend LokyBackend with 4 concurrent workers.\n"
          ],
          "name": "stderr"
        },
        {
          "output_type": "stream",
          "text": [
            "it 3/10-Modelo 6/9\n",
            "mae: 1372.4108136395823\n",
            "Fitting 5 folds for each of 75 candidates, totalling 375 fits\n"
          ],
          "name": "stdout"
        },
        {
          "output_type": "stream",
          "text": [
            "[Parallel(n_jobs=4)]: Done  16 tasks      | elapsed:    0.1s\n",
            "[Parallel(n_jobs=4)]: Done 326 tasks      | elapsed:    0.9s\n",
            "[Parallel(n_jobs=4)]: Done 368 out of 375 | elapsed:    1.0s remaining:    0.0s\n",
            "[Parallel(n_jobs=4)]: Done 375 out of 375 | elapsed:    1.0s finished\n",
            "[Parallel(n_jobs=4)]: Using backend LokyBackend with 4 concurrent workers.\n"
          ],
          "name": "stderr"
        },
        {
          "output_type": "stream",
          "text": [
            "it 3/10-Modelo 7/9\n",
            "mae: 1372.4108136395823\n",
            "Fitting 5 folds for each of 75 candidates, totalling 375 fits\n"
          ],
          "name": "stdout"
        },
        {
          "output_type": "stream",
          "text": [
            "[Parallel(n_jobs=4)]: Done  12 tasks      | elapsed:    0.1s\n",
            "[Parallel(n_jobs=4)]: Done 320 tasks      | elapsed:    0.8s\n",
            "[Parallel(n_jobs=4)]: Done 368 out of 375 | elapsed:    0.9s remaining:    0.0s\n",
            "[Parallel(n_jobs=4)]: Done 375 out of 375 | elapsed:    0.9s finished\n",
            "[Parallel(n_jobs=4)]: Using backend LokyBackend with 4 concurrent workers.\n"
          ],
          "name": "stderr"
        },
        {
          "output_type": "stream",
          "text": [
            "it 3/10-Modelo 8/9\n",
            "mae: 1372.4108136395823\n",
            "Fitting 5 folds for each of 15 candidates, totalling 75 fits\n"
          ],
          "name": "stdout"
        },
        {
          "output_type": "stream",
          "text": [
            "[Parallel(n_jobs=4)]: Done  10 tasks      | elapsed:    2.0s\n",
            "[Parallel(n_jobs=4)]: Done  64 tasks      | elapsed:   10.5s\n",
            "[Parallel(n_jobs=4)]: Done  75 out of  75 | elapsed:   12.1s finished\n"
          ],
          "name": "stderr"
        },
        {
          "output_type": "stream",
          "text": [
            "it 3/10-Modelo 9/9\n",
            "mae: 1372.4108136395823\n",
            "Iteración 4/10\n",
            "Fitting 5 folds for each of 3 candidates, totalling 15 fits\n",
            "it 4/10-Modelo 1/9\n",
            "mae: 1396.6366200911953\n",
            "Fitting 5 folds for each of 3 candidates, totalling 15 fits\n"
          ],
          "name": "stdout"
        },
        {
          "output_type": "stream",
          "text": [
            "[Parallel(n_jobs=4)]: Using backend LokyBackend with 4 concurrent workers.\n",
            "[Parallel(n_jobs=4)]: Done   8 out of  15 | elapsed:    0.0s remaining:    0.0s\n",
            "[Parallel(n_jobs=4)]: Done  12 out of  15 | elapsed:    0.1s remaining:    0.0s\n",
            "[Parallel(n_jobs=4)]: Done  15 out of  15 | elapsed:    0.1s finished\n",
            "[Parallel(n_jobs=4)]: Using backend LokyBackend with 4 concurrent workers.\n",
            "[Parallel(n_jobs=4)]: Done  12 out of  15 | elapsed:    0.1s remaining:    0.0s\n",
            "[Parallel(n_jobs=4)]: Done  15 out of  15 | elapsed:    0.1s finished\n"
          ],
          "name": "stderr"
        },
        {
          "output_type": "stream",
          "text": [
            "it 4/10-Modelo 2/9\n",
            "mae: 1396.6366200911953\n",
            "Fitting 5 folds for each of 30 candidates, totalling 150 fits\n"
          ],
          "name": "stdout"
        },
        {
          "output_type": "stream",
          "text": [
            "[Parallel(n_jobs=4)]: Using backend LokyBackend with 4 concurrent workers.\n",
            "[Parallel(n_jobs=4)]: Done  13 tasks      | elapsed:    0.1s\n",
            "[Parallel(n_jobs=4)]: Done 150 out of 150 | elapsed:    0.6s finished\n",
            "[Parallel(n_jobs=4)]: Using backend LokyBackend with 4 concurrent workers.\n",
            "[Parallel(n_jobs=4)]: Done  14 tasks      | elapsed:    0.1s\n"
          ],
          "name": "stderr"
        },
        {
          "output_type": "stream",
          "text": [
            "it 4/10-Modelo 3/9\n",
            "mae: 1396.6366200911953\n",
            "Fitting 5 folds for each of 15 candidates, totalling 75 fits\n"
          ],
          "name": "stdout"
        },
        {
          "output_type": "stream",
          "text": [
            "[Parallel(n_jobs=4)]: Done  75 out of  75 | elapsed:    0.5s finished\n",
            "[Parallel(n_jobs=4)]: Using backend LokyBackend with 4 concurrent workers.\n",
            "[Parallel(n_jobs=4)]: Done  14 tasks      | elapsed:    0.1s\n"
          ],
          "name": "stderr"
        },
        {
          "output_type": "stream",
          "text": [
            "it 4/10-Modelo 4/9\n",
            "mae: 1396.6366200911953\n",
            "Fitting 5 folds for each of 75 candidates, totalling 375 fits\n"
          ],
          "name": "stdout"
        },
        {
          "output_type": "stream",
          "text": [
            "[Parallel(n_jobs=4)]: Done 375 out of 375 | elapsed:    0.9s finished\n",
            "[Parallel(n_jobs=4)]: Using backend LokyBackend with 4 concurrent workers.\n",
            "[Parallel(n_jobs=4)]: Done  12 tasks      | elapsed:    0.1s\n"
          ],
          "name": "stderr"
        },
        {
          "output_type": "stream",
          "text": [
            "it 4/10-Modelo 5/9\n",
            "mae: 1396.6366200911953\n",
            "Fitting 5 folds for each of 75 candidates, totalling 375 fits\n"
          ],
          "name": "stdout"
        },
        {
          "output_type": "stream",
          "text": [
            "[Parallel(n_jobs=4)]: Done 320 tasks      | elapsed:    0.8s\n",
            "[Parallel(n_jobs=4)]: Done 368 out of 375 | elapsed:    0.9s remaining:    0.0s\n",
            "[Parallel(n_jobs=4)]: Done 375 out of 375 | elapsed:    0.9s finished\n",
            "[Parallel(n_jobs=4)]: Using backend LokyBackend with 4 concurrent workers.\n"
          ],
          "name": "stderr"
        },
        {
          "output_type": "stream",
          "text": [
            "it 4/10-Modelo 6/9\n",
            "mae: 1396.6366200911953\n",
            "Fitting 5 folds for each of 75 candidates, totalling 375 fits\n"
          ],
          "name": "stdout"
        },
        {
          "output_type": "stream",
          "text": [
            "[Parallel(n_jobs=4)]: Done  14 tasks      | elapsed:    0.1s\n",
            "[Parallel(n_jobs=4)]: Done 323 tasks      | elapsed:    0.9s\n",
            "[Parallel(n_jobs=4)]: Done 375 out of 375 | elapsed:    1.0s finished\n",
            "[Parallel(n_jobs=4)]: Using backend LokyBackend with 4 concurrent workers.\n"
          ],
          "name": "stderr"
        },
        {
          "output_type": "stream",
          "text": [
            "it 4/10-Modelo 7/9\n",
            "mae: 1396.6366200911953\n",
            "Fitting 5 folds for each of 75 candidates, totalling 375 fits\n"
          ],
          "name": "stdout"
        },
        {
          "output_type": "stream",
          "text": [
            "[Parallel(n_jobs=4)]: Done  12 tasks      | elapsed:    0.1s\n",
            "[Parallel(n_jobs=4)]: Done 320 tasks      | elapsed:    0.8s\n",
            "[Parallel(n_jobs=4)]: Done 368 out of 375 | elapsed:    0.9s remaining:    0.0s\n",
            "[Parallel(n_jobs=4)]: Done 375 out of 375 | elapsed:    0.9s finished\n",
            "[Parallel(n_jobs=4)]: Using backend LokyBackend with 4 concurrent workers.\n"
          ],
          "name": "stderr"
        },
        {
          "output_type": "stream",
          "text": [
            "it 4/10-Modelo 8/9\n",
            "mae: 1396.6366200911953\n",
            "Fitting 5 folds for each of 15 candidates, totalling 75 fits\n"
          ],
          "name": "stdout"
        },
        {
          "output_type": "stream",
          "text": [
            "[Parallel(n_jobs=4)]: Done  10 tasks      | elapsed:    1.9s\n",
            "[Parallel(n_jobs=4)]: Done  64 tasks      | elapsed:   10.3s\n",
            "[Parallel(n_jobs=4)]: Done  75 out of  75 | elapsed:   11.9s finished\n"
          ],
          "name": "stderr"
        },
        {
          "output_type": "stream",
          "text": [
            "it 4/10-Modelo 9/9\n",
            "mae: 1396.6366200911953\n",
            "Iteración 5/10\n",
            "Fitting 5 folds for each of 3 candidates, totalling 15 fits\n",
            "it 5/10-Modelo 1/9\n",
            "mae: 1398.5075878331309\n",
            "Fitting 5 folds for each of 3 candidates, totalling 15 fits\n"
          ],
          "name": "stdout"
        },
        {
          "output_type": "stream",
          "text": [
            "[Parallel(n_jobs=4)]: Using backend LokyBackend with 4 concurrent workers.\n",
            "[Parallel(n_jobs=4)]: Done  12 out of  15 | elapsed:    0.1s remaining:    0.0s\n",
            "[Parallel(n_jobs=4)]: Done  15 out of  15 | elapsed:    0.1s finished\n",
            "[Parallel(n_jobs=4)]: Using backend LokyBackend with 4 concurrent workers.\n",
            "[Parallel(n_jobs=4)]: Done  12 out of  15 | elapsed:    0.1s remaining:    0.0s\n",
            "[Parallel(n_jobs=4)]: Done  15 out of  15 | elapsed:    0.1s finished\n",
            "[Parallel(n_jobs=4)]: Using backend LokyBackend with 4 concurrent workers.\n",
            "[Parallel(n_jobs=4)]: Done  13 tasks      | elapsed:    0.1s\n"
          ],
          "name": "stderr"
        },
        {
          "output_type": "stream",
          "text": [
            "it 5/10-Modelo 2/9\n",
            "mae: 1398.5075878331309\n",
            "Fitting 5 folds for each of 30 candidates, totalling 150 fits\n"
          ],
          "name": "stdout"
        },
        {
          "output_type": "stream",
          "text": [
            "[Parallel(n_jobs=4)]: Done 143 out of 150 | elapsed:    0.6s remaining:    0.0s\n",
            "[Parallel(n_jobs=4)]: Done 150 out of 150 | elapsed:    0.6s finished\n",
            "[Parallel(n_jobs=4)]: Using backend LokyBackend with 4 concurrent workers.\n",
            "[Parallel(n_jobs=4)]: Done  14 tasks      | elapsed:    0.1s\n"
          ],
          "name": "stderr"
        },
        {
          "output_type": "stream",
          "text": [
            "it 5/10-Modelo 3/9\n",
            "mae: 1398.5075878331309\n",
            "Fitting 5 folds for each of 15 candidates, totalling 75 fits\n"
          ],
          "name": "stdout"
        },
        {
          "output_type": "stream",
          "text": [
            "[Parallel(n_jobs=4)]: Done  75 out of  75 | elapsed:    0.5s finished\n",
            "[Parallel(n_jobs=4)]: Using backend LokyBackend with 4 concurrent workers.\n",
            "[Parallel(n_jobs=4)]: Done  14 tasks      | elapsed:    0.1s\n"
          ],
          "name": "stderr"
        },
        {
          "output_type": "stream",
          "text": [
            "it 5/10-Modelo 4/9\n",
            "mae: 1398.5075878331309\n",
            "Fitting 5 folds for each of 75 candidates, totalling 375 fits\n"
          ],
          "name": "stdout"
        },
        {
          "output_type": "stream",
          "text": [
            "[Parallel(n_jobs=4)]: Done 375 out of 375 | elapsed:    0.9s finished\n",
            "[Parallel(n_jobs=4)]: Using backend LokyBackend with 4 concurrent workers.\n",
            "[Parallel(n_jobs=4)]: Done  12 tasks      | elapsed:    0.1s\n"
          ],
          "name": "stderr"
        },
        {
          "output_type": "stream",
          "text": [
            "it 5/10-Modelo 5/9\n",
            "mae: 1398.5075878331309\n",
            "Fitting 5 folds for each of 75 candidates, totalling 375 fits\n"
          ],
          "name": "stdout"
        },
        {
          "output_type": "stream",
          "text": [
            "[Parallel(n_jobs=4)]: Done 320 tasks      | elapsed:    0.8s\n",
            "[Parallel(n_jobs=4)]: Done 368 out of 375 | elapsed:    0.9s remaining:    0.0s\n",
            "[Parallel(n_jobs=4)]: Done 375 out of 375 | elapsed:    0.9s finished\n",
            "[Parallel(n_jobs=4)]: Using backend LokyBackend with 4 concurrent workers.\n"
          ],
          "name": "stderr"
        },
        {
          "output_type": "stream",
          "text": [
            "it 5/10-Modelo 6/9\n",
            "mae: 1398.5075878331309\n",
            "Fitting 5 folds for each of 75 candidates, totalling 375 fits\n"
          ],
          "name": "stdout"
        },
        {
          "output_type": "stream",
          "text": [
            "[Parallel(n_jobs=4)]: Done  12 tasks      | elapsed:    0.1s\n",
            "[Parallel(n_jobs=4)]: Done 320 tasks      | elapsed:    0.9s\n",
            "[Parallel(n_jobs=4)]: Done 368 out of 375 | elapsed:    1.0s remaining:    0.0s\n",
            "[Parallel(n_jobs=4)]: Done 375 out of 375 | elapsed:    1.1s finished\n",
            "[Parallel(n_jobs=4)]: Using backend LokyBackend with 4 concurrent workers.\n"
          ],
          "name": "stderr"
        },
        {
          "output_type": "stream",
          "text": [
            "it 5/10-Modelo 7/9\n",
            "mae: 1398.5075878331309\n",
            "Fitting 5 folds for each of 75 candidates, totalling 375 fits\n"
          ],
          "name": "stdout"
        },
        {
          "output_type": "stream",
          "text": [
            "[Parallel(n_jobs=4)]: Done  12 tasks      | elapsed:    0.1s\n",
            "[Parallel(n_jobs=4)]: Done 320 tasks      | elapsed:    0.9s\n",
            "[Parallel(n_jobs=4)]: Done 368 out of 375 | elapsed:    1.0s remaining:    0.0s\n",
            "[Parallel(n_jobs=4)]: Done 375 out of 375 | elapsed:    1.0s finished\n",
            "[Parallel(n_jobs=4)]: Using backend LokyBackend with 4 concurrent workers.\n"
          ],
          "name": "stderr"
        },
        {
          "output_type": "stream",
          "text": [
            "it 5/10-Modelo 8/9\n",
            "mae: 1398.5075878331309\n",
            "Fitting 5 folds for each of 15 candidates, totalling 75 fits\n"
          ],
          "name": "stdout"
        },
        {
          "output_type": "stream",
          "text": [
            "[Parallel(n_jobs=4)]: Done  10 tasks      | elapsed:    1.9s\n",
            "[Parallel(n_jobs=4)]: Done  64 tasks      | elapsed:   10.3s\n",
            "[Parallel(n_jobs=4)]: Done  75 out of  75 | elapsed:   11.9s finished\n"
          ],
          "name": "stderr"
        },
        {
          "output_type": "stream",
          "text": [
            "it 5/10-Modelo 9/9\n",
            "mae: 1398.5075878331309\n",
            "Iteración 6/10\n",
            "Fitting 5 folds for each of 3 candidates, totalling 15 fits\n",
            "it 6/10-Modelo 1/9\n",
            "mae: 1430.6688781557114\n",
            "Fitting 5 folds for each of 3 candidates, totalling 15 fits\n"
          ],
          "name": "stdout"
        },
        {
          "output_type": "stream",
          "text": [
            "[Parallel(n_jobs=4)]: Using backend LokyBackend with 4 concurrent workers.\n",
            "[Parallel(n_jobs=4)]: Done  12 out of  15 | elapsed:    0.1s remaining:    0.0s\n",
            "[Parallel(n_jobs=4)]: Done  15 out of  15 | elapsed:    0.1s finished\n",
            "[Parallel(n_jobs=4)]: Using backend LokyBackend with 4 concurrent workers.\n",
            "[Parallel(n_jobs=4)]: Done  15 out of  15 | elapsed:    0.1s finished\n",
            "[Parallel(n_jobs=4)]: Using backend LokyBackend with 4 concurrent workers.\n",
            "[Parallel(n_jobs=4)]: Done  16 tasks      | elapsed:    0.1s\n"
          ],
          "name": "stderr"
        },
        {
          "output_type": "stream",
          "text": [
            "it 6/10-Modelo 2/9\n",
            "mae: 1430.6688781557114\n",
            "Fitting 5 folds for each of 30 candidates, totalling 150 fits\n"
          ],
          "name": "stdout"
        },
        {
          "output_type": "stream",
          "text": [
            "[Parallel(n_jobs=4)]: Done 150 out of 150 | elapsed:    0.7s finished\n",
            "[Parallel(n_jobs=4)]: Using backend LokyBackend with 4 concurrent workers.\n",
            "[Parallel(n_jobs=4)]: Done  16 tasks      | elapsed:    0.2s\n"
          ],
          "name": "stderr"
        },
        {
          "output_type": "stream",
          "text": [
            "it 6/10-Modelo 3/9\n",
            "mae: 1430.6688781557114\n",
            "Fitting 5 folds for each of 15 candidates, totalling 75 fits\n"
          ],
          "name": "stdout"
        },
        {
          "output_type": "stream",
          "text": [
            "[Parallel(n_jobs=4)]: Done  75 out of  75 | elapsed:    0.5s finished\n",
            "[Parallel(n_jobs=4)]: Using backend LokyBackend with 4 concurrent workers.\n",
            "[Parallel(n_jobs=4)]: Done  16 tasks      | elapsed:    0.1s\n"
          ],
          "name": "stderr"
        },
        {
          "output_type": "stream",
          "text": [
            "it 6/10-Modelo 4/9\n",
            "mae: 1430.6688781557114\n",
            "Fitting 5 folds for each of 75 candidates, totalling 375 fits\n"
          ],
          "name": "stdout"
        },
        {
          "output_type": "stream",
          "text": [
            "[Parallel(n_jobs=4)]: Done 326 tasks      | elapsed:    0.8s\n",
            "[Parallel(n_jobs=4)]: Done 375 out of 375 | elapsed:    0.9s finished\n",
            "[Parallel(n_jobs=4)]: Using backend LokyBackend with 4 concurrent workers.\n",
            "[Parallel(n_jobs=4)]: Done  12 tasks      | elapsed:    0.1s\n"
          ],
          "name": "stderr"
        },
        {
          "output_type": "stream",
          "text": [
            "it 6/10-Modelo 5/9\n",
            "mae: 1430.6688781557114\n",
            "Fitting 5 folds for each of 75 candidates, totalling 375 fits\n"
          ],
          "name": "stdout"
        },
        {
          "output_type": "stream",
          "text": [
            "[Parallel(n_jobs=4)]: Done 320 tasks      | elapsed:    0.8s\n",
            "[Parallel(n_jobs=4)]: Done 368 out of 375 | elapsed:    0.9s remaining:    0.0s\n",
            "[Parallel(n_jobs=4)]: Done 375 out of 375 | elapsed:    0.9s finished\n",
            "[Parallel(n_jobs=4)]: Using backend LokyBackend with 4 concurrent workers.\n"
          ],
          "name": "stderr"
        },
        {
          "output_type": "stream",
          "text": [
            "it 6/10-Modelo 6/9\n",
            "mae: 1430.6688781557114\n",
            "Fitting 5 folds for each of 75 candidates, totalling 375 fits\n"
          ],
          "name": "stdout"
        },
        {
          "output_type": "stream",
          "text": [
            "[Parallel(n_jobs=4)]: Done  16 tasks      | elapsed:    0.1s\n",
            "[Parallel(n_jobs=4)]: Done 326 tasks      | elapsed:    0.9s\n",
            "[Parallel(n_jobs=4)]: Done 368 out of 375 | elapsed:    1.0s remaining:    0.0s\n",
            "[Parallel(n_jobs=4)]: Done 375 out of 375 | elapsed:    1.0s finished\n",
            "[Parallel(n_jobs=4)]: Using backend LokyBackend with 4 concurrent workers.\n"
          ],
          "name": "stderr"
        },
        {
          "output_type": "stream",
          "text": [
            "it 6/10-Modelo 7/9\n",
            "mae: 1430.6688781557114\n",
            "Fitting 5 folds for each of 75 candidates, totalling 375 fits\n"
          ],
          "name": "stdout"
        },
        {
          "output_type": "stream",
          "text": [
            "[Parallel(n_jobs=4)]: Done  12 tasks      | elapsed:    0.1s\n",
            "[Parallel(n_jobs=4)]: Done 320 tasks      | elapsed:    0.9s\n",
            "[Parallel(n_jobs=4)]: Done 368 out of 375 | elapsed:    1.0s remaining:    0.0s\n",
            "[Parallel(n_jobs=4)]: Done 375 out of 375 | elapsed:    1.0s finished\n",
            "[Parallel(n_jobs=4)]: Using backend LokyBackend with 4 concurrent workers.\n"
          ],
          "name": "stderr"
        },
        {
          "output_type": "stream",
          "text": [
            "it 6/10-Modelo 8/9\n",
            "mae: 1430.6688781557114\n",
            "Fitting 5 folds for each of 15 candidates, totalling 75 fits\n"
          ],
          "name": "stdout"
        },
        {
          "output_type": "stream",
          "text": [
            "[Parallel(n_jobs=4)]: Done  10 tasks      | elapsed:    2.0s\n",
            "[Parallel(n_jobs=4)]: Done  64 tasks      | elapsed:   10.6s\n",
            "[Parallel(n_jobs=4)]: Done  75 out of  75 | elapsed:   12.2s finished\n"
          ],
          "name": "stderr"
        },
        {
          "output_type": "stream",
          "text": [
            "it 6/10-Modelo 9/9\n",
            "mae: 1430.6688781557114\n",
            "Iteración 7/10\n",
            "Fitting 5 folds for each of 3 candidates, totalling 15 fits\n",
            "it 7/10-Modelo 1/9\n",
            "mae: 1356.797910413776\n"
          ],
          "name": "stdout"
        },
        {
          "output_type": "stream",
          "text": [
            "[Parallel(n_jobs=4)]: Using backend LokyBackend with 4 concurrent workers.\n",
            "[Parallel(n_jobs=4)]: Done  12 out of  15 | elapsed:    0.1s remaining:    0.0s\n",
            "[Parallel(n_jobs=4)]: Done  15 out of  15 | elapsed:    0.1s finished\n",
            "[Parallel(n_jobs=4)]: Using backend LokyBackend with 4 concurrent workers.\n"
          ],
          "name": "stderr"
        },
        {
          "output_type": "stream",
          "text": [
            "Fitting 5 folds for each of 3 candidates, totalling 15 fits\n",
            "it 7/10-Modelo 2/9\n",
            "mae: 1356.797910413776\n",
            "Fitting 5 folds for each of 30 candidates, totalling 150 fits\n"
          ],
          "name": "stdout"
        },
        {
          "output_type": "stream",
          "text": [
            "[Parallel(n_jobs=4)]: Done   8 out of  15 | elapsed:    0.1s remaining:    0.0s\n",
            "[Parallel(n_jobs=4)]: Done  12 out of  15 | elapsed:    0.1s remaining:    0.0s\n",
            "[Parallel(n_jobs=4)]: Done  15 out of  15 | elapsed:    0.1s finished\n",
            "[Parallel(n_jobs=4)]: Using backend LokyBackend with 4 concurrent workers.\n",
            "[Parallel(n_jobs=4)]: Done  16 tasks      | elapsed:    0.1s\n",
            "[Parallel(n_jobs=4)]: Done 150 out of 150 | elapsed:    0.8s finished\n",
            "[Parallel(n_jobs=4)]: Using backend LokyBackend with 4 concurrent workers.\n",
            "[Parallel(n_jobs=4)]: Done  12 tasks      | elapsed:    0.1s\n"
          ],
          "name": "stderr"
        },
        {
          "output_type": "stream",
          "text": [
            "it 7/10-Modelo 3/9\n",
            "mae: 1356.797910413776\n",
            "Fitting 5 folds for each of 15 candidates, totalling 75 fits\n"
          ],
          "name": "stdout"
        },
        {
          "output_type": "stream",
          "text": [
            "[Parallel(n_jobs=4)]: Done  75 out of  75 | elapsed:    0.4s finished\n",
            "[Parallel(n_jobs=4)]: Using backend LokyBackend with 4 concurrent workers.\n",
            "[Parallel(n_jobs=4)]: Done  14 tasks      | elapsed:    0.1s\n"
          ],
          "name": "stderr"
        },
        {
          "output_type": "stream",
          "text": [
            "it 7/10-Modelo 4/9\n",
            "mae: 1356.797910413776\n",
            "Fitting 5 folds for each of 75 candidates, totalling 375 fits\n"
          ],
          "name": "stdout"
        },
        {
          "output_type": "stream",
          "text": [
            "[Parallel(n_jobs=4)]: Done 323 tasks      | elapsed:    0.9s\n",
            "[Parallel(n_jobs=4)]: Done 368 out of 375 | elapsed:    1.0s remaining:    0.0s\n",
            "[Parallel(n_jobs=4)]: Done 375 out of 375 | elapsed:    1.0s finished\n",
            "[Parallel(n_jobs=4)]: Using backend LokyBackend with 4 concurrent workers.\n",
            "[Parallel(n_jobs=4)]: Done  12 tasks      | elapsed:    0.1s\n"
          ],
          "name": "stderr"
        },
        {
          "output_type": "stream",
          "text": [
            "it 7/10-Modelo 5/9\n",
            "mae: 1356.797910413776\n",
            "Fitting 5 folds for each of 75 candidates, totalling 375 fits\n"
          ],
          "name": "stdout"
        },
        {
          "output_type": "stream",
          "text": [
            "[Parallel(n_jobs=4)]: Done 320 tasks      | elapsed:    0.8s\n",
            "[Parallel(n_jobs=4)]: Done 375 out of 375 | elapsed:    0.9s finished\n",
            "[Parallel(n_jobs=4)]: Using backend LokyBackend with 4 concurrent workers.\n"
          ],
          "name": "stderr"
        },
        {
          "output_type": "stream",
          "text": [
            "it 7/10-Modelo 6/9\n",
            "mae: 1356.797910413776\n",
            "Fitting 5 folds for each of 75 candidates, totalling 375 fits\n"
          ],
          "name": "stdout"
        },
        {
          "output_type": "stream",
          "text": [
            "[Parallel(n_jobs=4)]: Done  18 tasks      | elapsed:    0.1s\n",
            "[Parallel(n_jobs=4)]: Done 329 tasks      | elapsed:    1.0s\n",
            "[Parallel(n_jobs=4)]: Done 368 out of 375 | elapsed:    1.1s remaining:    0.0s\n",
            "[Parallel(n_jobs=4)]: Done 375 out of 375 | elapsed:    1.1s finished\n",
            "[Parallel(n_jobs=4)]: Using backend LokyBackend with 4 concurrent workers.\n"
          ],
          "name": "stderr"
        },
        {
          "output_type": "stream",
          "text": [
            "it 7/10-Modelo 7/9\n",
            "mae: 1356.797910413776\n",
            "Fitting 5 folds for each of 75 candidates, totalling 375 fits\n"
          ],
          "name": "stdout"
        },
        {
          "output_type": "stream",
          "text": [
            "[Parallel(n_jobs=4)]: Done  12 tasks      | elapsed:    0.1s\n",
            "[Parallel(n_jobs=4)]: Done 320 tasks      | elapsed:    0.9s\n",
            "[Parallel(n_jobs=4)]: Done 368 out of 375 | elapsed:    1.0s remaining:    0.0s\n",
            "[Parallel(n_jobs=4)]: Done 375 out of 375 | elapsed:    1.0s finished\n",
            "[Parallel(n_jobs=4)]: Using backend LokyBackend with 4 concurrent workers.\n"
          ],
          "name": "stderr"
        },
        {
          "output_type": "stream",
          "text": [
            "it 7/10-Modelo 8/9\n",
            "mae: 1356.797910413776\n",
            "Fitting 5 folds for each of 15 candidates, totalling 75 fits\n"
          ],
          "name": "stdout"
        },
        {
          "output_type": "stream",
          "text": [
            "[Parallel(n_jobs=4)]: Done  10 tasks      | elapsed:    2.1s\n",
            "[Parallel(n_jobs=4)]: Done  64 tasks      | elapsed:   10.9s\n",
            "[Parallel(n_jobs=4)]: Done  75 out of  75 | elapsed:   12.6s finished\n"
          ],
          "name": "stderr"
        },
        {
          "output_type": "stream",
          "text": [
            "it 7/10-Modelo 9/9\n",
            "mae: 1356.797910413776\n",
            "Iteración 8/10\n",
            "Fitting 5 folds for each of 3 candidates, totalling 15 fits\n",
            "it 8/10-Modelo 1/9\n",
            "mae: 1367.3785555750662\n",
            "Fitting 5 folds for each of 3 candidates, totalling 15 fits\n"
          ],
          "name": "stdout"
        },
        {
          "output_type": "stream",
          "text": [
            "[Parallel(n_jobs=4)]: Using backend LokyBackend with 4 concurrent workers.\n",
            "[Parallel(n_jobs=4)]: Done  12 out of  15 | elapsed:    0.1s remaining:    0.0s\n",
            "[Parallel(n_jobs=4)]: Done  15 out of  15 | elapsed:    0.1s finished\n",
            "[Parallel(n_jobs=4)]: Using backend LokyBackend with 4 concurrent workers.\n",
            "[Parallel(n_jobs=4)]: Done  15 out of  15 | elapsed:    0.1s finished\n"
          ],
          "name": "stderr"
        },
        {
          "output_type": "stream",
          "text": [
            "it 8/10-Modelo 2/9\n",
            "mae: 1367.3785555750662\n",
            "Fitting 5 folds for each of 30 candidates, totalling 150 fits\n"
          ],
          "name": "stdout"
        },
        {
          "output_type": "stream",
          "text": [
            "[Parallel(n_jobs=4)]: Using backend LokyBackend with 4 concurrent workers.\n",
            "[Parallel(n_jobs=4)]: Done  14 tasks      | elapsed:    0.1s\n",
            "[Parallel(n_jobs=4)]: Done 150 out of 150 | elapsed:    0.7s finished\n",
            "[Parallel(n_jobs=4)]: Using backend LokyBackend with 4 concurrent workers.\n",
            "[Parallel(n_jobs=4)]: Done  14 tasks      | elapsed:    0.1s\n"
          ],
          "name": "stderr"
        },
        {
          "output_type": "stream",
          "text": [
            "it 8/10-Modelo 3/9\n",
            "mae: 1367.3785555750662\n",
            "Fitting 5 folds for each of 15 candidates, totalling 75 fits\n"
          ],
          "name": "stdout"
        },
        {
          "output_type": "stream",
          "text": [
            "[Parallel(n_jobs=4)]: Done  75 out of  75 | elapsed:    0.5s finished\n",
            "[Parallel(n_jobs=4)]: Using backend LokyBackend with 4 concurrent workers.\n",
            "[Parallel(n_jobs=4)]: Done  15 tasks      | elapsed:    0.1s\n"
          ],
          "name": "stderr"
        },
        {
          "output_type": "stream",
          "text": [
            "it 8/10-Modelo 4/9\n",
            "mae: 1367.3785555750662\n",
            "Fitting 5 folds for each of 75 candidates, totalling 375 fits\n"
          ],
          "name": "stdout"
        },
        {
          "output_type": "stream",
          "text": [
            "[Parallel(n_jobs=4)]: Done 375 out of 375 | elapsed:    0.9s finished\n",
            "[Parallel(n_jobs=4)]: Using backend LokyBackend with 4 concurrent workers.\n",
            "[Parallel(n_jobs=4)]: Done  12 tasks      | elapsed:    0.1s\n"
          ],
          "name": "stderr"
        },
        {
          "output_type": "stream",
          "text": [
            "it 8/10-Modelo 5/9\n",
            "mae: 1367.3785555750662\n",
            "Fitting 5 folds for each of 75 candidates, totalling 375 fits\n"
          ],
          "name": "stdout"
        },
        {
          "output_type": "stream",
          "text": [
            "[Parallel(n_jobs=4)]: Done 320 tasks      | elapsed:    0.8s\n",
            "[Parallel(n_jobs=4)]: Done 368 out of 375 | elapsed:    0.9s remaining:    0.0s\n",
            "[Parallel(n_jobs=4)]: Done 375 out of 375 | elapsed:    0.9s finished\n",
            "[Parallel(n_jobs=4)]: Using backend LokyBackend with 4 concurrent workers.\n"
          ],
          "name": "stderr"
        },
        {
          "output_type": "stream",
          "text": [
            "it 8/10-Modelo 6/9\n",
            "mae: 1367.3785555750662\n",
            "Fitting 5 folds for each of 75 candidates, totalling 375 fits\n"
          ],
          "name": "stdout"
        },
        {
          "output_type": "stream",
          "text": [
            "[Parallel(n_jobs=4)]: Done  12 tasks      | elapsed:    0.1s\n",
            "[Parallel(n_jobs=4)]: Done 320 tasks      | elapsed:    1.0s\n",
            "[Parallel(n_jobs=4)]: Done 375 out of 375 | elapsed:    1.1s finished\n",
            "[Parallel(n_jobs=4)]: Using backend LokyBackend with 4 concurrent workers.\n"
          ],
          "name": "stderr"
        },
        {
          "output_type": "stream",
          "text": [
            "it 8/10-Modelo 7/9\n",
            "mae: 1367.3785555750662\n",
            "Fitting 5 folds for each of 75 candidates, totalling 375 fits\n"
          ],
          "name": "stdout"
        },
        {
          "output_type": "stream",
          "text": [
            "[Parallel(n_jobs=4)]: Done  12 tasks      | elapsed:    0.1s\n",
            "[Parallel(n_jobs=4)]: Done 320 tasks      | elapsed:    0.9s\n",
            "[Parallel(n_jobs=4)]: Done 368 out of 375 | elapsed:    1.0s remaining:    0.0s\n",
            "[Parallel(n_jobs=4)]: Done 375 out of 375 | elapsed:    1.0s finished\n",
            "[Parallel(n_jobs=4)]: Using backend LokyBackend with 4 concurrent workers.\n"
          ],
          "name": "stderr"
        },
        {
          "output_type": "stream",
          "text": [
            "it 8/10-Modelo 8/9\n",
            "mae: 1367.3785555750662\n",
            "Fitting 5 folds for each of 15 candidates, totalling 75 fits\n"
          ],
          "name": "stdout"
        },
        {
          "output_type": "stream",
          "text": [
            "[Parallel(n_jobs=4)]: Done  10 tasks      | elapsed:    2.1s\n",
            "[Parallel(n_jobs=4)]: Done  64 tasks      | elapsed:   10.7s\n",
            "[Parallel(n_jobs=4)]: Done  75 out of  75 | elapsed:   12.2s finished\n"
          ],
          "name": "stderr"
        },
        {
          "output_type": "stream",
          "text": [
            "it 8/10-Modelo 9/9\n",
            "mae: 1367.3785555750662\n",
            "Iteración 9/10\n",
            "Fitting 5 folds for each of 3 candidates, totalling 15 fits\n",
            "it 9/10-Modelo 1/9\n",
            "mae: 1369.3799089561983\n",
            "Fitting 5 folds for each of 3 candidates, totalling 15 fits\n",
            "it 9/10-Modelo 2/9"
          ],
          "name": "stdout"
        },
        {
          "output_type": "stream",
          "text": [
            "[Parallel(n_jobs=4)]: Using backend LokyBackend with 4 concurrent workers.\n",
            "[Parallel(n_jobs=4)]: Done   8 out of  15 | elapsed:    0.1s remaining:    0.0s\n",
            "[Parallel(n_jobs=4)]: Done  12 out of  15 | elapsed:    0.1s remaining:    0.0s\n",
            "[Parallel(n_jobs=4)]: Done  15 out of  15 | elapsed:    0.1s finished\n",
            "[Parallel(n_jobs=4)]: Using backend LokyBackend with 4 concurrent workers.\n",
            "[Parallel(n_jobs=4)]: Done   8 out of  15 | elapsed:    0.0s remaining:    0.0s\n",
            "[Parallel(n_jobs=4)]: Done  12 out of  15 | elapsed:    0.1s remaining:    0.0s\n",
            "[Parallel(n_jobs=4)]: Done  15 out of  15 | elapsed:    0.1s finished\n",
            "[Parallel(n_jobs=4)]: Using backend LokyBackend with 4 concurrent workers.\n"
          ],
          "name": "stderr"
        },
        {
          "output_type": "stream",
          "text": [
            "\n",
            "mae: 1369.3799089561983\n",
            "Fitting 5 folds for each of 30 candidates, totalling 150 fits\n"
          ],
          "name": "stdout"
        },
        {
          "output_type": "stream",
          "text": [
            "[Parallel(n_jobs=4)]: Done  13 tasks      | elapsed:    0.1s\n",
            "[Parallel(n_jobs=4)]: Done 143 out of 150 | elapsed:    0.6s remaining:    0.0s\n",
            "[Parallel(n_jobs=4)]: Done 150 out of 150 | elapsed:    0.6s finished\n",
            "[Parallel(n_jobs=4)]: Using backend LokyBackend with 4 concurrent workers.\n"
          ],
          "name": "stderr"
        },
        {
          "output_type": "stream",
          "text": [
            "it 9/10-Modelo 3/9\n",
            "mae: 1369.3799089561983\n",
            "Fitting 5 folds for each of 15 candidates, totalling 75 fits\n"
          ],
          "name": "stdout"
        },
        {
          "output_type": "stream",
          "text": [
            "[Parallel(n_jobs=4)]: Done  28 tasks      | elapsed:    0.2s\n",
            "[Parallel(n_jobs=4)]: Done  75 out of  75 | elapsed:    0.3s finished\n",
            "[Parallel(n_jobs=4)]: Using backend LokyBackend with 4 concurrent workers.\n"
          ],
          "name": "stderr"
        },
        {
          "output_type": "stream",
          "text": [
            "it 9/10-Modelo 4/9\n",
            "mae: 1369.3799089561983\n",
            "Fitting 5 folds for each of 75 candidates, totalling 375 fits\n"
          ],
          "name": "stdout"
        },
        {
          "output_type": "stream",
          "text": [
            "[Parallel(n_jobs=4)]: Done  14 tasks      | elapsed:    0.1s\n",
            "[Parallel(n_jobs=4)]: Done 323 tasks      | elapsed:    0.9s\n",
            "[Parallel(n_jobs=4)]: Done 368 out of 375 | elapsed:    1.0s remaining:    0.0s\n",
            "[Parallel(n_jobs=4)]: Done 375 out of 375 | elapsed:    1.0s finished\n",
            "[Parallel(n_jobs=4)]: Using backend LokyBackend with 4 concurrent workers.\n",
            "[Parallel(n_jobs=4)]: Done  12 tasks      | elapsed:    0.1s\n"
          ],
          "name": "stderr"
        },
        {
          "output_type": "stream",
          "text": [
            "it 9/10-Modelo 5/9\n",
            "mae: 1369.3799089561983\n",
            "Fitting 5 folds for each of 75 candidates, totalling 375 fits\n"
          ],
          "name": "stdout"
        },
        {
          "output_type": "stream",
          "text": [
            "[Parallel(n_jobs=4)]: Done 320 tasks      | elapsed:    0.8s\n",
            "[Parallel(n_jobs=4)]: Done 368 out of 375 | elapsed:    0.9s remaining:    0.0s\n",
            "[Parallel(n_jobs=4)]: Done 375 out of 375 | elapsed:    0.9s finished\n",
            "[Parallel(n_jobs=4)]: Using backend LokyBackend with 4 concurrent workers.\n"
          ],
          "name": "stderr"
        },
        {
          "output_type": "stream",
          "text": [
            "it 9/10-Modelo 6/9\n",
            "mae: 1369.3799089561983\n",
            "Fitting 5 folds for each of 75 candidates, totalling 375 fits\n"
          ],
          "name": "stdout"
        },
        {
          "output_type": "stream",
          "text": [
            "[Parallel(n_jobs=4)]: Done  12 tasks      | elapsed:    0.1s\n",
            "[Parallel(n_jobs=4)]: Done 320 tasks      | elapsed:    0.9s\n",
            "[Parallel(n_jobs=4)]: Done 375 out of 375 | elapsed:    1.0s finished\n",
            "[Parallel(n_jobs=4)]: Using backend LokyBackend with 4 concurrent workers.\n"
          ],
          "name": "stderr"
        },
        {
          "output_type": "stream",
          "text": [
            "it 9/10-Modelo 7/9\n",
            "mae: 1369.3799089561983\n",
            "Fitting 5 folds for each of 75 candidates, totalling 375 fits\n"
          ],
          "name": "stdout"
        },
        {
          "output_type": "stream",
          "text": [
            "[Parallel(n_jobs=4)]: Done  12 tasks      | elapsed:    0.1s\n",
            "[Parallel(n_jobs=4)]: Done 320 tasks      | elapsed:    0.8s\n",
            "[Parallel(n_jobs=4)]: Done 368 out of 375 | elapsed:    0.9s remaining:    0.0s\n",
            "[Parallel(n_jobs=4)]: Done 375 out of 375 | elapsed:    0.9s finished\n",
            "[Parallel(n_jobs=4)]: Using backend LokyBackend with 4 concurrent workers.\n"
          ],
          "name": "stderr"
        },
        {
          "output_type": "stream",
          "text": [
            "it 9/10-Modelo 8/9\n",
            "mae: 1369.3799089561983\n",
            "Fitting 5 folds for each of 15 candidates, totalling 75 fits\n"
          ],
          "name": "stdout"
        },
        {
          "output_type": "stream",
          "text": [
            "[Parallel(n_jobs=4)]: Done  10 tasks      | elapsed:    2.0s\n",
            "[Parallel(n_jobs=4)]: Done  64 tasks      | elapsed:   10.7s\n",
            "[Parallel(n_jobs=4)]: Done  75 out of  75 | elapsed:   12.4s finished\n"
          ],
          "name": "stderr"
        },
        {
          "output_type": "stream",
          "text": [
            "it 9/10-Modelo 9/9\n",
            "mae: 1369.3799089561983\n",
            "Iteración 10/10\n",
            "Fitting 5 folds for each of 3 candidates, totalling 15 fits\n",
            "it 10/10-Modelo 1/9\n",
            "mae: 1366.2508766981337\n",
            "Fitting 5 folds for each of 3 candidates, totalling 15 fits\n"
          ],
          "name": "stdout"
        },
        {
          "output_type": "stream",
          "text": [
            "[Parallel(n_jobs=4)]: Using backend LokyBackend with 4 concurrent workers.\n",
            "[Parallel(n_jobs=4)]: Done   4 out of  15 | elapsed:    0.0s remaining:    0.1s\n",
            "[Parallel(n_jobs=4)]: Done   8 out of  15 | elapsed:    0.0s remaining:    0.0s\n",
            "[Parallel(n_jobs=4)]: Done  15 out of  15 | elapsed:    0.1s finished\n",
            "[Parallel(n_jobs=4)]: Using backend LokyBackend with 4 concurrent workers.\n",
            "[Parallel(n_jobs=4)]: Done   8 out of  15 | elapsed:    0.0s remaining:    0.0s\n",
            "[Parallel(n_jobs=4)]: Done  12 out of  15 | elapsed:    0.1s remaining:    0.0s\n",
            "[Parallel(n_jobs=4)]: Done  15 out of  15 | elapsed:    0.1s finished\n"
          ],
          "name": "stderr"
        },
        {
          "output_type": "stream",
          "text": [
            "it 10/10-Modelo 2/9\n",
            "mae: 1366.2508766981337\n",
            "Fitting 5 folds for each of 30 candidates, totalling 150 fits\n"
          ],
          "name": "stdout"
        },
        {
          "output_type": "stream",
          "text": [
            "[Parallel(n_jobs=4)]: Using backend LokyBackend with 4 concurrent workers.\n",
            "[Parallel(n_jobs=4)]: Done  18 tasks      | elapsed:    0.1s\n",
            "[Parallel(n_jobs=4)]: Done 150 out of 150 | elapsed:    0.7s finished\n",
            "[Parallel(n_jobs=4)]: Using backend LokyBackend with 4 concurrent workers.\n",
            "[Parallel(n_jobs=4)]: Done  12 tasks      | elapsed:    0.1s\n"
          ],
          "name": "stderr"
        },
        {
          "output_type": "stream",
          "text": [
            "it 10/10-Modelo 3/9\n",
            "mae: 1366.2508766981337\n",
            "Fitting 5 folds for each of 15 candidates, totalling 75 fits\n"
          ],
          "name": "stdout"
        },
        {
          "output_type": "stream",
          "text": [
            "[Parallel(n_jobs=4)]: Done  75 out of  75 | elapsed:    0.5s finished\n",
            "[Parallel(n_jobs=4)]: Using backend LokyBackend with 4 concurrent workers.\n",
            "[Parallel(n_jobs=4)]: Done  14 tasks      | elapsed:    0.1s\n"
          ],
          "name": "stderr"
        },
        {
          "output_type": "stream",
          "text": [
            "it 10/10-Modelo 4/9\n",
            "mae: 1366.2508766981337\n",
            "Fitting 5 folds for each of 75 candidates, totalling 375 fits\n"
          ],
          "name": "stdout"
        },
        {
          "output_type": "stream",
          "text": [
            "[Parallel(n_jobs=4)]: Done 323 tasks      | elapsed:    0.9s\n",
            "[Parallel(n_jobs=4)]: Done 368 out of 375 | elapsed:    1.0s remaining:    0.0s\n",
            "[Parallel(n_jobs=4)]: Done 375 out of 375 | elapsed:    1.0s finished\n",
            "[Parallel(n_jobs=4)]: Using backend LokyBackend with 4 concurrent workers.\n"
          ],
          "name": "stderr"
        },
        {
          "output_type": "stream",
          "text": [
            "it 10/10-Modelo 5/9\n",
            "mae: 1366.2508766981337\n",
            "Fitting 5 folds for each of 75 candidates, totalling 375 fits\n"
          ],
          "name": "stdout"
        },
        {
          "output_type": "stream",
          "text": [
            "[Parallel(n_jobs=4)]: Done  12 tasks      | elapsed:    0.1s\n",
            "[Parallel(n_jobs=4)]: Done 320 tasks      | elapsed:    0.8s\n",
            "[Parallel(n_jobs=4)]: Done 368 out of 375 | elapsed:    0.9s remaining:    0.0s\n",
            "[Parallel(n_jobs=4)]: Done 375 out of 375 | elapsed:    0.9s finished\n",
            "[Parallel(n_jobs=4)]: Using backend LokyBackend with 4 concurrent workers.\n"
          ],
          "name": "stderr"
        },
        {
          "output_type": "stream",
          "text": [
            "it 10/10-Modelo 6/9\n",
            "mae: 1366.2508766981337\n",
            "Fitting 5 folds for each of 75 candidates, totalling 375 fits\n"
          ],
          "name": "stdout"
        },
        {
          "output_type": "stream",
          "text": [
            "[Parallel(n_jobs=4)]: Done  12 tasks      | elapsed:    0.1s\n",
            "[Parallel(n_jobs=4)]: Done 320 tasks      | elapsed:    0.9s\n",
            "[Parallel(n_jobs=4)]: Done 368 out of 375 | elapsed:    1.0s remaining:    0.0s\n",
            "[Parallel(n_jobs=4)]: Done 375 out of 375 | elapsed:    1.0s finished\n",
            "[Parallel(n_jobs=4)]: Using backend LokyBackend with 4 concurrent workers.\n"
          ],
          "name": "stderr"
        },
        {
          "output_type": "stream",
          "text": [
            "it 10/10-Modelo 7/9\n",
            "mae: 1366.2508766981337\n",
            "Fitting 5 folds for each of 75 candidates, totalling 375 fits\n"
          ],
          "name": "stdout"
        },
        {
          "output_type": "stream",
          "text": [
            "[Parallel(n_jobs=4)]: Done  12 tasks      | elapsed:    0.1s\n",
            "[Parallel(n_jobs=4)]: Done 320 tasks      | elapsed:    0.8s\n",
            "[Parallel(n_jobs=4)]: Done 368 out of 375 | elapsed:    0.9s remaining:    0.0s\n",
            "[Parallel(n_jobs=4)]: Done 375 out of 375 | elapsed:    1.0s finished\n",
            "[Parallel(n_jobs=4)]: Using backend LokyBackend with 4 concurrent workers.\n"
          ],
          "name": "stderr"
        },
        {
          "output_type": "stream",
          "text": [
            "it 10/10-Modelo 8/9\n",
            "mae: 1366.2508766981337\n",
            "Fitting 5 folds for each of 15 candidates, totalling 75 fits\n"
          ],
          "name": "stdout"
        },
        {
          "output_type": "stream",
          "text": [
            "[Parallel(n_jobs=4)]: Done  10 tasks      | elapsed:    2.0s\n",
            "[Parallel(n_jobs=4)]: Done  64 tasks      | elapsed:   12.1s\n",
            "[Parallel(n_jobs=4)]: Done  75 out of  75 | elapsed:   13.6s finished\n"
          ],
          "name": "stderr"
        },
        {
          "output_type": "stream",
          "text": [
            "it 10/10-Modelo 9/9\n",
            "mae: 1366.2508766981337\n"
          ],
          "name": "stdout"
        }
      ]
    },
    {
      "cell_type": "code",
      "metadata": {
        "scrolled": true,
        "id": "RwbttGkfwzQr",
        "outputId": "5f1d7673-c3c2-4e57-91c1-309b5cc8c984"
      },
      "source": [
        "plt.figure(figsize=(20,6))\n",
        "plt.boxplot(maed)\n",
        "plt.xticks(ticks=np.arange(len(steps))+1,\n",
        "                      labels=label_model)\n",
        "plt.ylabel('mae -- Contagios por día')\n",
        "plt.show()\n",
        "maed"
      ],
      "execution_count": null,
      "outputs": [
        {
          "output_type": "display_data",
          "data": {
            "image/png": "[encoded data removed]",
            "text/plain": [
              "<Figure size 1440x432 with 1 Axes>"
            ]
          },
          "metadata": {
            "tags": [],
            "needs_background": "light"
          }
        },
        {
          "output_type": "execute_result",
          "data": {
            "text/plain": [
              "array([[1398.02371687, 1398.02371687, 1398.02371687, 1398.02371687,\n",
              "        1398.02371687, 1398.02371687, 1398.02371687, 1398.02371687,\n",
              "        1398.02371687],\n",
              "       [1355.60436203, 1355.60436203, 1355.60436203, 1355.60436203,\n",
              "        1355.60436203, 1355.60436203, 1355.60436203, 1355.60436203,\n",
              "        1355.60436203],\n",
              "       [1372.41081364, 1372.41081364, 1372.41081364, 1372.41081364,\n",
              "        1372.41081364, 1372.41081364, 1372.41081364, 1372.41081364,\n",
              "        1372.41081364],\n",
              "       [1396.63662009, 1396.63662009, 1396.63662009, 1396.63662009,\n",
              "        1396.63662009, 1396.63662009, 1396.63662009, 1396.63662009,\n",
              "        1396.63662009],\n",
              "       [1398.50758783, 1398.50758783, 1398.50758783, 1398.50758783,\n",
              "        1398.50758783, 1398.50758783, 1398.50758783, 1398.50758783,\n",
              "        1398.50758783],\n",
              "       [1430.66887816, 1430.66887816, 1430.66887816, 1430.66887816,\n",
              "        1430.66887816, 1430.66887816, 1430.66887816, 1430.66887816,\n",
              "        1430.66887816],\n",
              "       [1356.79791041, 1356.79791041, 1356.79791041, 1356.79791041,\n",
              "        1356.79791041, 1356.79791041, 1356.79791041, 1356.79791041,\n",
              "        1356.79791041],\n",
              "       [1367.37855558, 1367.37855558, 1367.37855558, 1367.37855558,\n",
              "        1367.37855558, 1367.37855558, 1367.37855558, 1367.37855558,\n",
              "        1367.37855558],\n",
              "       [1369.37990896, 1369.37990896, 1369.37990896, 1369.37990896,\n",
              "        1369.37990896, 1369.37990896, 1369.37990896, 1369.37990896,\n",
              "        1369.37990896],\n",
              "       [1366.2508767 , 1366.2508767 , 1366.2508767 , 1366.2508767 ,\n",
              "        1366.2508767 , 1366.2508767 , 1366.2508767 , 1366.2508767 ,\n",
              "        1366.2508767 ]])"
            ]
          },
          "metadata": {
            "tags": []
          },
          "execution_count": 25
        }
      ]
    },
    {
      "cell_type": "code",
      "metadata": {
        "id": "-5RZ25QtwzQv",
        "outputId": "d13a1aa7-a26d-47a3-a70e-89da6e3608cc"
      },
      "source": [
        "#Train\n",
        "\n",
        "mode_hyper_0d, nh_0d = mode_hyperpar(modelo[0])\n",
        "mode_hyper_1d, nh_1d = mode_hyperpar(modelo[1])"
      ],
      "execution_count": null,
      "outputs": [
        {
          "output_type": "display_data",
          "data": {
            "image/png": "[encoded data removed]",
            "text/plain": [
              "<Figure size 432x288 with 1 Axes>"
            ]
          },
          "metadata": {
            "tags": [],
            "needs_background": "light"
          }
        },
        {
          "output_type": "stream",
          "text": [
            "Modes=  [0.1 1.  0.1]\n"
          ],
          "name": "stdout"
        },
        {
          "output_type": "display_data",
          "data": {
            "image/png": "[encoded data removed]",
            "text/plain": [
              "<Figure size 432x288 with 1 Axes>"
            ]
          },
          "metadata": {
            "tags": [],
            "needs_background": "light"
          }
        },
        {
          "output_type": "stream",
          "text": [
            "Modes=  [0.1 0.1 0.1]\n"
          ],
          "name": "stdout"
        }
      ]
    },
    {
      "cell_type": "code",
      "metadata": {
        "id": "-7fNSXIRwzQz",
        "outputId": "ee80752e-5b68-454f-8e9f-82f7a8f61795"
      },
      "source": [
        "elasticd, params_0d = train_model(modelo[0], nh_0d, mode_hyper_0d)\n",
        "elasticd.set_params(**params_0d)\n",
        "elasticd.fit(Xd,yd)\n",
        "\n",
        "kerneld, params_1d = train_model(modelo[1], nh_1d, mode_hyper_1d)\n",
        "kerneld.set_params(**params_1d)\n",
        "kerneld.fit(Xd,yd)"
      ],
      "execution_count": null,
      "outputs": [
        {
          "output_type": "execute_result",
          "data": {
            "text/plain": [
              "Pipeline(memory=None,\n",
              "         steps=[('scaler',\n",
              "                 StandardScaler(copy=True, with_mean=True, with_std=True)),\n",
              "                ('rep',\n",
              "                 PCA(copy=True, iterated_power='auto', n_components=0.1,\n",
              "                     random_state=None, svd_solver='auto', tol=0.0,\n",
              "                     whiten=False)),\n",
              "                ('reg',\n",
              "                 KernelRidge(alpha=0.1, coef0=1, degree=3, gamma=0.1,\n",
              "                             kernel='sigmoid', kernel_params=None))],\n",
              "         verbose=False)"
            ]
          },
          "metadata": {
            "tags": []
          },
          "execution_count": 20
        }
      ]
    },
    {
      "cell_type": "code",
      "metadata": {
        "id": "x0gKkDgSwzQ3",
        "outputId": "3d203f70-de1d-4715-c436-571a85981c4f"
      },
      "source": [
        "y_pred_ed = elasticd.predict(serie_d[len(serie_d)-w:].reshape(1,-1))[0]\n",
        "y_pred_kd = kerneld.predict(serie_d[len(serie_d)-w:].reshape(1,-1))[0]\n",
        "\n",
        "print('Predicción contagiados covid19 ',date.today(),\n",
        "      '\\nElastic Net: ', y_pred_ed,\n",
        "      '\\nKernel Ridge (sigmoid): ', y_pred_kd)"
      ],
      "execution_count": null,
      "outputs": [
        {
          "output_type": "stream",
          "text": [
            "Predicción contagiados covid19  2020-05-07 \n",
            "Elastic Net:  373.61862752788176 \n",
            "Kernel Ridge (sigmoid):  [444.8089572]\n"
          ],
          "name": "stdout"
        }
      ]
    },
    {
      "cell_type": "code",
      "metadata": {
        "id": "HSQm-AS5wzQ9",
        "outputId": "f0205f93-3b2c-4218-d9e8-727e84ab93aa"
      },
      "source": [
        "plt.plot(yd)\n",
        "plt.plot(len(yd),y_pred_ed, '*', label='elastic net')\n",
        "plt.plot(len(yd),y_pred_kd, '*', label='kernel ridge')\n",
        "\n",
        "plt.legend(loc='best')\n",
        "plt.show()"
      ],
      "execution_count": null,
      "outputs": [
        {
          "output_type": "display_data",
          "data": {
            "image/png": "[encoded data removed]",
            "text/plain": [
              "<Figure size 432x288 with 1 Axes>"
            ]
          },
          "metadata": {
            "tags": [],
            "needs_background": "light"
          }
        }
      ]
    },
    {
      "cell_type": "code",
      "metadata": {
        "id": "Wv_O29h2wzRD",
        "outputId": "7cebffeb-c035-4cd2-c0b0-3fe4950be4d9"
      },
      "source": [
        "plt.plot(yd, label='objetivo')\n",
        "plt.plot(elasticd.predict(Xd), label='elasticNet')\n",
        "plt.plot(kerneld.predict(Xd), label='kernelRidge')\n",
        "\n",
        "plt.legend(loc='best')\n",
        "plt.show()"
      ],
      "execution_count": null,
      "outputs": [
        {
          "output_type": "display_data",
          "data": {
            "image/png": "[encoded data removed]",
            "text/plain": [
              "<Figure size 432x288 with 1 Axes>"
            ]
          },
          "metadata": {
            "tags": [],
            "needs_background": "light"
          }
        }
      ]
    },
    {
      "cell_type": "code",
      "metadata": {
        "id": "RXdt6o4owzRI"
      },
      "source": [
        ""
      ],
      "execution_count": null,
      "outputs": []
    }
  ]
}
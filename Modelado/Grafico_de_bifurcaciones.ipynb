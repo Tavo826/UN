{
  "nbformat": 4,
  "nbformat_minor": 0,
  "metadata": {
    "colab": {
      "name": "Grafico de bifurcaciones.ipynb",
      "provenance": [],
      "collapsed_sections": [],
      "include_colab_link": true
    },
    "kernelspec": {
      "name": "python3",
      "display_name": "Python 3"
    }
  },
  "cells": [
    {
      "cell_type": "markdown",
      "metadata": {
        "id": "view-in-github",
        "colab_type": "text"
      },
      "source": [
        "<a href=\"https://colab.research.google.com/github/Tavo826/UN/blob/main/Grafico_de_bifurcaciones.ipynb\" target=\"_parent\"><img src=\"https://colab.research.google.com/assets/colab-badge.svg\" alt=\"Open In Colab\"/></a>"
      ]
    },
    {
      "cell_type": "code",
      "metadata": {
        "id": "4-0coDlktYh8",
        "colab": {
          "base_uri": "https://localhost:8080/",
          "height": 248
        },
        "outputId": "cab14179-27a1-4d86-cbf8-a67978ae5fbf"
      },
      "source": [
        "# Ejemplo página 55  Strogatz\n",
        "import numpy as np\n",
        "import matplotlib.pyplot as plt\n",
        "\n",
        "# CÃ¡lculos para el dibujo el grÃ¡fico auxiliar para visualizar los puntos fijos\n",
        "\n",
        "r = 4\n",
        "x = np.linspace(-3,3)\n",
        "dx = r*x-x**3\n",
        "\n",
        "# Dibuja el grÃ¡fico auxiliar x vs. \\dot x\n",
        "\n",
        "fig = plt.figure()\n",
        "ax = fig.add_subplot(1,1,1)\n",
        "\n",
        "ax.spines['left'].set_position(('data',0.0))\n",
        "ax.spines['bottom'].set_position(('data',0.0))\n",
        "ax.spines['top'].set_color('none')\n",
        "ax.spines['right'].set_color('none')\n",
        "#ax.set_xticks([-2,-1,1,2])\n",
        "#ax.set_yticks([-6,-4,-2,2,4,6])\n",
        "\n",
        "plt.plot(x,dx)\n",
        "plt.show()"
      ],
      "execution_count": null,
      "outputs": [
        {
          "output_type": "display_data",
          "data": {
            "image/png": "[encoded data removed]",
            "text/plain": [
              "<Figure size 432x288 with 1 Axes>"
            ]
          },
          "metadata": {
            "tags": [],
            "needs_background": "light"
          }
        }
      ]
    },
    {
      "cell_type": "code",
      "metadata": {
        "id": "3TSGkbVUV_ax",
        "colab": {
          "base_uri": "https://localhost:8080/",
          "height": 265
        },
        "outputId": "754d9003-f01b-4caa-c464-a9de2ab73c0c"
      },
      "source": [
        "from scipy.integrate import solve_ivp\n",
        "# Ejemplo página 55  Strogatz\n",
        "\n",
        "def dx(t, x, r ,b): return r*x-x**b\n",
        "\n",
        "r,b = 4,3\n",
        "x0 = np.linspace(-6,6,10)\n",
        "tspan = [0, 1]\n",
        "sol = solve_ivp(dx, tspan, x0,args=(r,b),\\\n",
        "                dense_output = True)\n",
        "\n",
        "#print(sol.t)\n",
        "#print(sol.y[0])\n",
        "t = np.linspace(tspan[0],tspan[1],101)\n",
        "x = sol.sol(t)\n",
        "for i in range(x0.size):\n",
        "  #plt.plot(sol.t,sol.y[i])\n",
        "  plt.plot(t,x[i])\n",
        "\n",
        "x0 = np.linspace(-2,2,10)\n",
        "tspan = [0, -1]\n",
        "sol = solve_ivp(dx, tspan, x0,args=(r,b),\\\n",
        "                dense_output = True)\n",
        "\n",
        "#print(sol.t)\n",
        "#print(sol.y[0])\n",
        "t = np.linspace(tspan[0],tspan[1],101)\n",
        "x = sol.sol(t)\n",
        "for i in range(x0.size):\n",
        "  #plt.plot(sol.t,sol.y[i])\n",
        "  plt.plot(t,x[i])\n",
        "plt.show()"
      ],
      "execution_count": null,
      "outputs": [
        {
          "output_type": "display_data",
          "data": {
            "image/png": "[encoded data removed]",
            "text/plain": [
              "<Figure size 432x288 with 1 Axes>"
            ]
          },
          "metadata": {
            "tags": [],
            "needs_background": "light"
          }
        }
      ]
    },
    {
      "cell_type": "code",
      "metadata": {
        "id": "jpST4XW6WJIb",
        "colab": {
          "base_uri": "https://localhost:8080/",
          "height": 1000
        },
        "outputId": "eebfff1f-cacd-4d9a-e4f2-b0a2cda9ac4c"
      },
      "source": [
        "import numpy as np\n",
        "import matplotlib.pyplot as plt\n",
        "from scipy.integrate import solve_ivp\n",
        "import time\n",
        "# Equation in exercise_2_2_1\n",
        "def dx(t, x, r ,b): return r*x-x**b\n",
        "\n",
        "#r = 4\n",
        "b = 3\n",
        "x0 = np.linspace(-6,6,10)\n",
        "tspan = [0, 100]\n",
        "\n",
        "r = np.linspace(-2,2,100)\n",
        "tic = time.time()\n",
        "for j in range(r.size):\n",
        "    sol = solve_ivp(dx, tspan, x0,args=(r[j],b))\n",
        "\n",
        "    #print(sol.t)\n",
        "    #print(sol.y[0])\n",
        "    t = sol.t\n",
        "    x = sol.y\n",
        "    for i in range(x0.size):\n",
        "        #plt.plot(r[j],x[i,-1])\n",
        "        plt.scatter(r[j],x[i,-1] , color='darkgreen', marker='.')\n",
        "        #print(r[j],x[i,-1])\n",
        "\n",
        "\n",
        "r,b = 4,3\n",
        "x0 = np.linspace(-.1,.1,5)\n",
        "tspan = [0, -100]\n",
        "\n",
        "r = np.linspace(0.1,2,100)\n",
        "tic = time.time()\n",
        "for j in range(r.size):\n",
        "    sol = solve_ivp(dx, tspan, x0,args=(r[j],b))\n",
        "\n",
        "    #print(sol.t)\n",
        "    #print(sol.y[0])\n",
        "    t = sol.t\n",
        "    x = sol.y\n",
        "    #print(x.shape)\n",
        "    for i in range(x0.size):\n",
        "        #plt.plot(r[j],x[i,-1])\n",
        "        plt.scatter(r[j],x[i,-1] , color='red', marker='.')\n",
        "        #print(r[j],x[i,-1])\n",
        "\n",
        "\n",
        "toc = time.time()\n",
        "plt.show()\n",
        "print(toc-tic)\n"
      ],
      "execution_count": null,
      "outputs": [
        {
          "output_type": "stream",
          "text": [
            "(5, 13)\n",
            "(5, 14)\n",
            "(5, 14)\n",
            "(5, 15)\n",
            "(5, 15)\n",
            "(5, 16)\n",
            "(5, 16)\n",
            "(5, 17)\n",
            "(5, 17)\n",
            "(5, 18)\n",
            "(5, 19)\n",
            "(5, 19)\n",
            "(5, 20)\n",
            "(5, 20)\n",
            "(5, 21)\n",
            "(5, 21)\n",
            "(5, 22)\n",
            "(5, 23)\n",
            "(5, 23)\n",
            "(5, 24)\n",
            "(5, 24)\n",
            "(5, 25)\n",
            "(5, 25)\n",
            "(5, 26)\n",
            "(5, 27)\n",
            "(5, 27)\n",
            "(5, 28)\n",
            "(5, 28)\n",
            "(5, 29)\n",
            "(5, 29)\n",
            "(5, 30)\n",
            "(5, 30)\n",
            "(5, 31)\n",
            "(5, 32)\n",
            "(5, 32)\n",
            "(5, 33)\n",
            "(5, 33)\n",
            "(5, 34)\n",
            "(5, 34)\n",
            "(5, 35)\n",
            "(5, 35)\n",
            "(5, 36)\n",
            "(5, 37)\n",
            "(5, 37)\n",
            "(5, 38)\n",
            "(5, 38)\n",
            "(5, 39)\n",
            "(5, 39)\n",
            "(5, 40)\n",
            "(5, 41)\n",
            "(5, 41)\n",
            "(5, 42)\n",
            "(5, 42)\n",
            "(5, 43)\n",
            "(5, 43)\n",
            "(5, 44)\n",
            "(5, 45)\n",
            "(5, 45)\n",
            "(5, 46)\n",
            "(5, 46)\n",
            "(5, 47)\n",
            "(5, 48)\n",
            "(5, 48)\n",
            "(5, 49)\n",
            "(5, 49)\n",
            "(5, 50)\n",
            "(5, 51)\n",
            "(5, 51)\n",
            "(5, 52)\n",
            "(5, 52)\n",
            "(5, 53)\n",
            "(5, 53)\n",
            "(5, 54)\n",
            "(5, 55)\n",
            "(5, 55)\n",
            "(5, 56)\n",
            "(5, 56)\n",
            "(5, 57)\n",
            "(5, 57)\n",
            "(5, 58)\n",
            "(5, 58)\n",
            "(5, 59)\n",
            "(5, 60)\n",
            "(5, 60)\n",
            "(5, 61)\n",
            "(5, 61)\n",
            "(5, 62)\n",
            "(5, 63)\n",
            "(5, 63)\n",
            "(5, 64)\n",
            "(5, 64)\n",
            "(5, 65)\n",
            "(5, 66)\n",
            "(5, 66)\n",
            "(5, 67)\n",
            "(5, 67)\n",
            "(5, 68)\n",
            "(5, 68)\n",
            "(5, 69)\n",
            "(5, 70)\n"
          ],
          "name": "stdout"
        },
        {
          "output_type": "display_data",
          "data": {
            "image/png": "[encoded data removed]",
            "text/plain": [
              "<Figure size 432x288 with 1 Axes>"
            ]
          },
          "metadata": {
            "tags": [],
            "needs_background": "light"
          }
        },
        {
          "output_type": "stream",
          "text": [
            "2.785360336303711\n"
          ],
          "name": "stdout"
        }
      ]
    },
    {
      "cell_type": "code",
      "metadata": {
        "id": "XJb6CjANWAWy",
        "colab": {
          "base_uri": "https://localhost:8080/",
          "height": 268
        },
        "outputId": "74231417-8a23-4f40-ebdd-6a7e506fe981"
      },
      "source": [
        "# Ejercicio 3.1.1. página 79  Strogatz\n",
        "import numpy as np\n",
        "import matplotlib.pyplot as plt\n",
        "\n",
        "# CÃ¡lculos para el dibujo el grÃ¡fico auxiliar para visualizar los puntos fijos\n",
        "\n",
        "r = 1\n",
        "x = np.linspace(-3,3)\n",
        "dx = 1+r*x+x**2\n",
        "\n",
        "# Dibuja el grÃ¡fico auxiliar x vs. \\dot x\n",
        "\n",
        "fig = plt.figure()\n",
        "ax = fig.add_subplot(1,1,1)\n",
        "\n",
        "ax.spines['left'].set_position(('data',0.0))\n",
        "ax.spines['bottom'].set_position(('data',0.0))\n",
        "ax.spines['top'].set_color('none')\n",
        "ax.spines['right'].set_color('none')\n",
        "ax.set_xticks([-2,-1,1,2])\n",
        "ax.set_yticks([-6,-4,-2,2,4,6])\n",
        "\n",
        "\n",
        "\n",
        "plt.plot(x,dx)\n",
        "plt.show()"
      ],
      "execution_count": null,
      "outputs": [
        {
          "output_type": "display_data",
          "data": {
            "image/png": "[encoded data removed]",
            "text/plain": [
              "<Figure size 432x288 with 1 Axes>"
            ]
          },
          "metadata": {
            "tags": [],
            "needs_background": "light"
          }
        }
      ]
    }
  ]
}
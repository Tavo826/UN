{
  "nbformat": 4,
  "nbformat_minor": 0,
  "metadata": {
    "colab": {
      "name": "Sol_EDO.ipynb",
      "provenance": [],
      "collapsed_sections": [],
      "mount_file_id": "1sHaeuYsfEVSZCdtwDVKNIneEvFxCsRWy",
      "authorship_tag": "ABX9TyPJ2UgU00TfWOTH4DGZNBBc",
      "include_colab_link": true
    },
    "kernelspec": {
      "name": "python3",
      "display_name": "Python 3"
    }
  },
  "cells": [
    {
      "cell_type": "markdown",
      "metadata": {
        "id": "view-in-github",
        "colab_type": "text"
      },
      "source": [
        "<a href=\"https://colab.research.google.com/github/Tavo826/UN/blob/main/Sol_EDO.ipynb\" target=\"_parent\"><img src=\"https://colab.research.google.com/assets/colab-badge.svg\" alt=\"Open In Colab\"/></a>"
      ]
    },
    {
      "cell_type": "markdown",
      "metadata": {
        "id": "zTASIKloX3Uj"
      },
      "source": [
        "# Organizar EDO solutions y búsqueda de raíces"
      ]
    },
    {
      "cell_type": "code",
      "metadata": {
        "id": "co2fTw_yS6Dm"
      },
      "source": [
        "import matplotlib.style\n",
        "matplotlib.style.use('classic')\n",
        "import numpy as np\n",
        "from matplotlib import pyplot as plt\n",
        "from math import sin\n",
        "\n",
        "%matplotlib inline"
      ],
      "execution_count": null,
      "outputs": []
    },
    {
      "cell_type": "markdown",
      "metadata": {
        "id": "nxLZC5YzR_NF"
      },
      "source": [
        "# Método de Euler"
      ]
    },
    {
      "cell_type": "code",
      "metadata": {
        "id": "fv85jRZBR22K"
      },
      "source": [
        "def euler(func, h, tini, tfin, x0, params):\n",
        "\n",
        "    '''\n",
        "    ENTRADAS:\n",
        "\n",
        "    func   -> función a evaluar\n",
        "    h      -> tamaño del incremento\n",
        "    tini   -> timepo inicial\n",
        "    tfin   -> tiempo final\n",
        "    x0     -> valor de la condición inicial\n",
        "    params -> parámetros necesarios para el método\n",
        "\n",
        "    SALIDAS:\n",
        "\n",
        "    t -> lista de tiempos\n",
        "    x -> lista de posiciones\n",
        "    '''\n",
        "\n",
        "    ti = tini  \n",
        "    xi = x0\n",
        "  \n",
        "    x = list()\n",
        "    t = list()\n",
        "  \n",
        "    while ( ti < tfin ):\n",
        "    \n",
        "      x.append (xi)\n",
        "      t.append (ti)\n",
        "  \n",
        "      xi = xi + h*func(ti,xi,params)\n",
        "      ti = ti + h\n",
        "    return t, x "
      ],
      "execution_count": null,
      "outputs": []
    },
    {
      "cell_type": "markdown",
      "metadata": {
        "id": "wMELkkS3Tj5u"
      },
      "source": [
        "# Método de Runge-Kutta orden 4"
      ]
    },
    {
      "cell_type": "code",
      "metadata": {
        "id": "pUQquP5KTi-c"
      },
      "source": [
        "def rk4(func, h, tini, tfin, x0, params):\n",
        "\n",
        "    '''\n",
        "    ENTRADAS:\n",
        "\n",
        "    func   -> función a evaluar\n",
        "    h      -> tamaño del incremento\n",
        "    tini   -> timepo inicial\n",
        "    tfin   -> tiempo final\n",
        "    x0     -> valor de la condición inicial\n",
        "    params -> parámetros necesarios para el método\n",
        "\n",
        "    SALIDAS:\n",
        "\n",
        "    t -> lista de tiempos\n",
        "    x -> lista de posiciones\n",
        "    '''\n",
        "\n",
        "    ti = tini  \n",
        "    xi = x0\n",
        "  \n",
        "    x = list()\n",
        "    t = list()\n",
        "  \n",
        "    while ( ti < tfin ):\n",
        "\n",
        "      x.append (xi)\n",
        "      t.append (ti)\n",
        "      k1 = func( ti,xi,params)\n",
        "      k2 = func( ti + 0.5*h,xi + 0.5*k1*h,params )\n",
        "      k3 = func( ti + 0.5*h,xi + 0.5*k2*h,params)\n",
        "      k4 = func( ti + h,xi + k3*h,params) \n",
        "\n",
        "      xi = xi + h*(k1 + 2*k2 + 2*k3 + k4)/6\n",
        "      ti = ti + h\n",
        "    return t, x"
      ],
      "execution_count": null,
      "outputs": []
    },
    {
      "cell_type": "markdown",
      "metadata": {
        "id": "T5vmEe5sWvS5"
      },
      "source": [
        "# Método de Runge-Kutta adaptativo"
      ]
    },
    {
      "cell_type": "code",
      "metadata": {
        "id": "RYFAUp4IFEPv"
      },
      "source": [
        "def odesolver12(f, t, y, h):\n",
        "    \"\"\"Calculate the next step of an initial value problem (IVP) of\n",
        "    an ODE with a RHS described by f, with an order 1 approx.\n",
        "    (Eulers Method) and an order 2 approx. (Midpoint Rule). This is \n",
        "    the simplest embedded RK pair.\n",
        "    Parameters:\n",
        "        f: function. RHS of ODE.\n",
        "        t: float. Current time.\n",
        "        y: float. Current position.\n",
        "        h: float. Step length.\n",
        "    Returns:\n",
        "        q: float. Order 1 approx.\n",
        "        w: float. Order 2 approx.\n",
        "    \"\"\"\n",
        "    s1 = f(t, y)\n",
        "    s2 = f(t+h, y+h*s1)\n",
        "    w = y + h*s1\n",
        "    q = y + h/2.0*(s1+s2)\n",
        "    return w, q\n",
        "\n",
        "def odesolver23(f, t, y, h):\n",
        "    \"\"\"Calculate the next step of an IVP of an ODE with a RHS\n",
        "    described by f, with an order 2 approx. (Explicit Trapezoid \n",
        "    Method) and an order 3 approx. (third order RK).\n",
        "    Parameters:\n",
        "        f: function. RHS of ODE.\n",
        "        t: float. Current time.\n",
        "        y: float. Current position.\n",
        "        h: float. Step length.\n",
        "    Returns:\n",
        "        q: float. Order 2 approx.\n",
        "        w: float. Order 3 approx.\n",
        "    \"\"\"\n",
        "    s1 = f(t, y)\n",
        "    s2 = f(t+h, y+h*s1)\n",
        "    s3 = f(t+h/2.0, y+h*(s1+s2)/4.0)\n",
        "    w = y + h*(s1+s2)/2.0\n",
        "    q = y + h*(s1+4.0*s3+s2)/6.0\n",
        "    return w, q\n",
        "\n",
        "def odesolver45(f, t, y, h):\n",
        "    \"\"\"Calculate the next step of an IVP of an ODE with a RHS\n",
        "    described by f, with an order 4 approx. and an order 5 approx.\n",
        "    Parameters:\n",
        "        f: function. RHS of ODE.\n",
        "        t: float. Current time.\n",
        "        y: float. Current position.\n",
        "        h: float. Step length.\n",
        "    Returns:\n",
        "        q: float. Order 2 approx.\n",
        "        w: float. Order 3 approx.\n",
        "    \"\"\"\n",
        "    s1 = f(t, y)\n",
        "    s2 = f(t+h/4.0, y+h*s1/4.0)\n",
        "    s3 = f(t+3.0*h/8.0, y+3.0*h*s1/32.0+9.0*h*s2/32.0)\n",
        "    s4 = f(t+12.0*h/13.0, y+1932.0*h*s1/2197.0-7200.0*h*s2/2197.0+7296.0*h*s3/2197.0)\n",
        "    s5 = f(t+h, y+439.0*h*s1/216.0-8.0*h*s2+3680.0*h*s3/513.0-845.0*h*s4/4104.0)\n",
        "    s6 = f(t+h/2.0, y-8.0*h*s1/27.0+2*h*s2-3544.0*h*s3/2565+1859.0*h*s4/4104.0-11.0*h*s5/40.0)\n",
        "    w = y + h*(25.0*s1/216.0+1408.0*s3/2565.0+2197.0*s4/4104.0-s5/5.0)\n",
        "    q = y + h*(16.0*s1/135.0+6656.0*s3/12825.0+28561.0*s4/56430.0-9.0*s5/50.0+2.0*s6/55.0)\n",
        "    return w, q"
      ],
      "execution_count": null,
      "outputs": []
    },
    {
      "cell_type": "code",
      "metadata": {
        "id": "iNbW2AW_W1L8"
      },
      "source": [
        "\n",
        "def rk_adaptive(ode, rhs, y0=0.0, t0=0.0, TOL=1e-04, theta=1e-02, tmax=1.0):\n",
        "    \n",
        "    \"\"\"Perform an adaptive RK method.\n",
        "    Parameters:\n",
        "        ode:   function. ODE solver.\n",
        "        rhs:   function. RHS of ODE.\n",
        "        y0:    float, optional. Initial position.\n",
        "        t0:    float, optional. Initial time.\n",
        "        TOL:   float, optional. Tolerance of relative error.\n",
        "        theta: float, optional. \"Protective\" constant.\n",
        "        tmax:  float, optional. End of calculation interval.\n",
        "    Returns:\n",
        "        y:     list. Position.\n",
        "        t:     list. Time.\n",
        "        i:     int. Number of iterations\n",
        "    \"\"\"\n",
        "    \n",
        "    # Allocate lists to store position and time and set\n",
        "    # initial conditions.\n",
        "    y = []\n",
        "    t = []\n",
        "    y.append(y0)\n",
        "    t.append(t0)\n",
        "    \n",
        "    # Set initial step size and declare iteration integer\n",
        "    h = 1.0\n",
        "    i = 0\n",
        "    \n",
        "    while (t[i] < tmax):\n",
        "        # Get two different approximations\n",
        "        w, q = ode(rhs, t[i], y[i], h)\n",
        "        # Estimate error\n",
        "        e = abs((w-q)/max(w, theta))\n",
        "        # If e larger thant TOL, decrease step length\n",
        "        if (e > TOL):\n",
        "            h = 0.8*(TOL*e)**(1/5)*h\n",
        "            # Get two new approximations\n",
        "            w, q = ode(rhs, t[i], y[i], h)\n",
        "            # Estimate new error\n",
        "            e = abs((w-q)/max(w, theta))\n",
        "            # If e still larger than TOL, halve step length until False\n",
        "            while (e > TOL):\n",
        "                h = h/2.0\n",
        "                # New approximations\n",
        "                w, q = ode(rhs, t[i], y[i], h)\n",
        "                # New error estimate\n",
        "                e = abs((w-q)/max(w, theta))\n",
        "        # Store highest order approximation as next y-value\n",
        "        y.append(q)\n",
        "        # Store current time + step size as next time\n",
        "        t.append(t[i] + h)\n",
        "        # Increment step number\n",
        "        i += 1\n",
        "        # Check if e is too small, if so, double step size\n",
        "        if (e < 0.1*TOL):\n",
        "            h = h*2.0\n",
        "    \n",
        "    return t, y, i"
      ],
      "execution_count": null,
      "outputs": []
    },
    {
      "cell_type": "markdown",
      "metadata": {
        "id": "PgQILcjiXF0a"
      },
      "source": [
        "# Algoritmo de bisección"
      ]
    },
    {
      "cell_type": "code",
      "metadata": {
        "id": "aJqCrZsPXE7e"
      },
      "source": [
        "x=np.linspace(-2,5,100)\n",
        "\n",
        "y=np.exp(-x)-x\n",
        "plt.plot(x,y)\n",
        "\n",
        "def f(x): return np.exp(-x)-x\n",
        "def df(x): return -np.exp(-x)-1\n",
        "iteration=1\n",
        "\n",
        "xi=-0.5\n",
        "tol=1e-19\n",
        "diff=np.abs(xi-x_next)\n",
        "\n",
        "while tol<diff:\n",
        "  x_next= xi-(f(xi)/df(xi))\n",
        "  diff=np.abs(xi-x_next)\n",
        "  xi=x_next\n",
        "  iteration=iteration+1\n",
        "\n",
        "plt.plot(xi,f(xi),'ro')\n",
        "print('The root of f(x)=0 is %f with %f iterations' %(xi, iteration))\n",
        "\n",
        "#Por iteraciones\n",
        "\n",
        "N = 5\n",
        "\n",
        "x_cur = 1.0\n",
        "i=0\n",
        "print(x_cur)\n",
        "\n",
        "for i in range(N):\n",
        "  i=i+1\n",
        "  x_cur = x_cur-(2-x_cur**4-np.tanh(x_cur))/(-4*x_cur**3-1/(np.cosh(x_cur))**2)\n",
        "  print(x_cur)\n",
        "    \n",
        "print(r'Value at last iteration, f(x_cur) = %s' % f(x_cur))"
      ],
      "execution_count": null,
      "outputs": []
    },
    {
      "cell_type": "code",
      "metadata": {
        "id": "AccCrlpUX_M4"
      },
      "source": [
        "# Algoritmo de Newton-Raphson"
      ],
      "execution_count": null,
      "outputs": []
    },
    {
      "cell_type": "code",
      "metadata": {
        "id": "k9GMlVtmYUZA"
      },
      "source": [
        ""
      ],
      "execution_count": null,
      "outputs": []
    },
    {
      "cell_type": "markdown",
      "metadata": {
        "id": "gtTByA1SYchE"
      },
      "source": [
        "# Método de Euler explícito"
      ]
    },
    {
      "cell_type": "code",
      "metadata": {
        "id": "JbiUY9fQYdA2"
      },
      "source": [
        ""
      ],
      "execution_count": null,
      "outputs": []
    },
    {
      "cell_type": "markdown",
      "metadata": {
        "id": "WdyseejbYU7c"
      },
      "source": [
        "# Método de Euler implícito"
      ]
    },
    {
      "cell_type": "code",
      "metadata": {
        "id": "L8zzxQzZYZF9"
      },
      "source": [
        ""
      ],
      "execution_count": null,
      "outputs": []
    },
    {
      "cell_type": "code",
      "metadata": {
        "id": "otYDJ3TeTNfo"
      },
      "source": [
        "def graficar(method, ri, rf, funcion, h, tini, tfin, params):\n",
        "\n",
        "  '''\n",
        "  ENTRADAS:\n",
        "\n",
        "  method  -> método que se quiere graficar\n",
        "  ri, rf  -> rango de condiciones iniciales que se desean evaluar\n",
        "  funcion -> función que se desea evaluar\n",
        "  tini    -> tiempo inicial\n",
        "  tfin    -> tiempo final\n",
        "  params  -> parámetros necesarios para el método\n",
        "\n",
        "  SALIDA:\n",
        "  \n",
        "  Devuelve una figura cun el método evaluado en diferentes condiciones iniciales\n",
        "  '''\n",
        "\n",
        "  if method == 'euler' or method == 'Euler' or method == 'EULER':\n",
        "\n",
        "    for x_0 in range(ri,rf):\n",
        "      t1, x1 = euler(funcion, h, tini, tfin, x_0, params)\n",
        "      if x_0 == ri:\n",
        "        plt.scatter(t1, x1, c='red', s=30, label='Euler')\n",
        "      else:\n",
        "        plt.scatter(t1, x1, c='red', s=30)\n",
        "\n",
        "  if method == 'RK4' or method == 'rk4' or method == 'Rk4':\n",
        "    for x_0 in range(ri,rf):\n",
        "      t2, x2 = rk4(funcion, h, tini, tfin, x_0, params)\n",
        "      if x_0 == ri:\n",
        "        plt.scatter(t2, x2, c='blue', s=20, label=\"RK4\")\n",
        "      else:\n",
        "        plt.scatter(t2, x2, c='blue', s=20)\n",
        "\n",
        "  if method == 'rk_adaptarive' or method == 'rk_adaptativo':\n",
        "    \n",
        "\n",
        "  plt.ylabel('x(t)')\n",
        "  plt.xlabel(r'$t$')\n",
        "  plt.grid()\n",
        "  plt.legend(loc='best')\n",
        "  plt.show()"
      ],
      "execution_count": null,
      "outputs": []
    }
  ]
}